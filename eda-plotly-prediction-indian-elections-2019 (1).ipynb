{
 "cells": [
  {
   "cell_type": "markdown",
   "metadata": {},
   "source": [
    "# How do Indians Vote?"
   ]
  },
  {
   "cell_type": "markdown",
   "metadata": {},
   "source": [
    "![](https://api.time.com/wp-content/uploads/2014/04/486450555.jpg)"
   ]
  },
  {
   "cell_type": "markdown",
   "metadata": {},
   "source": [
    "# Introduction to the analysis"
   ]
  },
  {
   "cell_type": "markdown",
   "metadata": {},
   "source": [
    "India is a country, divided into states and union territories, with a parliamentary system governed under the Constitution of India, which defines the power distribution among the federal government and the states.\n",
    "Election Commission is a federal body, enacted under the provisions of the Constitution, responsible for monitoring and administering all the electoral processes of India. This body is responsible for ensuring elections are free and fair, without any bias\n",
    "\n",
    "**The Analysis here is based on the election to Lok Sabha (The General Elections) for the year 2019**\n",
    "Members of Lok Sabha (House of the People) or the lower house of India's Parliament are elected by being voted upon by all adult citizens of India, from a set of candidates who stand in their respective constituencies. Every adult citizen of India can vote only in their constituency. Candidates who win the Lok Sabha elections are called 'Member of Parliament' and hold their seats for five years or until the body is dissolved by the President on the advice of the council of ministers. The house meets in the Lok Sabha Chambers of the Sansad Bhavan in New Delhi, on matters relating to creation of new laws, removing or improving the existing laws that affect all citizens of India. "
   ]
  },
  {
   "cell_type": "markdown",
   "metadata": {},
   "source": [
    "https://www.kaggle.com/datasets/prakrutchauhan/indian-candidates-for-general-election-2019"
   ]
  },
  {
   "cell_type": "code",
   "execution_count": 45,
   "metadata": {
    "execution": {
     "iopub.execute_input": "2025-03-02T16:13:38.130840Z",
     "iopub.status.busy": "2025-03-02T16:13:38.130509Z",
     "iopub.status.idle": "2025-03-02T16:13:38.134394Z",
     "shell.execute_reply": "2025-03-02T16:13:38.133623Z",
     "shell.execute_reply.started": "2025-03-02T16:13:38.130810Z"
    },
    "trusted": true
   },
   "outputs": [],
   "source": [
    "# https://www.kaggle.com/datasets/somacodes/india-states"
   ]
  },
  {
   "cell_type": "markdown",
   "metadata": {},
   "source": [
    "# Presenting an view before going into the Analysis"
   ]
  },
  {
   "cell_type": "markdown",
   "metadata": {},
   "source": [
    "![](https://upload.wikimedia.org/wikipedia/commons/c/c2/Indian_General_Election_2019.svg)"
   ]
  },
  {
   "cell_type": "markdown",
   "metadata": {},
   "source": [
    "# Importing the dataset"
   ]
  },
  {
   "cell_type": "code",
   "execution_count": null,
   "metadata": {
    "_cell_guid": "b1076dfc-b9ad-4769-8c92-a6c4dae69d19",
    "_uuid": "8f2839f25d086af736a60e9eeb907d3b93b6e0e5",
    "execution": {
     "iopub.execute_input": "2025-03-02T16:11:58.210394Z",
     "iopub.status.busy": "2025-03-02T16:11:58.210155Z",
     "iopub.status.idle": "2025-03-02T16:12:02.585184Z",
     "shell.execute_reply": "2025-03-02T16:12:02.584511Z",
     "shell.execute_reply.started": "2025-03-02T16:11:58.210368Z"
    },
    "trusted": true
   },
   "outputs": [
    {
     "name": "stdout",
     "output_type": "stream",
     "text": [
      "/kaggle/input/indian-candidates-for-general-election-2019/LS_2.0.csv\n",
      "/kaggle/input/india-states/Igismap/Indian_States.shp\n",
      "/kaggle/input/india-states/Igismap/Indian_States.prj\n",
      "/kaggle/input/india-states/Igismap/Indian_States.dbf\n",
      "/kaggle/input/india-states/Igismap/Indian_States.shx\n"
     ]
    },
    {
     "data": {
      "text/html": [
       "        <script type=\"text/javascript\">\n",
       "        window.PlotlyConfig = {MathJaxConfig: 'local'};\n",
       "        if (window.MathJax) {MathJax.Hub.Config({SVG: {font: \"STIX-Web\"}});}\n",
       "        if (typeof require !== 'undefined') {\n",
       "        require.undef(\"plotly\");\n",
       "        requirejs.config({\n",
       "            paths: {\n",
       "                'plotly': ['https://cdn.plot.ly/plotly-latest.min']\n",
       "            }\n",
       "        });\n",
       "        require(['plotly'], function(Plotly) {\n",
       "            window._Plotly = Plotly;\n",
       "        });\n",
       "        }\n",
       "        </script>\n",
       "        "
      ]
     },
     "metadata": {},
     "output_type": "display_data"
    },
    {
     "data": {
      "text/html": [
       "        <script type=\"text/javascript\">\n",
       "        window.PlotlyConfig = {MathJaxConfig: 'local'};\n",
       "        if (window.MathJax) {MathJax.Hub.Config({SVG: {font: \"STIX-Web\"}});}\n",
       "        if (typeof require !== 'undefined') {\n",
       "        require.undef(\"plotly\");\n",
       "        requirejs.config({\n",
       "            paths: {\n",
       "                'plotly': ['https://cdn.plot.ly/plotly-latest.min']\n",
       "            }\n",
       "        });\n",
       "        require(['plotly'], function(Plotly) {\n",
       "            window._Plotly = Plotly;\n",
       "        });\n",
       "        }\n",
       "        </script>\n",
       "        "
      ]
     },
     "metadata": {},
     "output_type": "display_data"
    }
   ],
   "source": [
    "\n",
    "\n",
    "import numpy as np # linear algebra\n",
    "import pandas as pd # data processing, CSV file I/O (e.g. pd.read_csv)\n",
    "\n",
    "# Input data files are available in the read-only \"../input/\" directory\n",
    "# For example, running this (by clicking run or pressing Shift+Enter) will list all files under the input directory\n",
    "\n",
    "import os\n",
    "for dirname, _, filenames in os.walk('input'):\n",
    "    for filename in filenames:\n",
    "        print(os.path.join(dirname, filename))\n",
    "import os, sys\n",
    "from collections import defaultdict\n",
    "from urllib.request import urlopen\n",
    "import json\n",
    "import plotly.graph_objects as go\n",
    "from plotly.subplots import make_subplots\n",
    "from ipywidgets import widgets\n",
    "import geopandas as gpd\n",
    "import matplotlib.pyplot as plt\n",
    "import seaborn as sns\n",
    "%matplotlib inline\n",
    "import random\n",
    "from plotly.offline import download_plotlyjs, init_notebook_mode, plot, iplot\n",
    "import plotly.express as px\n",
    "import plotly.graph_objects as go\n",
    "import plotly.figure_factory as ff\n",
    "from plotly.colors import n_colors\n",
    "from plotly.subplots import make_subplots\n",
    "init_notebook_mode(connected=True)\n",
    "import cufflinks as cf\n",
    "cf.go_offline()\n",
    "from wordcloud import WordCloud , ImageColorGenerator\n",
    "from PIL import Image\n",
    "from sklearn.utils import resample\n",
    "from sklearn.ensemble import RandomForestClassifier\n",
    "from sklearn.model_selection import cross_val_score\n",
    "# You can write up to 5GB to the current directory (/kaggle/working/) that gets preserved as output when you create a version using \"Save & Run All\" \n",
    "# You can also write temporary files to /kaggle/temp/, but they won't be saved outside of the current session"
   ]
  },
  {
   "cell_type": "markdown",
   "metadata": {},
   "source": [
    "# # Lets Check out the data"
   ]
  },
  {
   "cell_type": "code",
   "execution_count": null,
   "metadata": {
    "_cell_guid": "79c7e3d0-c299-4dcb-8224-4455121ee9b0",
    "_uuid": "d629ff2d2480ee46fbb7e2d37f6b5fab8052498a",
    "execution": {
     "iopub.execute_input": "2025-03-02T16:12:02.587088Z",
     "iopub.status.busy": "2025-03-02T16:12:02.586860Z",
     "iopub.status.idle": "2025-03-02T16:12:02.641493Z",
     "shell.execute_reply": "2025-03-02T16:12:02.640621Z",
     "shell.execute_reply.started": "2025-03-02T16:12:02.587065Z"
    },
    "trusted": true
   },
   "outputs": [
    {
     "data": {
      "text/html": [
       "<div>\n",
       "<style scoped>\n",
       "    .dataframe tbody tr th:only-of-type {\n",
       "        vertical-align: middle;\n",
       "    }\n",
       "\n",
       "    .dataframe tbody tr th {\n",
       "        vertical-align: top;\n",
       "    }\n",
       "\n",
       "    .dataframe thead th {\n",
       "        text-align: right;\n",
       "    }\n",
       "</style>\n",
       "<table border=\"1\" class=\"dataframe\">\n",
       "  <thead>\n",
       "    <tr style=\"text-align: right;\">\n",
       "      <th></th>\n",
       "      <th>STATE</th>\n",
       "      <th>CONSTITUENCY</th>\n",
       "      <th>NAME</th>\n",
       "      <th>WINNER</th>\n",
       "      <th>PARTY</th>\n",
       "      <th>SYMBOL</th>\n",
       "      <th>GENDER</th>\n",
       "      <th>CRIMINAL\\nCASES</th>\n",
       "      <th>AGE</th>\n",
       "      <th>CATEGORY</th>\n",
       "      <th>EDUCATION</th>\n",
       "      <th>ASSETS</th>\n",
       "      <th>LIABILITIES</th>\n",
       "      <th>GENERAL\\nVOTES</th>\n",
       "      <th>POSTAL\\nVOTES</th>\n",
       "      <th>TOTAL\\nVOTES</th>\n",
       "      <th>OVER TOTAL ELECTORS \\nIN CONSTITUENCY</th>\n",
       "      <th>OVER TOTAL VOTES POLLED \\nIN CONSTITUENCY</th>\n",
       "      <th>TOTAL ELECTORS</th>\n",
       "    </tr>\n",
       "  </thead>\n",
       "  <tbody>\n",
       "    <tr>\n",
       "      <th>0</th>\n",
       "      <td>Telangana</td>\n",
       "      <td>ADILABAD</td>\n",
       "      <td>SOYAM BAPU RAO</td>\n",
       "      <td>1</td>\n",
       "      <td>BJP</td>\n",
       "      <td>Lotus</td>\n",
       "      <td>MALE</td>\n",
       "      <td>52</td>\n",
       "      <td>52.0</td>\n",
       "      <td>ST</td>\n",
       "      <td>12th Pass</td>\n",
       "      <td>Rs 30,99,414\\n ~ 30 Lacs+</td>\n",
       "      <td>Rs 2,31,450\\n ~ 2 Lacs+</td>\n",
       "      <td>376892</td>\n",
       "      <td>482</td>\n",
       "      <td>377374</td>\n",
       "      <td>25.330684</td>\n",
       "      <td>35.468248</td>\n",
       "      <td>1489790</td>\n",
       "    </tr>\n",
       "    <tr>\n",
       "      <th>1</th>\n",
       "      <td>Telangana</td>\n",
       "      <td>ADILABAD</td>\n",
       "      <td>Godam Nagesh</td>\n",
       "      <td>0</td>\n",
       "      <td>TRS</td>\n",
       "      <td>Car</td>\n",
       "      <td>MALE</td>\n",
       "      <td>0</td>\n",
       "      <td>54.0</td>\n",
       "      <td>ST</td>\n",
       "      <td>Post Graduate</td>\n",
       "      <td>Rs 1,84,77,888\\n ~ 1 Crore+</td>\n",
       "      <td>Rs 8,47,000\\n ~ 8 Lacs+</td>\n",
       "      <td>318665</td>\n",
       "      <td>149</td>\n",
       "      <td>318814</td>\n",
       "      <td>21.399929</td>\n",
       "      <td>29.964370</td>\n",
       "      <td>1489790</td>\n",
       "    </tr>\n",
       "    <tr>\n",
       "      <th>2</th>\n",
       "      <td>Telangana</td>\n",
       "      <td>ADILABAD</td>\n",
       "      <td>RATHOD RAMESH</td>\n",
       "      <td>0</td>\n",
       "      <td>INC</td>\n",
       "      <td>Hand</td>\n",
       "      <td>MALE</td>\n",
       "      <td>3</td>\n",
       "      <td>52.0</td>\n",
       "      <td>ST</td>\n",
       "      <td>12th Pass</td>\n",
       "      <td>Rs 3,64,91,000\\n ~ 3 Crore+</td>\n",
       "      <td>Rs 1,53,00,000\\n ~ 1 Crore+</td>\n",
       "      <td>314057</td>\n",
       "      <td>181</td>\n",
       "      <td>314238</td>\n",
       "      <td>21.092771</td>\n",
       "      <td>29.534285</td>\n",
       "      <td>1489790</td>\n",
       "    </tr>\n",
       "    <tr>\n",
       "      <th>3</th>\n",
       "      <td>Telangana</td>\n",
       "      <td>ADILABAD</td>\n",
       "      <td>NOTA</td>\n",
       "      <td>0</td>\n",
       "      <td>NOTA</td>\n",
       "      <td>NaN</td>\n",
       "      <td>NaN</td>\n",
       "      <td>NaN</td>\n",
       "      <td>NaN</td>\n",
       "      <td>NaN</td>\n",
       "      <td>NaN</td>\n",
       "      <td>NaN</td>\n",
       "      <td>NaN</td>\n",
       "      <td>13030</td>\n",
       "      <td>6</td>\n",
       "      <td>13036</td>\n",
       "      <td>0.875023</td>\n",
       "      <td>1.225214</td>\n",
       "      <td>1489790</td>\n",
       "    </tr>\n",
       "    <tr>\n",
       "      <th>4</th>\n",
       "      <td>Uttar Pradesh</td>\n",
       "      <td>AGRA</td>\n",
       "      <td>Satyapal Singh Baghel</td>\n",
       "      <td>1</td>\n",
       "      <td>BJP</td>\n",
       "      <td>Lotus</td>\n",
       "      <td>MALE</td>\n",
       "      <td>5</td>\n",
       "      <td>58.0</td>\n",
       "      <td>SC</td>\n",
       "      <td>Doctorate</td>\n",
       "      <td>Rs 7,42,74,036\\n ~ 7 Crore+</td>\n",
       "      <td>Rs 86,06,522\\n ~ 86 Lacs+</td>\n",
       "      <td>644459</td>\n",
       "      <td>2416</td>\n",
       "      <td>646875</td>\n",
       "      <td>33.383823</td>\n",
       "      <td>56.464615</td>\n",
       "      <td>1937690</td>\n",
       "    </tr>\n",
       "  </tbody>\n",
       "</table>\n",
       "</div>"
      ],
      "text/plain": [
       "           STATE CONSTITUENCY                   NAME  WINNER PARTY SYMBOL  \\\n",
       "0      Telangana     ADILABAD         SOYAM BAPU RAO       1   BJP  Lotus   \n",
       "1      Telangana     ADILABAD           Godam Nagesh       0   TRS    Car   \n",
       "2      Telangana     ADILABAD          RATHOD RAMESH       0   INC   Hand   \n",
       "3      Telangana     ADILABAD                   NOTA       0  NOTA    NaN   \n",
       "4  Uttar Pradesh         AGRA  Satyapal Singh Baghel       1   BJP  Lotus   \n",
       "\n",
       "  GENDER CRIMINAL\\nCASES   AGE CATEGORY      EDUCATION  \\\n",
       "0   MALE              52  52.0       ST      12th Pass   \n",
       "1   MALE               0  54.0       ST  Post Graduate   \n",
       "2   MALE               3  52.0       ST      12th Pass   \n",
       "3    NaN             NaN   NaN      NaN            NaN   \n",
       "4   MALE               5  58.0       SC      Doctorate   \n",
       "\n",
       "                        ASSETS                  LIABILITIES  GENERAL\\nVOTES  \\\n",
       "0    Rs 30,99,414\\n ~ 30 Lacs+      Rs 2,31,450\\n ~ 2 Lacs+          376892   \n",
       "1  Rs 1,84,77,888\\n ~ 1 Crore+      Rs 8,47,000\\n ~ 8 Lacs+          318665   \n",
       "2  Rs 3,64,91,000\\n ~ 3 Crore+  Rs 1,53,00,000\\n ~ 1 Crore+          314057   \n",
       "3                          NaN                          NaN           13030   \n",
       "4  Rs 7,42,74,036\\n ~ 7 Crore+    Rs 86,06,522\\n ~ 86 Lacs+          644459   \n",
       "\n",
       "   POSTAL\\nVOTES  TOTAL\\nVOTES  OVER TOTAL ELECTORS \\nIN CONSTITUENCY  \\\n",
       "0            482        377374                              25.330684   \n",
       "1            149        318814                              21.399929   \n",
       "2            181        314238                              21.092771   \n",
       "3              6         13036                               0.875023   \n",
       "4           2416        646875                              33.383823   \n",
       "\n",
       "   OVER TOTAL VOTES POLLED \\nIN CONSTITUENCY  TOTAL ELECTORS  \n",
       "0                                  35.468248         1489790  \n",
       "1                                  29.964370         1489790  \n",
       "2                                  29.534285         1489790  \n",
       "3                                   1.225214         1489790  \n",
       "4                                  56.464615         1937690  "
      ]
     },
     "execution_count": 2,
     "metadata": {},
     "output_type": "execute_result"
    }
   ],
   "source": [
    "vote=pd.read_csv('input/indian-candidates-for-general-election-2019/LS_2.0.csv')\n",
    "vote.head()"
   ]
  },
  {
   "cell_type": "markdown",
   "metadata": {},
   "source": [
    "# To help our Analysis, lets go for some..."
   ]
  },
  {
   "cell_type": "markdown",
   "metadata": {},
   "source": [
    "![](https://miro.medium.com/max/500/1*yWFQiGjlgHUVYeh4ELELyw.jpeg)"
   ]
  },
  {
   "cell_type": "markdown",
   "metadata": {},
   "source": [
    "**Identifying the Null values in the columns**"
   ]
  },
  {
   "cell_type": "code",
   "execution_count": 3,
   "metadata": {
    "execution": {
     "iopub.execute_input": "2025-03-02T16:12:02.642709Z",
     "iopub.status.busy": "2025-03-02T16:12:02.642466Z",
     "iopub.status.idle": "2025-03-02T16:12:02.650196Z",
     "shell.execute_reply": "2025-03-02T16:12:02.649502Z",
     "shell.execute_reply.started": "2025-03-02T16:12:02.642684Z"
    },
    "trusted": true
   },
   "outputs": [
    {
     "data": {
      "text/plain": [
       "STATE                                          0\n",
       "CONSTITUENCY                                   0\n",
       "NAME                                           0\n",
       "WINNER                                         0\n",
       "PARTY                                          0\n",
       "SYMBOL                                       245\n",
       "GENDER                                       245\n",
       "CRIMINAL\\nCASES                              245\n",
       "AGE                                          245\n",
       "CATEGORY                                     245\n",
       "EDUCATION                                    245\n",
       "ASSETS                                       245\n",
       "LIABILITIES                                  245\n",
       "GENERAL\\nVOTES                                 0\n",
       "POSTAL\\nVOTES                                  0\n",
       "TOTAL\\nVOTES                                   0\n",
       "OVER TOTAL ELECTORS \\nIN CONSTITUENCY          0\n",
       "OVER TOTAL VOTES POLLED \\nIN CONSTITUENCY      0\n",
       "TOTAL ELECTORS                                 0\n",
       "dtype: int64"
      ]
     },
     "execution_count": 3,
     "metadata": {},
     "output_type": "execute_result"
    }
   ],
   "source": [
    "vote.isnull().sum()"
   ]
  },
  {
   "cell_type": "markdown",
   "metadata": {},
   "source": [
    "**Identifying the null entries in the data**"
   ]
  },
  {
   "cell_type": "code",
   "execution_count": 4,
   "metadata": {
    "execution": {
     "iopub.execute_input": "2025-03-02T16:12:02.651903Z",
     "iopub.status.busy": "2025-03-02T16:12:02.651578Z",
     "iopub.status.idle": "2025-03-02T16:12:02.678552Z",
     "shell.execute_reply": "2025-03-02T16:12:02.677817Z",
     "shell.execute_reply.started": "2025-03-02T16:12:02.651870Z"
    },
    "trusted": true
   },
   "outputs": [
    {
     "data": {
      "text/plain": [
       "array(['NOTA'], dtype=object)"
      ]
     },
     "execution_count": 4,
     "metadata": {},
     "output_type": "execute_result"
    }
   ],
   "source": [
    "vote[vote.SYMBOL.isnull()==True]['NAME'].unique()"
   ]
  },
  {
   "cell_type": "markdown",
   "metadata": {},
   "source": [
    "**Cleaning up the Assets and Liabilities columns**"
   ]
  },
  {
   "cell_type": "code",
   "execution_count": 5,
   "metadata": {
    "execution": {
     "iopub.execute_input": "2025-03-02T16:12:02.681781Z",
     "iopub.status.busy": "2025-03-02T16:12:02.681556Z",
     "iopub.status.idle": "2025-03-02T16:12:02.707482Z",
     "shell.execute_reply": "2025-03-02T16:12:02.706709Z",
     "shell.execute_reply.started": "2025-03-02T16:12:02.681759Z"
    },
    "trusted": true
   },
   "outputs": [
    {
     "data": {
      "text/html": [
       "<div>\n",
       "<style scoped>\n",
       "    .dataframe tbody tr th:only-of-type {\n",
       "        vertical-align: middle;\n",
       "    }\n",
       "\n",
       "    .dataframe tbody tr th {\n",
       "        vertical-align: top;\n",
       "    }\n",
       "\n",
       "    .dataframe thead th {\n",
       "        text-align: right;\n",
       "    }\n",
       "</style>\n",
       "<table border=\"1\" class=\"dataframe\">\n",
       "  <thead>\n",
       "    <tr style=\"text-align: right;\">\n",
       "      <th></th>\n",
       "      <th>STATE</th>\n",
       "      <th>CONSTITUENCY</th>\n",
       "      <th>NAME</th>\n",
       "      <th>WINNER</th>\n",
       "      <th>PARTY</th>\n",
       "      <th>SYMBOL</th>\n",
       "      <th>GENDER</th>\n",
       "      <th>CRIMINAL\\nCASES</th>\n",
       "      <th>AGE</th>\n",
       "      <th>CATEGORY</th>\n",
       "      <th>EDUCATION</th>\n",
       "      <th>ASSETS</th>\n",
       "      <th>LIABILITIES</th>\n",
       "      <th>GENERAL\\nVOTES</th>\n",
       "      <th>POSTAL\\nVOTES</th>\n",
       "      <th>TOTAL\\nVOTES</th>\n",
       "      <th>OVER TOTAL ELECTORS \\nIN CONSTITUENCY</th>\n",
       "      <th>OVER TOTAL VOTES POLLED \\nIN CONSTITUENCY</th>\n",
       "      <th>TOTAL ELECTORS</th>\n",
       "    </tr>\n",
       "  </thead>\n",
       "  <tbody>\n",
       "    <tr>\n",
       "      <th>0</th>\n",
       "      <td>Telangana</td>\n",
       "      <td>ADILABAD</td>\n",
       "      <td>SOYAM BAPU RAO</td>\n",
       "      <td>1</td>\n",
       "      <td>BJP</td>\n",
       "      <td>Lotus</td>\n",
       "      <td>MALE</td>\n",
       "      <td>52</td>\n",
       "      <td>52.0</td>\n",
       "      <td>ST</td>\n",
       "      <td>12th Pass</td>\n",
       "      <td>3099414</td>\n",
       "      <td>231450</td>\n",
       "      <td>376892</td>\n",
       "      <td>482</td>\n",
       "      <td>377374</td>\n",
       "      <td>25.330684</td>\n",
       "      <td>35.468248</td>\n",
       "      <td>1489790</td>\n",
       "    </tr>\n",
       "    <tr>\n",
       "      <th>1</th>\n",
       "      <td>Telangana</td>\n",
       "      <td>ADILABAD</td>\n",
       "      <td>Godam Nagesh</td>\n",
       "      <td>0</td>\n",
       "      <td>TRS</td>\n",
       "      <td>Car</td>\n",
       "      <td>MALE</td>\n",
       "      <td>0</td>\n",
       "      <td>54.0</td>\n",
       "      <td>ST</td>\n",
       "      <td>Post Graduate</td>\n",
       "      <td>18477888</td>\n",
       "      <td>847000</td>\n",
       "      <td>318665</td>\n",
       "      <td>149</td>\n",
       "      <td>318814</td>\n",
       "      <td>21.399929</td>\n",
       "      <td>29.964370</td>\n",
       "      <td>1489790</td>\n",
       "    </tr>\n",
       "    <tr>\n",
       "      <th>2</th>\n",
       "      <td>Telangana</td>\n",
       "      <td>ADILABAD</td>\n",
       "      <td>RATHOD RAMESH</td>\n",
       "      <td>0</td>\n",
       "      <td>INC</td>\n",
       "      <td>Hand</td>\n",
       "      <td>MALE</td>\n",
       "      <td>3</td>\n",
       "      <td>52.0</td>\n",
       "      <td>ST</td>\n",
       "      <td>12th Pass</td>\n",
       "      <td>36491000</td>\n",
       "      <td>15300000</td>\n",
       "      <td>314057</td>\n",
       "      <td>181</td>\n",
       "      <td>314238</td>\n",
       "      <td>21.092771</td>\n",
       "      <td>29.534285</td>\n",
       "      <td>1489790</td>\n",
       "    </tr>\n",
       "    <tr>\n",
       "      <th>3</th>\n",
       "      <td>Telangana</td>\n",
       "      <td>ADILABAD</td>\n",
       "      <td>NOTA</td>\n",
       "      <td>0</td>\n",
       "      <td>NOTA</td>\n",
       "      <td>NaN</td>\n",
       "      <td>NaN</td>\n",
       "      <td>NaN</td>\n",
       "      <td>NaN</td>\n",
       "      <td>NaN</td>\n",
       "      <td>NaN</td>\n",
       "      <td>0</td>\n",
       "      <td>0</td>\n",
       "      <td>13030</td>\n",
       "      <td>6</td>\n",
       "      <td>13036</td>\n",
       "      <td>0.875023</td>\n",
       "      <td>1.225214</td>\n",
       "      <td>1489790</td>\n",
       "    </tr>\n",
       "    <tr>\n",
       "      <th>4</th>\n",
       "      <td>Uttar Pradesh</td>\n",
       "      <td>AGRA</td>\n",
       "      <td>Satyapal Singh Baghel</td>\n",
       "      <td>1</td>\n",
       "      <td>BJP</td>\n",
       "      <td>Lotus</td>\n",
       "      <td>MALE</td>\n",
       "      <td>5</td>\n",
       "      <td>58.0</td>\n",
       "      <td>SC</td>\n",
       "      <td>Doctorate</td>\n",
       "      <td>74274036</td>\n",
       "      <td>8606522</td>\n",
       "      <td>644459</td>\n",
       "      <td>2416</td>\n",
       "      <td>646875</td>\n",
       "      <td>33.383823</td>\n",
       "      <td>56.464615</td>\n",
       "      <td>1937690</td>\n",
       "    </tr>\n",
       "  </tbody>\n",
       "</table>\n",
       "</div>"
      ],
      "text/plain": [
       "           STATE CONSTITUENCY                   NAME  WINNER PARTY SYMBOL  \\\n",
       "0      Telangana     ADILABAD         SOYAM BAPU RAO       1   BJP  Lotus   \n",
       "1      Telangana     ADILABAD           Godam Nagesh       0   TRS    Car   \n",
       "2      Telangana     ADILABAD          RATHOD RAMESH       0   INC   Hand   \n",
       "3      Telangana     ADILABAD                   NOTA       0  NOTA    NaN   \n",
       "4  Uttar Pradesh         AGRA  Satyapal Singh Baghel       1   BJP  Lotus   \n",
       "\n",
       "  GENDER CRIMINAL\\nCASES   AGE CATEGORY      EDUCATION    ASSETS LIABILITIES  \\\n",
       "0   MALE              52  52.0       ST      12th Pass   3099414      231450   \n",
       "1   MALE               0  54.0       ST  Post Graduate  18477888      847000   \n",
       "2   MALE               3  52.0       ST      12th Pass  36491000    15300000   \n",
       "3    NaN             NaN   NaN      NaN            NaN         0           0   \n",
       "4   MALE               5  58.0       SC      Doctorate  74274036     8606522   \n",
       "\n",
       "   GENERAL\\nVOTES  POSTAL\\nVOTES  TOTAL\\nVOTES  \\\n",
       "0          376892            482        377374   \n",
       "1          318665            149        318814   \n",
       "2          314057            181        314238   \n",
       "3           13030              6         13036   \n",
       "4          644459           2416        646875   \n",
       "\n",
       "   OVER TOTAL ELECTORS \\nIN CONSTITUENCY  \\\n",
       "0                              25.330684   \n",
       "1                              21.399929   \n",
       "2                              21.092771   \n",
       "3                               0.875023   \n",
       "4                              33.383823   \n",
       "\n",
       "   OVER TOTAL VOTES POLLED \\nIN CONSTITUENCY  TOTAL ELECTORS  \n",
       "0                                  35.468248         1489790  \n",
       "1                                  29.964370         1489790  \n",
       "2                                  29.534285         1489790  \n",
       "3                                   1.225214         1489790  \n",
       "4                                  56.464615         1937690  "
      ]
     },
     "execution_count": 5,
     "metadata": {},
     "output_type": "execute_result"
    }
   ],
   "source": [
    "def value_cleaner(x):\n",
    "    try:\n",
    "        str_temp = (x.split('Rs')[1].split('\\n')[0].strip())\n",
    "        str_temp_2 = ''\n",
    "        for i in str_temp.split(\",\"):\n",
    "            str_temp_2 = str_temp_2+i\n",
    "        return str_temp_2\n",
    "    except:\n",
    "        x = 0\n",
    "        return x\n",
    "vote['ASSETS'] = vote['ASSETS'].apply((value_cleaner))\n",
    "vote['LIABILITIES'] = vote['LIABILITIES'].apply((value_cleaner))\n",
    "vote.head()"
   ]
  },
  {
   "cell_type": "markdown",
   "metadata": {},
   "source": [
    "**Renaming the columns**"
   ]
  },
  {
   "cell_type": "code",
   "execution_count": 6,
   "metadata": {
    "execution": {
     "iopub.execute_input": "2025-03-02T16:12:02.709866Z",
     "iopub.status.busy": "2025-03-02T16:12:02.709655Z",
     "iopub.status.idle": "2025-03-02T16:12:02.737117Z",
     "shell.execute_reply": "2025-03-02T16:12:02.736373Z",
     "shell.execute_reply.started": "2025-03-02T16:12:02.709846Z"
    },
    "trusted": true
   },
   "outputs": [
    {
     "data": {
      "text/html": [
       "<div>\n",
       "<style scoped>\n",
       "    .dataframe tbody tr th:only-of-type {\n",
       "        vertical-align: middle;\n",
       "    }\n",
       "\n",
       "    .dataframe tbody tr th {\n",
       "        vertical-align: top;\n",
       "    }\n",
       "\n",
       "    .dataframe thead th {\n",
       "        text-align: right;\n",
       "    }\n",
       "</style>\n",
       "<table border=\"1\" class=\"dataframe\">\n",
       "  <thead>\n",
       "    <tr style=\"text-align: right;\">\n",
       "      <th></th>\n",
       "      <th>STATE</th>\n",
       "      <th>CONSTITUENCY</th>\n",
       "      <th>NAME</th>\n",
       "      <th>WINNER</th>\n",
       "      <th>PARTY</th>\n",
       "      <th>SYMBOL</th>\n",
       "      <th>GENDER</th>\n",
       "      <th>CRIMINAL CASES</th>\n",
       "      <th>AGE</th>\n",
       "      <th>CATEGORY</th>\n",
       "      <th>EDUCATION</th>\n",
       "      <th>ASSETS</th>\n",
       "      <th>LIABILITIES</th>\n",
       "      <th>GENERAL VOTES</th>\n",
       "      <th>POSTAL VOTES</th>\n",
       "      <th>TOTAL VOTES</th>\n",
       "      <th>OVER TOTAL ELECTORS IN CONSTITUENCY</th>\n",
       "      <th>OVER TOTAL VOTES POLLED IN CONSTITUENCY</th>\n",
       "      <th>TOTAL ELECTORS</th>\n",
       "    </tr>\n",
       "  </thead>\n",
       "  <tbody>\n",
       "    <tr>\n",
       "      <th>0</th>\n",
       "      <td>Telangana</td>\n",
       "      <td>ADILABAD</td>\n",
       "      <td>SOYAM BAPU RAO</td>\n",
       "      <td>1</td>\n",
       "      <td>BJP</td>\n",
       "      <td>Lotus</td>\n",
       "      <td>MALE</td>\n",
       "      <td>52</td>\n",
       "      <td>52.0</td>\n",
       "      <td>ST</td>\n",
       "      <td>12th Pass</td>\n",
       "      <td>3099414</td>\n",
       "      <td>231450</td>\n",
       "      <td>376892</td>\n",
       "      <td>482</td>\n",
       "      <td>377374</td>\n",
       "      <td>25.330684</td>\n",
       "      <td>35.468248</td>\n",
       "      <td>1489790</td>\n",
       "    </tr>\n",
       "    <tr>\n",
       "      <th>1</th>\n",
       "      <td>Telangana</td>\n",
       "      <td>ADILABAD</td>\n",
       "      <td>Godam Nagesh</td>\n",
       "      <td>0</td>\n",
       "      <td>TRS</td>\n",
       "      <td>Car</td>\n",
       "      <td>MALE</td>\n",
       "      <td>0</td>\n",
       "      <td>54.0</td>\n",
       "      <td>ST</td>\n",
       "      <td>Post Graduate</td>\n",
       "      <td>18477888</td>\n",
       "      <td>847000</td>\n",
       "      <td>318665</td>\n",
       "      <td>149</td>\n",
       "      <td>318814</td>\n",
       "      <td>21.399929</td>\n",
       "      <td>29.964370</td>\n",
       "      <td>1489790</td>\n",
       "    </tr>\n",
       "    <tr>\n",
       "      <th>2</th>\n",
       "      <td>Telangana</td>\n",
       "      <td>ADILABAD</td>\n",
       "      <td>RATHOD RAMESH</td>\n",
       "      <td>0</td>\n",
       "      <td>INC</td>\n",
       "      <td>Hand</td>\n",
       "      <td>MALE</td>\n",
       "      <td>3</td>\n",
       "      <td>52.0</td>\n",
       "      <td>ST</td>\n",
       "      <td>12th Pass</td>\n",
       "      <td>36491000</td>\n",
       "      <td>15300000</td>\n",
       "      <td>314057</td>\n",
       "      <td>181</td>\n",
       "      <td>314238</td>\n",
       "      <td>21.092771</td>\n",
       "      <td>29.534285</td>\n",
       "      <td>1489790</td>\n",
       "    </tr>\n",
       "    <tr>\n",
       "      <th>3</th>\n",
       "      <td>Telangana</td>\n",
       "      <td>ADILABAD</td>\n",
       "      <td>NOTA</td>\n",
       "      <td>0</td>\n",
       "      <td>NOTA</td>\n",
       "      <td>NaN</td>\n",
       "      <td>NaN</td>\n",
       "      <td>NaN</td>\n",
       "      <td>NaN</td>\n",
       "      <td>NaN</td>\n",
       "      <td>NaN</td>\n",
       "      <td>0</td>\n",
       "      <td>0</td>\n",
       "      <td>13030</td>\n",
       "      <td>6</td>\n",
       "      <td>13036</td>\n",
       "      <td>0.875023</td>\n",
       "      <td>1.225214</td>\n",
       "      <td>1489790</td>\n",
       "    </tr>\n",
       "    <tr>\n",
       "      <th>4</th>\n",
       "      <td>Uttar Pradesh</td>\n",
       "      <td>AGRA</td>\n",
       "      <td>Satyapal Singh Baghel</td>\n",
       "      <td>1</td>\n",
       "      <td>BJP</td>\n",
       "      <td>Lotus</td>\n",
       "      <td>MALE</td>\n",
       "      <td>5</td>\n",
       "      <td>58.0</td>\n",
       "      <td>SC</td>\n",
       "      <td>Doctorate</td>\n",
       "      <td>74274036</td>\n",
       "      <td>8606522</td>\n",
       "      <td>644459</td>\n",
       "      <td>2416</td>\n",
       "      <td>646875</td>\n",
       "      <td>33.383823</td>\n",
       "      <td>56.464615</td>\n",
       "      <td>1937690</td>\n",
       "    </tr>\n",
       "  </tbody>\n",
       "</table>\n",
       "</div>"
      ],
      "text/plain": [
       "           STATE CONSTITUENCY                   NAME  WINNER PARTY SYMBOL  \\\n",
       "0      Telangana     ADILABAD         SOYAM BAPU RAO       1   BJP  Lotus   \n",
       "1      Telangana     ADILABAD           Godam Nagesh       0   TRS    Car   \n",
       "2      Telangana     ADILABAD          RATHOD RAMESH       0   INC   Hand   \n",
       "3      Telangana     ADILABAD                   NOTA       0  NOTA    NaN   \n",
       "4  Uttar Pradesh         AGRA  Satyapal Singh Baghel       1   BJP  Lotus   \n",
       "\n",
       "  GENDER CRIMINAL CASES   AGE CATEGORY      EDUCATION    ASSETS LIABILITIES  \\\n",
       "0   MALE             52  52.0       ST      12th Pass   3099414      231450   \n",
       "1   MALE              0  54.0       ST  Post Graduate  18477888      847000   \n",
       "2   MALE              3  52.0       ST      12th Pass  36491000    15300000   \n",
       "3    NaN            NaN   NaN      NaN            NaN         0           0   \n",
       "4   MALE              5  58.0       SC      Doctorate  74274036     8606522   \n",
       "\n",
       "   GENERAL VOTES  POSTAL VOTES  TOTAL VOTES  \\\n",
       "0         376892           482       377374   \n",
       "1         318665           149       318814   \n",
       "2         314057           181       314238   \n",
       "3          13030             6        13036   \n",
       "4         644459          2416       646875   \n",
       "\n",
       "   OVER TOTAL ELECTORS IN CONSTITUENCY  \\\n",
       "0                            25.330684   \n",
       "1                            21.399929   \n",
       "2                            21.092771   \n",
       "3                             0.875023   \n",
       "4                            33.383823   \n",
       "\n",
       "   OVER TOTAL VOTES POLLED IN CONSTITUENCY  TOTAL ELECTORS  \n",
       "0                                35.468248         1489790  \n",
       "1                                29.964370         1489790  \n",
       "2                                29.534285         1489790  \n",
       "3                                 1.225214         1489790  \n",
       "4                                56.464615         1937690  "
      ]
     },
     "execution_count": 6,
     "metadata": {},
     "output_type": "execute_result"
    }
   ],
   "source": [
    "vote.rename(columns={\"CRIMINAL\\nCASES\": \"CRIMINAL CASES\", \"GENERAL\\nVOTES\": \"GENERAL VOTES\", \"POSTAL\\nVOTES\": \"POSTAL VOTES\",\"TOTAL\\nVOTES\": \"TOTAL VOTES\",\"OVER TOTAL ELECTORS \\nIN CONSTITUENCY\": \"OVER TOTAL ELECTORS IN CONSTITUENCY\",\"OVER TOTAL VOTES POLLED \\nIN CONSTITUENCY\": \"OVER TOTAL VOTES POLLED IN CONSTITUENCY\"}, inplace=True)\n",
    "vote.head()"
   ]
  },
  {
   "cell_type": "markdown",
   "metadata": {},
   "source": [
    "**Cleaning up the Educational Qualification of the election contestants**"
   ]
  },
  {
   "cell_type": "code",
   "execution_count": 7,
   "metadata": {
    "execution": {
     "iopub.execute_input": "2025-03-02T16:12:02.738486Z",
     "iopub.status.busy": "2025-03-02T16:12:02.738216Z",
     "iopub.status.idle": "2025-03-02T16:12:02.749202Z",
     "shell.execute_reply": "2025-03-02T16:12:02.748497Z",
     "shell.execute_reply.started": "2025-03-02T16:12:02.738455Z"
    },
    "trusted": true
   },
   "outputs": [
    {
     "data": {
      "text/plain": [
       "array(['12th Pass', 'Post Graduate', nan, 'Doctorate', 'Graduate',\n",
       "       'Others', '10th Pass', '8th Pass', 'Graduate Professional',\n",
       "       'Literate', 'Illiterate', '5th Pass', 'Not Available',\n",
       "       'Post Graduate\\n'], dtype=object)"
      ]
     },
     "execution_count": 7,
     "metadata": {},
     "output_type": "execute_result"
    }
   ],
   "source": [
    "vote.EDUCATION.unique()"
   ]
  },
  {
   "cell_type": "code",
   "execution_count": 8,
   "metadata": {
    "execution": {
     "iopub.execute_input": "2025-03-02T16:12:02.750599Z",
     "iopub.status.busy": "2025-03-02T16:12:02.750257Z",
     "iopub.status.idle": "2025-03-02T16:12:02.763042Z",
     "shell.execute_reply": "2025-03-02T16:12:02.762341Z",
     "shell.execute_reply.started": "2025-03-02T16:12:02.750563Z"
    },
    "trusted": true
   },
   "outputs": [
    {
     "data": {
      "text/plain": [
       "array(['12th Pass', 'Post Graduate', nan, 'Doctorate', 'Graduate',\n",
       "       'Others', '10th Pass', '8th Pass', 'Graduate Professional',\n",
       "       'Literate', 'Illiterate', '5th Pass', 'Not Available'],\n",
       "      dtype=object)"
      ]
     },
     "execution_count": 8,
     "metadata": {},
     "output_type": "execute_result"
    }
   ],
   "source": [
    "vote.EDUCATION.replace({'Post Graduate\\n':'Post Graduate'},inplace=True)\n",
    "vote.EDUCATION.unique()"
   ]
  },
  {
   "cell_type": "markdown",
   "metadata": {},
   "source": [
    "**Identifying the Data Type of the columns**"
   ]
  },
  {
   "cell_type": "code",
   "execution_count": 9,
   "metadata": {
    "execution": {
     "iopub.execute_input": "2025-03-02T16:12:02.764231Z",
     "iopub.status.busy": "2025-03-02T16:12:02.764003Z",
     "iopub.status.idle": "2025-03-02T16:12:02.775534Z",
     "shell.execute_reply": "2025-03-02T16:12:02.774879Z",
     "shell.execute_reply.started": "2025-03-02T16:12:02.764208Z"
    },
    "trusted": true
   },
   "outputs": [
    {
     "data": {
      "text/plain": [
       "STATE                                       object\n",
       "CONSTITUENCY                                object\n",
       "NAME                                        object\n",
       "WINNER                                       int64\n",
       "PARTY                                       object\n",
       "SYMBOL                                      object\n",
       "GENDER                                      object\n",
       "CRIMINAL CASES                              object\n",
       "AGE                                        float64\n",
       "CATEGORY                                    object\n",
       "EDUCATION                                   object\n",
       "ASSETS                                      object\n",
       "LIABILITIES                                 object\n",
       "GENERAL VOTES                                int64\n",
       "POSTAL VOTES                                 int64\n",
       "TOTAL VOTES                                  int64\n",
       "OVER TOTAL ELECTORS IN CONSTITUENCY        float64\n",
       "OVER TOTAL VOTES POLLED IN CONSTITUENCY    float64\n",
       "TOTAL ELECTORS                               int64\n",
       "dtype: object"
      ]
     },
     "execution_count": 9,
     "metadata": {},
     "output_type": "execute_result"
    }
   ],
   "source": [
    "vote.dtypes"
   ]
  },
  {
   "cell_type": "markdown",
   "metadata": {},
   "source": [
    "**Identifying Discrepancy entries in the columns**"
   ]
  },
  {
   "cell_type": "code",
   "execution_count": 10,
   "metadata": {
    "execution": {
     "iopub.execute_input": "2025-03-02T16:12:02.777772Z",
     "iopub.status.busy": "2025-03-02T16:12:02.777548Z",
     "iopub.status.idle": "2025-03-02T16:12:02.800805Z",
     "shell.execute_reply": "2025-03-02T16:12:02.800000Z",
     "shell.execute_reply.started": "2025-03-02T16:12:02.777744Z"
    },
    "trusted": true
   },
   "outputs": [
    {
     "data": {
      "text/html": [
       "<div>\n",
       "<style scoped>\n",
       "    .dataframe tbody tr th:only-of-type {\n",
       "        vertical-align: middle;\n",
       "    }\n",
       "\n",
       "    .dataframe tbody tr th {\n",
       "        vertical-align: top;\n",
       "    }\n",
       "\n",
       "    .dataframe thead th {\n",
       "        text-align: right;\n",
       "    }\n",
       "</style>\n",
       "<table border=\"1\" class=\"dataframe\">\n",
       "  <thead>\n",
       "    <tr style=\"text-align: right;\">\n",
       "      <th></th>\n",
       "      <th>STATE</th>\n",
       "      <th>CONSTITUENCY</th>\n",
       "      <th>NAME</th>\n",
       "      <th>WINNER</th>\n",
       "      <th>PARTY</th>\n",
       "      <th>SYMBOL</th>\n",
       "      <th>GENDER</th>\n",
       "      <th>CRIMINAL CASES</th>\n",
       "      <th>AGE</th>\n",
       "      <th>CATEGORY</th>\n",
       "      <th>EDUCATION</th>\n",
       "      <th>ASSETS</th>\n",
       "      <th>LIABILITIES</th>\n",
       "      <th>GENERAL VOTES</th>\n",
       "      <th>POSTAL VOTES</th>\n",
       "      <th>TOTAL VOTES</th>\n",
       "      <th>OVER TOTAL ELECTORS IN CONSTITUENCY</th>\n",
       "      <th>OVER TOTAL VOTES POLLED IN CONSTITUENCY</th>\n",
       "      <th>TOTAL ELECTORS</th>\n",
       "    </tr>\n",
       "  </thead>\n",
       "  <tbody>\n",
       "    <tr>\n",
       "      <th>468</th>\n",
       "      <td>Bihar</td>\n",
       "      <td>BUXAR</td>\n",
       "      <td>Ramchandra Singh Yadav</td>\n",
       "      <td>0</td>\n",
       "      <td>IND</td>\n",
       "      <td>Almirah</td>\n",
       "      <td>MALE</td>\n",
       "      <td>Not Available</td>\n",
       "      <td>42.0</td>\n",
       "      <td>GENERAL</td>\n",
       "      <td>Not Available</td>\n",
       "      <td>0</td>\n",
       "      <td>0</td>\n",
       "      <td>10721</td>\n",
       "      <td>9</td>\n",
       "      <td>10730</td>\n",
       "      <td>0.586540</td>\n",
       "      <td>1.087175</td>\n",
       "      <td>1829373</td>\n",
       "    </tr>\n",
       "    <tr>\n",
       "      <th>532</th>\n",
       "      <td>Tamil Nadu</td>\n",
       "      <td>CHIDAMBARAM</td>\n",
       "      <td>SIVAJOTHI M</td>\n",
       "      <td>0</td>\n",
       "      <td>NTK</td>\n",
       "      <td>Ganna Kisan</td>\n",
       "      <td>MALE</td>\n",
       "      <td>Not Available</td>\n",
       "      <td>35.0</td>\n",
       "      <td>SC</td>\n",
       "      <td>Not Available</td>\n",
       "      <td>0</td>\n",
       "      <td>0</td>\n",
       "      <td>37329</td>\n",
       "      <td>142</td>\n",
       "      <td>37471</td>\n",
       "      <td>2.531445</td>\n",
       "      <td>3.246331</td>\n",
       "      <td>1480222</td>\n",
       "    </tr>\n",
       "    <tr>\n",
       "      <th>612</th>\n",
       "      <td>Uttar Pradesh</td>\n",
       "      <td>DEORIA</td>\n",
       "      <td>BINOD KUMAR JAISWAL</td>\n",
       "      <td>0</td>\n",
       "      <td>BSP</td>\n",
       "      <td>Elephant</td>\n",
       "      <td>MALE</td>\n",
       "      <td>Not Available</td>\n",
       "      <td>56.0</td>\n",
       "      <td>GENERAL</td>\n",
       "      <td>Not Available</td>\n",
       "      <td>0</td>\n",
       "      <td>0</td>\n",
       "      <td>327728</td>\n",
       "      <td>2985</td>\n",
       "      <td>330713</td>\n",
       "      <td>18.852693</td>\n",
       "      <td>32.563441</td>\n",
       "      <td>1754195</td>\n",
       "    </tr>\n",
       "    <tr>\n",
       "      <th>613</th>\n",
       "      <td>Uttar Pradesh</td>\n",
       "      <td>DEORIA</td>\n",
       "      <td>NIYAZ AHMED</td>\n",
       "      <td>0</td>\n",
       "      <td>INC</td>\n",
       "      <td>Hand</td>\n",
       "      <td>MALE</td>\n",
       "      <td>Not Available</td>\n",
       "      <td>57.0</td>\n",
       "      <td>GENERAL</td>\n",
       "      <td>Not Available</td>\n",
       "      <td>0</td>\n",
       "      <td>0</td>\n",
       "      <td>50749</td>\n",
       "      <td>307</td>\n",
       "      <td>51056</td>\n",
       "      <td>2.910509</td>\n",
       "      <td>5.027196</td>\n",
       "      <td>1754195</td>\n",
       "    </tr>\n",
       "    <tr>\n",
       "      <th>654</th>\n",
       "      <td>Tamil Nadu</td>\n",
       "      <td>DINDIGUL</td>\n",
       "      <td>JOTHIMUTHU, K.</td>\n",
       "      <td>0</td>\n",
       "      <td>PMK</td>\n",
       "      <td>Mango</td>\n",
       "      <td>MALE</td>\n",
       "      <td>Not Available</td>\n",
       "      <td>48.0</td>\n",
       "      <td>GENERAL</td>\n",
       "      <td>Not Available</td>\n",
       "      <td>0</td>\n",
       "      <td>0</td>\n",
       "      <td>206782</td>\n",
       "      <td>769</td>\n",
       "      <td>207551</td>\n",
       "      <td>13.460896</td>\n",
       "      <td>17.877979</td>\n",
       "      <td>1541881</td>\n",
       "    </tr>\n",
       "  </tbody>\n",
       "</table>\n",
       "</div>"
      ],
      "text/plain": [
       "             STATE CONSTITUENCY                    NAME  WINNER PARTY  \\\n",
       "468          Bihar        BUXAR  Ramchandra Singh Yadav       0   IND   \n",
       "532     Tamil Nadu  CHIDAMBARAM             SIVAJOTHI M       0   NTK   \n",
       "612  Uttar Pradesh       DEORIA     BINOD KUMAR JAISWAL       0   BSP   \n",
       "613  Uttar Pradesh       DEORIA             NIYAZ AHMED       0   INC   \n",
       "654     Tamil Nadu     DINDIGUL          JOTHIMUTHU, K.       0   PMK   \n",
       "\n",
       "          SYMBOL GENDER CRIMINAL CASES   AGE CATEGORY      EDUCATION ASSETS  \\\n",
       "468      Almirah   MALE  Not Available  42.0  GENERAL  Not Available      0   \n",
       "532  Ganna Kisan   MALE  Not Available  35.0       SC  Not Available      0   \n",
       "612     Elephant   MALE  Not Available  56.0  GENERAL  Not Available      0   \n",
       "613         Hand   MALE  Not Available  57.0  GENERAL  Not Available      0   \n",
       "654        Mango   MALE  Not Available  48.0  GENERAL  Not Available      0   \n",
       "\n",
       "    LIABILITIES  GENERAL VOTES  POSTAL VOTES  TOTAL VOTES  \\\n",
       "468           0          10721             9        10730   \n",
       "532           0          37329           142        37471   \n",
       "612           0         327728          2985       330713   \n",
       "613           0          50749           307        51056   \n",
       "654           0         206782           769       207551   \n",
       "\n",
       "     OVER TOTAL ELECTORS IN CONSTITUENCY  \\\n",
       "468                             0.586540   \n",
       "532                             2.531445   \n",
       "612                            18.852693   \n",
       "613                             2.910509   \n",
       "654                            13.460896   \n",
       "\n",
       "     OVER TOTAL VOTES POLLED IN CONSTITUENCY  TOTAL ELECTORS  \n",
       "468                                 1.087175         1829373  \n",
       "532                                 3.246331         1480222  \n",
       "612                                32.563441         1754195  \n",
       "613                                 5.027196         1754195  \n",
       "654                                17.877979         1541881  "
      ]
     },
     "execution_count": 10,
     "metadata": {},
     "output_type": "execute_result"
    }
   ],
   "source": [
    "vote[vote['CRIMINAL CASES']=='Not Available'].head()"
   ]
  },
  {
   "cell_type": "markdown",
   "metadata": {},
   "source": [
    "**Updating the data types for the analysis**"
   ]
  },
  {
   "cell_type": "code",
   "execution_count": 11,
   "metadata": {
    "execution": {
     "iopub.execute_input": "2025-03-02T16:12:02.802199Z",
     "iopub.status.busy": "2025-03-02T16:12:02.801882Z",
     "iopub.status.idle": "2025-03-02T16:12:02.816029Z",
     "shell.execute_reply": "2025-03-02T16:12:02.815489Z",
     "shell.execute_reply.started": "2025-03-02T16:12:02.802165Z"
    },
    "trusted": true
   },
   "outputs": [],
   "source": [
    "vote['ASSETS']=pd.to_numeric(vote['ASSETS'])\n",
    "vote['LIABILITIES']=pd.to_numeric(vote['LIABILITIES'])\n",
    "vote['CRIMINAL CASES'].replace({np.NaN:0})\n",
    "vote['CRIMINAL CASES'] = pd.to_numeric(vote['CRIMINAL CASES'], errors='coerce').fillna(0).astype(np.int64)"
   ]
  },
  {
   "cell_type": "markdown",
   "metadata": {},
   "source": [
    "# The Analysis"
   ]
  },
  {
   "cell_type": "markdown",
   "metadata": {},
   "source": [
    "# State and Constituency Level Analysis"
   ]
  },
  {
   "cell_type": "markdown",
   "metadata": {},
   "source": [
    "# What is the distribution of Constituencies over all the states?"
   ]
  },
  {
   "cell_type": "code",
   "execution_count": 12,
   "metadata": {
    "execution": {
     "iopub.execute_input": "2025-03-02T16:12:02.817051Z",
     "iopub.status.busy": "2025-03-02T16:12:02.816832Z",
     "iopub.status.idle": "2025-03-02T16:12:04.373918Z",
     "shell.execute_reply": "2025-03-02T16:12:04.373102Z",
     "shell.execute_reply.started": "2025-03-02T16:12:02.817029Z"
    },
    "trusted": true
   },
   "outputs": [
    {
     "data": {
      "application/vnd.plotly.v1+json": {
       "config": {
        "plotlyServerURL": "https://plot.ly"
       },
       "data": [
        {
         "alignmentgroup": "True",
         "hovertemplate": "STATE=%{x}<br># Constituency=%{marker.color}<extra></extra>",
         "legendgroup": "",
         "marker": {
          "color": [
           80,
           48,
           42,
           40,
           38,
           29,
           28,
           26,
           25,
           25,
           21,
           20,
           17,
           14,
           14,
           13,
           11,
           10,
           7,
           6,
           5,
           4,
           2,
           2,
           2,
           2,
           2,
           1,
           1,
           1,
           1,
           1,
           1,
           1,
           1,
           1
          ],
          "coloraxis": "coloraxis"
         },
         "name": "",
         "offsetgroup": "",
         "orientation": "v",
         "showlegend": false,
         "textposition": "auto",
         "type": "bar",
         "x": [
          "Uttar Pradesh",
          "Maharashtra",
          "West Bengal",
          "Bihar",
          "Tamil Nadu",
          "Madhya Pradesh",
          "Karnataka",
          "Gujarat",
          "Rajasthan",
          "Andhra Pradesh",
          "Odisha",
          "Kerala",
          "Telangana",
          "Assam",
          "Jharkhand",
          "Punjab",
          "Chhattisgarh",
          "Haryana",
          "NCT OF Delhi",
          "Jammu & Kashmir",
          "Uttarakhand",
          "Himachal Pradesh",
          "Tripura",
          "Arunachal Pradesh",
          "Meghalaya",
          "Manipur",
          "Goa",
          "Nagaland",
          "Puducherry",
          "Mizoram",
          "Dadra & Nagar Haveli",
          "Sikkim",
          "Chandigarh",
          "Lakshadweep",
          "Daman & Diu",
          "Andaman & Nicobar Islands"
         ],
         "xaxis": "x",
         "y": [
          80,
          48,
          42,
          40,
          38,
          29,
          28,
          26,
          25,
          25,
          21,
          20,
          17,
          14,
          14,
          13,
          11,
          10,
          7,
          6,
          5,
          4,
          2,
          2,
          2,
          2,
          2,
          1,
          1,
          1,
          1,
          1,
          1,
          1,
          1,
          1
         ],
         "yaxis": "y"
        }
       ],
       "layout": {
        "barmode": "relative",
        "coloraxis": {
         "colorbar": {
          "title": {
           "text": "# Constituency"
          }
         },
         "colorscale": [
          [
           0,
           "#0d0887"
          ],
          [
           0.1111111111111111,
           "#46039f"
          ],
          [
           0.2222222222222222,
           "#7201a8"
          ],
          [
           0.3333333333333333,
           "#9c179e"
          ],
          [
           0.4444444444444444,
           "#bd3786"
          ],
          [
           0.5555555555555556,
           "#d8576b"
          ],
          [
           0.6666666666666666,
           "#ed7953"
          ],
          [
           0.7777777777777778,
           "#fb9f3a"
          ],
          [
           0.8888888888888888,
           "#fdca26"
          ],
          [
           1,
           "#f0f921"
          ]
         ]
        },
        "legend": {
         "tracegroupgap": 0
        },
        "margin": {
         "t": 60
        },
        "template": {
         "data": {
          "bar": [
           {
            "error_x": {
             "color": "#f2f5fa"
            },
            "error_y": {
             "color": "#f2f5fa"
            },
            "marker": {
             "line": {
              "color": "rgb(17,17,17)",
              "width": 0.5
             }
            },
            "type": "bar"
           }
          ],
          "barpolar": [
           {
            "marker": {
             "line": {
              "color": "rgb(17,17,17)",
              "width": 0.5
             }
            },
            "type": "barpolar"
           }
          ],
          "carpet": [
           {
            "aaxis": {
             "endlinecolor": "#A2B1C6",
             "gridcolor": "#506784",
             "linecolor": "#506784",
             "minorgridcolor": "#506784",
             "startlinecolor": "#A2B1C6"
            },
            "baxis": {
             "endlinecolor": "#A2B1C6",
             "gridcolor": "#506784",
             "linecolor": "#506784",
             "minorgridcolor": "#506784",
             "startlinecolor": "#A2B1C6"
            },
            "type": "carpet"
           }
          ],
          "choropleth": [
           {
            "colorbar": {
             "outlinewidth": 0,
             "ticks": ""
            },
            "type": "choropleth"
           }
          ],
          "contour": [
           {
            "colorbar": {
             "outlinewidth": 0,
             "ticks": ""
            },
            "colorscale": [
             [
              0,
              "#0d0887"
             ],
             [
              0.1111111111111111,
              "#46039f"
             ],
             [
              0.2222222222222222,
              "#7201a8"
             ],
             [
              0.3333333333333333,
              "#9c179e"
             ],
             [
              0.4444444444444444,
              "#bd3786"
             ],
             [
              0.5555555555555556,
              "#d8576b"
             ],
             [
              0.6666666666666666,
              "#ed7953"
             ],
             [
              0.7777777777777778,
              "#fb9f3a"
             ],
             [
              0.8888888888888888,
              "#fdca26"
             ],
             [
              1,
              "#f0f921"
             ]
            ],
            "type": "contour"
           }
          ],
          "contourcarpet": [
           {
            "colorbar": {
             "outlinewidth": 0,
             "ticks": ""
            },
            "type": "contourcarpet"
           }
          ],
          "heatmap": [
           {
            "colorbar": {
             "outlinewidth": 0,
             "ticks": ""
            },
            "colorscale": [
             [
              0,
              "#0d0887"
             ],
             [
              0.1111111111111111,
              "#46039f"
             ],
             [
              0.2222222222222222,
              "#7201a8"
             ],
             [
              0.3333333333333333,
              "#9c179e"
             ],
             [
              0.4444444444444444,
              "#bd3786"
             ],
             [
              0.5555555555555556,
              "#d8576b"
             ],
             [
              0.6666666666666666,
              "#ed7953"
             ],
             [
              0.7777777777777778,
              "#fb9f3a"
             ],
             [
              0.8888888888888888,
              "#fdca26"
             ],
             [
              1,
              "#f0f921"
             ]
            ],
            "type": "heatmap"
           }
          ],
          "heatmapgl": [
           {
            "colorbar": {
             "outlinewidth": 0,
             "ticks": ""
            },
            "colorscale": [
             [
              0,
              "#0d0887"
             ],
             [
              0.1111111111111111,
              "#46039f"
             ],
             [
              0.2222222222222222,
              "#7201a8"
             ],
             [
              0.3333333333333333,
              "#9c179e"
             ],
             [
              0.4444444444444444,
              "#bd3786"
             ],
             [
              0.5555555555555556,
              "#d8576b"
             ],
             [
              0.6666666666666666,
              "#ed7953"
             ],
             [
              0.7777777777777778,
              "#fb9f3a"
             ],
             [
              0.8888888888888888,
              "#fdca26"
             ],
             [
              1,
              "#f0f921"
             ]
            ],
            "type": "heatmapgl"
           }
          ],
          "histogram": [
           {
            "marker": {
             "colorbar": {
              "outlinewidth": 0,
              "ticks": ""
             }
            },
            "type": "histogram"
           }
          ],
          "histogram2d": [
           {
            "colorbar": {
             "outlinewidth": 0,
             "ticks": ""
            },
            "colorscale": [
             [
              0,
              "#0d0887"
             ],
             [
              0.1111111111111111,
              "#46039f"
             ],
             [
              0.2222222222222222,
              "#7201a8"
             ],
             [
              0.3333333333333333,
              "#9c179e"
             ],
             [
              0.4444444444444444,
              "#bd3786"
             ],
             [
              0.5555555555555556,
              "#d8576b"
             ],
             [
              0.6666666666666666,
              "#ed7953"
             ],
             [
              0.7777777777777778,
              "#fb9f3a"
             ],
             [
              0.8888888888888888,
              "#fdca26"
             ],
             [
              1,
              "#f0f921"
             ]
            ],
            "type": "histogram2d"
           }
          ],
          "histogram2dcontour": [
           {
            "colorbar": {
             "outlinewidth": 0,
             "ticks": ""
            },
            "colorscale": [
             [
              0,
              "#0d0887"
             ],
             [
              0.1111111111111111,
              "#46039f"
             ],
             [
              0.2222222222222222,
              "#7201a8"
             ],
             [
              0.3333333333333333,
              "#9c179e"
             ],
             [
              0.4444444444444444,
              "#bd3786"
             ],
             [
              0.5555555555555556,
              "#d8576b"
             ],
             [
              0.6666666666666666,
              "#ed7953"
             ],
             [
              0.7777777777777778,
              "#fb9f3a"
             ],
             [
              0.8888888888888888,
              "#fdca26"
             ],
             [
              1,
              "#f0f921"
             ]
            ],
            "type": "histogram2dcontour"
           }
          ],
          "mesh3d": [
           {
            "colorbar": {
             "outlinewidth": 0,
             "ticks": ""
            },
            "type": "mesh3d"
           }
          ],
          "parcoords": [
           {
            "line": {
             "colorbar": {
              "outlinewidth": 0,
              "ticks": ""
             }
            },
            "type": "parcoords"
           }
          ],
          "pie": [
           {
            "automargin": true,
            "type": "pie"
           }
          ],
          "scatter": [
           {
            "marker": {
             "line": {
              "color": "#283442"
             }
            },
            "type": "scatter"
           }
          ],
          "scatter3d": [
           {
            "line": {
             "colorbar": {
              "outlinewidth": 0,
              "ticks": ""
             }
            },
            "marker": {
             "colorbar": {
              "outlinewidth": 0,
              "ticks": ""
             }
            },
            "type": "scatter3d"
           }
          ],
          "scattercarpet": [
           {
            "marker": {
             "colorbar": {
              "outlinewidth": 0,
              "ticks": ""
             }
            },
            "type": "scattercarpet"
           }
          ],
          "scattergeo": [
           {
            "marker": {
             "colorbar": {
              "outlinewidth": 0,
              "ticks": ""
             }
            },
            "type": "scattergeo"
           }
          ],
          "scattergl": [
           {
            "marker": {
             "line": {
              "color": "#283442"
             }
            },
            "type": "scattergl"
           }
          ],
          "scattermapbox": [
           {
            "marker": {
             "colorbar": {
              "outlinewidth": 0,
              "ticks": ""
             }
            },
            "type": "scattermapbox"
           }
          ],
          "scatterpolar": [
           {
            "marker": {
             "colorbar": {
              "outlinewidth": 0,
              "ticks": ""
             }
            },
            "type": "scatterpolar"
           }
          ],
          "scatterpolargl": [
           {
            "marker": {
             "colorbar": {
              "outlinewidth": 0,
              "ticks": ""
             }
            },
            "type": "scatterpolargl"
           }
          ],
          "scatterternary": [
           {
            "marker": {
             "colorbar": {
              "outlinewidth": 0,
              "ticks": ""
             }
            },
            "type": "scatterternary"
           }
          ],
          "surface": [
           {
            "colorbar": {
             "outlinewidth": 0,
             "ticks": ""
            },
            "colorscale": [
             [
              0,
              "#0d0887"
             ],
             [
              0.1111111111111111,
              "#46039f"
             ],
             [
              0.2222222222222222,
              "#7201a8"
             ],
             [
              0.3333333333333333,
              "#9c179e"
             ],
             [
              0.4444444444444444,
              "#bd3786"
             ],
             [
              0.5555555555555556,
              "#d8576b"
             ],
             [
              0.6666666666666666,
              "#ed7953"
             ],
             [
              0.7777777777777778,
              "#fb9f3a"
             ],
             [
              0.8888888888888888,
              "#fdca26"
             ],
             [
              1,
              "#f0f921"
             ]
            ],
            "type": "surface"
           }
          ],
          "table": [
           {
            "cells": {
             "fill": {
              "color": "#506784"
             },
             "line": {
              "color": "rgb(17,17,17)"
             }
            },
            "header": {
             "fill": {
              "color": "#2a3f5f"
             },
             "line": {
              "color": "rgb(17,17,17)"
             }
            },
            "type": "table"
           }
          ]
         },
         "layout": {
          "annotationdefaults": {
           "arrowcolor": "#f2f5fa",
           "arrowhead": 0,
           "arrowwidth": 1
          },
          "coloraxis": {
           "colorbar": {
            "outlinewidth": 0,
            "ticks": ""
           }
          },
          "colorscale": {
           "diverging": [
            [
             0,
             "#8e0152"
            ],
            [
             0.1,
             "#c51b7d"
            ],
            [
             0.2,
             "#de77ae"
            ],
            [
             0.3,
             "#f1b6da"
            ],
            [
             0.4,
             "#fde0ef"
            ],
            [
             0.5,
             "#f7f7f7"
            ],
            [
             0.6,
             "#e6f5d0"
            ],
            [
             0.7,
             "#b8e186"
            ],
            [
             0.8,
             "#7fbc41"
            ],
            [
             0.9,
             "#4d9221"
            ],
            [
             1,
             "#276419"
            ]
           ],
           "sequential": [
            [
             0,
             "#0d0887"
            ],
            [
             0.1111111111111111,
             "#46039f"
            ],
            [
             0.2222222222222222,
             "#7201a8"
            ],
            [
             0.3333333333333333,
             "#9c179e"
            ],
            [
             0.4444444444444444,
             "#bd3786"
            ],
            [
             0.5555555555555556,
             "#d8576b"
            ],
            [
             0.6666666666666666,
             "#ed7953"
            ],
            [
             0.7777777777777778,
             "#fb9f3a"
            ],
            [
             0.8888888888888888,
             "#fdca26"
            ],
            [
             1,
             "#f0f921"
            ]
           ],
           "sequentialminus": [
            [
             0,
             "#0d0887"
            ],
            [
             0.1111111111111111,
             "#46039f"
            ],
            [
             0.2222222222222222,
             "#7201a8"
            ],
            [
             0.3333333333333333,
             "#9c179e"
            ],
            [
             0.4444444444444444,
             "#bd3786"
            ],
            [
             0.5555555555555556,
             "#d8576b"
            ],
            [
             0.6666666666666666,
             "#ed7953"
            ],
            [
             0.7777777777777778,
             "#fb9f3a"
            ],
            [
             0.8888888888888888,
             "#fdca26"
            ],
            [
             1,
             "#f0f921"
            ]
           ]
          },
          "colorway": [
           "#636efa",
           "#EF553B",
           "#00cc96",
           "#ab63fa",
           "#FFA15A",
           "#19d3f3",
           "#FF6692",
           "#B6E880",
           "#FF97FF",
           "#FECB52"
          ],
          "font": {
           "color": "#f2f5fa"
          },
          "geo": {
           "bgcolor": "rgb(17,17,17)",
           "lakecolor": "rgb(17,17,17)",
           "landcolor": "rgb(17,17,17)",
           "showlakes": true,
           "showland": true,
           "subunitcolor": "#506784"
          },
          "hoverlabel": {
           "align": "left"
          },
          "hovermode": "closest",
          "mapbox": {
           "style": "dark"
          },
          "paper_bgcolor": "rgb(17,17,17)",
          "plot_bgcolor": "rgb(17,17,17)",
          "polar": {
           "angularaxis": {
            "gridcolor": "#506784",
            "linecolor": "#506784",
            "ticks": ""
           },
           "bgcolor": "rgb(17,17,17)",
           "radialaxis": {
            "gridcolor": "#506784",
            "linecolor": "#506784",
            "ticks": ""
           }
          },
          "scene": {
           "xaxis": {
            "backgroundcolor": "rgb(17,17,17)",
            "gridcolor": "#506784",
            "gridwidth": 2,
            "linecolor": "#506784",
            "showbackground": true,
            "ticks": "",
            "zerolinecolor": "#C8D4E3"
           },
           "yaxis": {
            "backgroundcolor": "rgb(17,17,17)",
            "gridcolor": "#506784",
            "gridwidth": 2,
            "linecolor": "#506784",
            "showbackground": true,
            "ticks": "",
            "zerolinecolor": "#C8D4E3"
           },
           "zaxis": {
            "backgroundcolor": "rgb(17,17,17)",
            "gridcolor": "#506784",
            "gridwidth": 2,
            "linecolor": "#506784",
            "showbackground": true,
            "ticks": "",
            "zerolinecolor": "#C8D4E3"
           }
          },
          "shapedefaults": {
           "line": {
            "color": "#f2f5fa"
           }
          },
          "sliderdefaults": {
           "bgcolor": "#C8D4E3",
           "bordercolor": "rgb(17,17,17)",
           "borderwidth": 1,
           "tickwidth": 0
          },
          "ternary": {
           "aaxis": {
            "gridcolor": "#506784",
            "linecolor": "#506784",
            "ticks": ""
           },
           "baxis": {
            "gridcolor": "#506784",
            "linecolor": "#506784",
            "ticks": ""
           },
           "bgcolor": "rgb(17,17,17)",
           "caxis": {
            "gridcolor": "#506784",
            "linecolor": "#506784",
            "ticks": ""
           }
          },
          "title": {
           "x": 0.05
          },
          "updatemenudefaults": {
           "bgcolor": "#506784",
           "borderwidth": 0
          },
          "xaxis": {
           "automargin": true,
           "gridcolor": "#283442",
           "linecolor": "#506784",
           "ticks": "",
           "title": {
            "standoff": 15
           },
           "zerolinecolor": "#283442",
           "zerolinewidth": 2
          },
          "yaxis": {
           "automargin": true,
           "gridcolor": "#283442",
           "linecolor": "#506784",
           "ticks": "",
           "title": {
            "standoff": 15
           },
           "zerolinecolor": "#283442",
           "zerolinewidth": 2
          }
         }
        },
        "title": {
         "text": "Statewise distribution of the Constituencies all over India"
        },
        "xaxis": {
         "anchor": "y",
         "domain": [
          0,
          1
         ],
         "title": {
          "text": "STATE"
         }
        },
        "yaxis": {
         "anchor": "x",
         "domain": [
          0,
          1
         ],
         "title": {
          "text": "# Constituency"
         }
        }
       }
      },
      "text/html": [
       "<div>                            <div id=\"65afaff1-2ebe-43a2-b662-71b62578dcfe\" class=\"plotly-graph-div\" style=\"height:525px; width:100%;\"></div>            <script type=\"text/javascript\">                require([\"plotly\"], function(Plotly) {                    window.PLOTLYENV=window.PLOTLYENV || {};                                    if (document.getElementById(\"65afaff1-2ebe-43a2-b662-71b62578dcfe\")) {                    Plotly.newPlot(                        \"65afaff1-2ebe-43a2-b662-71b62578dcfe\",                        [{\"alignmentgroup\": \"True\", \"hovertemplate\": \"STATE=%{x}<br># Constituency=%{marker.color}<extra></extra>\", \"legendgroup\": \"\", \"marker\": {\"color\": [80, 48, 42, 40, 38, 29, 28, 26, 25, 25, 21, 20, 17, 14, 14, 13, 11, 10, 7, 6, 5, 4, 2, 2, 2, 2, 2, 1, 1, 1, 1, 1, 1, 1, 1, 1], \"coloraxis\": \"coloraxis\"}, \"name\": \"\", \"offsetgroup\": \"\", \"orientation\": \"v\", \"showlegend\": false, \"textposition\": \"auto\", \"type\": \"bar\", \"x\": [\"Uttar Pradesh\", \"Maharashtra\", \"West Bengal\", \"Bihar\", \"Tamil Nadu\", \"Madhya Pradesh\", \"Karnataka\", \"Gujarat\", \"Rajasthan\", \"Andhra Pradesh\", \"Odisha\", \"Kerala\", \"Telangana\", \"Assam\", \"Jharkhand\", \"Punjab\", \"Chhattisgarh\", \"Haryana\", \"NCT OF Delhi\", \"Jammu & Kashmir\", \"Uttarakhand\", \"Himachal Pradesh\", \"Tripura\", \"Arunachal Pradesh\", \"Meghalaya\", \"Manipur\", \"Goa\", \"Nagaland\", \"Puducherry\", \"Mizoram\", \"Dadra & Nagar Haveli\", \"Sikkim\", \"Chandigarh\", \"Lakshadweep\", \"Daman & Diu\", \"Andaman & Nicobar Islands\"], \"xaxis\": \"x\", \"y\": [80, 48, 42, 40, 38, 29, 28, 26, 25, 25, 21, 20, 17, 14, 14, 13, 11, 10, 7, 6, 5, 4, 2, 2, 2, 2, 2, 1, 1, 1, 1, 1, 1, 1, 1, 1], \"yaxis\": \"y\"}],                        {\"barmode\": \"relative\", \"coloraxis\": {\"colorbar\": {\"title\": {\"text\": \"# Constituency\"}}, \"colorscale\": [[0.0, \"#0d0887\"], [0.1111111111111111, \"#46039f\"], [0.2222222222222222, \"#7201a8\"], [0.3333333333333333, \"#9c179e\"], [0.4444444444444444, \"#bd3786\"], [0.5555555555555556, \"#d8576b\"], [0.6666666666666666, \"#ed7953\"], [0.7777777777777778, \"#fb9f3a\"], [0.8888888888888888, \"#fdca26\"], [1.0, \"#f0f921\"]]}, \"legend\": {\"tracegroupgap\": 0}, \"margin\": {\"t\": 60}, \"template\": {\"data\": {\"bar\": [{\"error_x\": {\"color\": \"#f2f5fa\"}, \"error_y\": {\"color\": \"#f2f5fa\"}, \"marker\": {\"line\": {\"color\": \"rgb(17,17,17)\", \"width\": 0.5}}, \"type\": \"bar\"}], \"barpolar\": [{\"marker\": {\"line\": {\"color\": \"rgb(17,17,17)\", \"width\": 0.5}}, \"type\": \"barpolar\"}], \"carpet\": [{\"aaxis\": {\"endlinecolor\": \"#A2B1C6\", \"gridcolor\": \"#506784\", \"linecolor\": \"#506784\", \"minorgridcolor\": \"#506784\", \"startlinecolor\": \"#A2B1C6\"}, \"baxis\": {\"endlinecolor\": \"#A2B1C6\", \"gridcolor\": \"#506784\", \"linecolor\": \"#506784\", \"minorgridcolor\": \"#506784\", \"startlinecolor\": \"#A2B1C6\"}, \"type\": \"carpet\"}], \"choropleth\": [{\"colorbar\": {\"outlinewidth\": 0, \"ticks\": \"\"}, \"type\": \"choropleth\"}], \"contour\": [{\"colorbar\": {\"outlinewidth\": 0, \"ticks\": \"\"}, \"colorscale\": [[0.0, \"#0d0887\"], [0.1111111111111111, \"#46039f\"], [0.2222222222222222, \"#7201a8\"], [0.3333333333333333, \"#9c179e\"], [0.4444444444444444, \"#bd3786\"], [0.5555555555555556, \"#d8576b\"], [0.6666666666666666, \"#ed7953\"], [0.7777777777777778, \"#fb9f3a\"], [0.8888888888888888, \"#fdca26\"], [1.0, \"#f0f921\"]], \"type\": \"contour\"}], \"contourcarpet\": [{\"colorbar\": {\"outlinewidth\": 0, \"ticks\": \"\"}, \"type\": \"contourcarpet\"}], \"heatmap\": [{\"colorbar\": {\"outlinewidth\": 0, \"ticks\": \"\"}, \"colorscale\": [[0.0, \"#0d0887\"], [0.1111111111111111, \"#46039f\"], [0.2222222222222222, \"#7201a8\"], [0.3333333333333333, \"#9c179e\"], [0.4444444444444444, \"#bd3786\"], [0.5555555555555556, \"#d8576b\"], [0.6666666666666666, \"#ed7953\"], [0.7777777777777778, \"#fb9f3a\"], [0.8888888888888888, \"#fdca26\"], [1.0, \"#f0f921\"]], \"type\": \"heatmap\"}], \"heatmapgl\": [{\"colorbar\": {\"outlinewidth\": 0, \"ticks\": \"\"}, \"colorscale\": [[0.0, \"#0d0887\"], [0.1111111111111111, \"#46039f\"], [0.2222222222222222, \"#7201a8\"], [0.3333333333333333, \"#9c179e\"], [0.4444444444444444, \"#bd3786\"], [0.5555555555555556, \"#d8576b\"], [0.6666666666666666, \"#ed7953\"], [0.7777777777777778, \"#fb9f3a\"], [0.8888888888888888, \"#fdca26\"], [1.0, \"#f0f921\"]], \"type\": \"heatmapgl\"}], \"histogram\": [{\"marker\": {\"colorbar\": {\"outlinewidth\": 0, \"ticks\": \"\"}}, \"type\": \"histogram\"}], \"histogram2d\": [{\"colorbar\": {\"outlinewidth\": 0, \"ticks\": \"\"}, \"colorscale\": [[0.0, \"#0d0887\"], [0.1111111111111111, \"#46039f\"], [0.2222222222222222, \"#7201a8\"], [0.3333333333333333, \"#9c179e\"], [0.4444444444444444, \"#bd3786\"], [0.5555555555555556, \"#d8576b\"], [0.6666666666666666, \"#ed7953\"], [0.7777777777777778, \"#fb9f3a\"], [0.8888888888888888, \"#fdca26\"], [1.0, \"#f0f921\"]], \"type\": \"histogram2d\"}], \"histogram2dcontour\": [{\"colorbar\": {\"outlinewidth\": 0, \"ticks\": \"\"}, \"colorscale\": [[0.0, \"#0d0887\"], [0.1111111111111111, \"#46039f\"], [0.2222222222222222, \"#7201a8\"], [0.3333333333333333, \"#9c179e\"], [0.4444444444444444, \"#bd3786\"], [0.5555555555555556, \"#d8576b\"], [0.6666666666666666, \"#ed7953\"], [0.7777777777777778, \"#fb9f3a\"], [0.8888888888888888, \"#fdca26\"], [1.0, \"#f0f921\"]], \"type\": \"histogram2dcontour\"}], \"mesh3d\": [{\"colorbar\": {\"outlinewidth\": 0, \"ticks\": \"\"}, \"type\": \"mesh3d\"}], \"parcoords\": [{\"line\": {\"colorbar\": {\"outlinewidth\": 0, \"ticks\": \"\"}}, \"type\": \"parcoords\"}], \"pie\": [{\"automargin\": true, \"type\": \"pie\"}], \"scatter\": [{\"marker\": {\"line\": {\"color\": \"#283442\"}}, \"type\": \"scatter\"}], \"scatter3d\": [{\"line\": {\"colorbar\": {\"outlinewidth\": 0, \"ticks\": \"\"}}, \"marker\": {\"colorbar\": {\"outlinewidth\": 0, \"ticks\": \"\"}}, \"type\": \"scatter3d\"}], \"scattercarpet\": [{\"marker\": {\"colorbar\": {\"outlinewidth\": 0, \"ticks\": \"\"}}, \"type\": \"scattercarpet\"}], \"scattergeo\": [{\"marker\": {\"colorbar\": {\"outlinewidth\": 0, \"ticks\": \"\"}}, \"type\": \"scattergeo\"}], \"scattergl\": [{\"marker\": {\"line\": {\"color\": \"#283442\"}}, \"type\": \"scattergl\"}], \"scattermapbox\": [{\"marker\": {\"colorbar\": {\"outlinewidth\": 0, \"ticks\": \"\"}}, \"type\": \"scattermapbox\"}], \"scatterpolar\": [{\"marker\": {\"colorbar\": {\"outlinewidth\": 0, \"ticks\": \"\"}}, \"type\": \"scatterpolar\"}], \"scatterpolargl\": [{\"marker\": {\"colorbar\": {\"outlinewidth\": 0, \"ticks\": \"\"}}, \"type\": \"scatterpolargl\"}], \"scatterternary\": [{\"marker\": {\"colorbar\": {\"outlinewidth\": 0, \"ticks\": \"\"}}, \"type\": \"scatterternary\"}], \"surface\": [{\"colorbar\": {\"outlinewidth\": 0, \"ticks\": \"\"}, \"colorscale\": [[0.0, \"#0d0887\"], [0.1111111111111111, \"#46039f\"], [0.2222222222222222, \"#7201a8\"], [0.3333333333333333, \"#9c179e\"], [0.4444444444444444, \"#bd3786\"], [0.5555555555555556, \"#d8576b\"], [0.6666666666666666, \"#ed7953\"], [0.7777777777777778, \"#fb9f3a\"], [0.8888888888888888, \"#fdca26\"], [1.0, \"#f0f921\"]], \"type\": \"surface\"}], \"table\": [{\"cells\": {\"fill\": {\"color\": \"#506784\"}, \"line\": {\"color\": \"rgb(17,17,17)\"}}, \"header\": {\"fill\": {\"color\": \"#2a3f5f\"}, \"line\": {\"color\": \"rgb(17,17,17)\"}}, \"type\": \"table\"}]}, \"layout\": {\"annotationdefaults\": {\"arrowcolor\": \"#f2f5fa\", \"arrowhead\": 0, \"arrowwidth\": 1}, \"coloraxis\": {\"colorbar\": {\"outlinewidth\": 0, \"ticks\": \"\"}}, \"colorscale\": {\"diverging\": [[0, \"#8e0152\"], [0.1, \"#c51b7d\"], [0.2, \"#de77ae\"], [0.3, \"#f1b6da\"], [0.4, \"#fde0ef\"], [0.5, \"#f7f7f7\"], [0.6, \"#e6f5d0\"], [0.7, \"#b8e186\"], [0.8, \"#7fbc41\"], [0.9, \"#4d9221\"], [1, \"#276419\"]], \"sequential\": [[0.0, \"#0d0887\"], [0.1111111111111111, \"#46039f\"], [0.2222222222222222, \"#7201a8\"], [0.3333333333333333, \"#9c179e\"], [0.4444444444444444, \"#bd3786\"], [0.5555555555555556, \"#d8576b\"], [0.6666666666666666, \"#ed7953\"], [0.7777777777777778, \"#fb9f3a\"], [0.8888888888888888, \"#fdca26\"], [1.0, \"#f0f921\"]], \"sequentialminus\": [[0.0, \"#0d0887\"], [0.1111111111111111, \"#46039f\"], [0.2222222222222222, \"#7201a8\"], [0.3333333333333333, \"#9c179e\"], [0.4444444444444444, \"#bd3786\"], [0.5555555555555556, \"#d8576b\"], [0.6666666666666666, \"#ed7953\"], [0.7777777777777778, \"#fb9f3a\"], [0.8888888888888888, \"#fdca26\"], [1.0, \"#f0f921\"]]}, \"colorway\": [\"#636efa\", \"#EF553B\", \"#00cc96\", \"#ab63fa\", \"#FFA15A\", \"#19d3f3\", \"#FF6692\", \"#B6E880\", \"#FF97FF\", \"#FECB52\"], \"font\": {\"color\": \"#f2f5fa\"}, \"geo\": {\"bgcolor\": \"rgb(17,17,17)\", \"lakecolor\": \"rgb(17,17,17)\", \"landcolor\": \"rgb(17,17,17)\", \"showlakes\": true, \"showland\": true, \"subunitcolor\": \"#506784\"}, \"hoverlabel\": {\"align\": \"left\"}, \"hovermode\": \"closest\", \"mapbox\": {\"style\": \"dark\"}, \"paper_bgcolor\": \"rgb(17,17,17)\", \"plot_bgcolor\": \"rgb(17,17,17)\", \"polar\": {\"angularaxis\": {\"gridcolor\": \"#506784\", \"linecolor\": \"#506784\", \"ticks\": \"\"}, \"bgcolor\": \"rgb(17,17,17)\", \"radialaxis\": {\"gridcolor\": \"#506784\", \"linecolor\": \"#506784\", \"ticks\": \"\"}}, \"scene\": {\"xaxis\": {\"backgroundcolor\": \"rgb(17,17,17)\", \"gridcolor\": \"#506784\", \"gridwidth\": 2, \"linecolor\": \"#506784\", \"showbackground\": true, \"ticks\": \"\", \"zerolinecolor\": \"#C8D4E3\"}, \"yaxis\": {\"backgroundcolor\": \"rgb(17,17,17)\", \"gridcolor\": \"#506784\", \"gridwidth\": 2, \"linecolor\": \"#506784\", \"showbackground\": true, \"ticks\": \"\", \"zerolinecolor\": \"#C8D4E3\"}, \"zaxis\": {\"backgroundcolor\": \"rgb(17,17,17)\", \"gridcolor\": \"#506784\", \"gridwidth\": 2, \"linecolor\": \"#506784\", \"showbackground\": true, \"ticks\": \"\", \"zerolinecolor\": \"#C8D4E3\"}}, \"shapedefaults\": {\"line\": {\"color\": \"#f2f5fa\"}}, \"sliderdefaults\": {\"bgcolor\": \"#C8D4E3\", \"bordercolor\": \"rgb(17,17,17)\", \"borderwidth\": 1, \"tickwidth\": 0}, \"ternary\": {\"aaxis\": {\"gridcolor\": \"#506784\", \"linecolor\": \"#506784\", \"ticks\": \"\"}, \"baxis\": {\"gridcolor\": \"#506784\", \"linecolor\": \"#506784\", \"ticks\": \"\"}, \"bgcolor\": \"rgb(17,17,17)\", \"caxis\": {\"gridcolor\": \"#506784\", \"linecolor\": \"#506784\", \"ticks\": \"\"}}, \"title\": {\"x\": 0.05}, \"updatemenudefaults\": {\"bgcolor\": \"#506784\", \"borderwidth\": 0}, \"xaxis\": {\"automargin\": true, \"gridcolor\": \"#283442\", \"linecolor\": \"#506784\", \"ticks\": \"\", \"title\": {\"standoff\": 15}, \"zerolinecolor\": \"#283442\", \"zerolinewidth\": 2}, \"yaxis\": {\"automargin\": true, \"gridcolor\": \"#283442\", \"linecolor\": \"#506784\", \"ticks\": \"\", \"title\": {\"standoff\": 15}, \"zerolinecolor\": \"#283442\", \"zerolinewidth\": 2}}}, \"title\": {\"text\": \"Statewise distribution of the Constituencies all over India\"}, \"xaxis\": {\"anchor\": \"y\", \"domain\": [0.0, 1.0], \"title\": {\"text\": \"STATE\"}}, \"yaxis\": {\"anchor\": \"x\", \"domain\": [0.0, 1.0], \"title\": {\"text\": \"# Constituency\"}}},                        {\"responsive\": true}                    ).then(function(){\n",
       "                            \n",
       "var gd = document.getElementById('65afaff1-2ebe-43a2-b662-71b62578dcfe');\n",
       "var x = new MutationObserver(function (mutations, observer) {{\n",
       "        var display = window.getComputedStyle(gd).display;\n",
       "        if (!display || display === 'none') {{\n",
       "            console.log([gd, 'removed!']);\n",
       "            Plotly.purge(gd);\n",
       "            observer.disconnect();\n",
       "        }}\n",
       "}});\n",
       "\n",
       "// Listen for the removal of the full notebook cells\n",
       "var notebookContainer = gd.closest('#notebook-container');\n",
       "if (notebookContainer) {{\n",
       "    x.observe(notebookContainer, {childList: true});\n",
       "}}\n",
       "\n",
       "// Listen for the clearing of the current output cell\n",
       "var outputEl = gd.closest('.output');\n",
       "if (outputEl) {{\n",
       "    x.observe(outputEl, {childList: true});\n",
       "}}\n",
       "\n",
       "                        })                };                });            </script>        </div>"
      ]
     },
     "metadata": {},
     "output_type": "display_data"
    },
    {
     "data": {
      "image/png": "[encoded data removed]",
      "text/plain": [
       "<Figure size 720x720 with 2 Axes>"
      ]
     },
     "metadata": {
      "needs_background": "light"
     },
     "output_type": "display_data"
    }
   ],
   "source": [
    "st_con=vote.groupby('STATE').apply(lambda x:x['CONSTITUENCY'].nunique()).reset_index(name='# Constituency')\n",
    "shp_gdf = gpd.read_file('/kaggle/input/india-states/Igismap/Indian_States.shp')\n",
    "merged = shp_gdf.set_index('st_nm').join(st_con.set_index('STATE'))\n",
    "fig, ax = plt.subplots(1, figsize=(10, 10))\n",
    "ax.axis('off')\n",
    "ax.set_title('State-wise Distribution of Indian Constituencies',\n",
    "             fontdict={'fontsize': '15', 'fontweight' : '3'})\n",
    "fig = merged.plot(column='# Constituency', cmap='inferno_r',linewidth=0.5, ax=ax, edgecolor='0.2',legend=True)\n",
    "st_con.sort_values(by='# Constituency',ascending=False,inplace=True)\n",
    "fig2 = px.bar(st_con, x='STATE', y='# Constituency',\n",
    "                     color='# Constituency',\n",
    "             labels={'pop':'Constituencies of India'})\n",
    "fig2.update_layout(title_text='Statewise distribution of the Constituencies all over India',template='plotly_dark')\n",
    "fig2.show()"
   ]
  },
  {
   "cell_type": "markdown",
   "metadata": {},
   "source": [
    "**Observation** Uttar Pradesh, Maharashtra and West Bengal- The sates have the most number of constituencies. There exists a direct relationship of count of constituencies and population- The constituencies are divided based on the population of 1971- and this shall remain till the year 2026. Although currently Bihar has a higher population, West Bengal has the 3rd highest constituency count based on the above fact."
   ]
  },
  {
   "cell_type": "markdown",
   "metadata": {},
   "source": [
    "# Lets create a Sunburst image of all the States and Constituencies"
   ]
  },
  {
   "cell_type": "code",
   "execution_count": 13,
   "metadata": {
    "execution": {
     "iopub.execute_input": "2025-03-02T16:12:04.375350Z",
     "iopub.status.busy": "2025-03-02T16:12:04.375106Z",
     "iopub.status.idle": "2025-03-02T16:12:04.551331Z",
     "shell.execute_reply": "2025-03-02T16:12:04.550664Z",
     "shell.execute_reply.started": "2025-03-02T16:12:04.375324Z"
    },
    "trusted": true
   },
   "outputs": [
    {
     "data": {
      "image/png": "[encoded data removed]",
      "text/plain": [
       "<Figure size 864x576 with 1 Axes>"
      ]
     },
     "metadata": {
      "needs_background": "light"
     },
     "output_type": "display_data"
    }
   ],
   "source": [
    "import matplotlib.pyplot as plt\n",
    "import squarify\n",
    "import pandas as pd\n",
    "\n",
    "# Sample Data (Replace with actual vote data)\n",
    "st_con_vt = vote[['STATE', 'CONSTITUENCY', 'TOTAL ELECTORS']]\n",
    "\n",
    "# Group by state and sum total electors\n",
    "state_totals = st_con_vt.groupby('STATE')['TOTAL ELECTORS'].sum().reset_index()\n",
    "\n",
    "# Sort values\n",
    "state_totals = state_totals.sort_values(by='TOTAL ELECTORS', ascending=False)\n",
    "\n",
    "# Normalize values for squarify\n",
    "sizes = state_totals['TOTAL ELECTORS']\n",
    "\n",
    "# Create treemap\n",
    "plt.figure(figsize=(12, 8))\n",
    "squarify.plot(sizes=sizes, label=state_totals['STATE'], alpha=0.7, pad=True)\n",
    "\n",
    "# Add title\n",
    "plt.title(\"Treemap of States by Total Electors\")\n",
    "\n",
    "# Remove axes\n",
    "plt.axis('off')\n",
    "\n",
    "# Show plot\n",
    "plt.show()\n"
   ]
  },
  {
   "cell_type": "markdown",
   "metadata": {},
   "source": [
    "# Party Level Analysis"
   ]
  },
  {
   "cell_type": "markdown",
   "metadata": {},
   "source": [
    "# Which Parties have been present in most constituencies and States?"
   ]
  },
  {
   "cell_type": "code",
   "execution_count": 14,
   "metadata": {
    "execution": {
     "iopub.execute_input": "2025-03-02T16:12:04.552677Z",
     "iopub.status.busy": "2025-03-02T16:12:04.552403Z",
     "iopub.status.idle": "2025-03-02T16:12:04.768268Z",
     "shell.execute_reply": "2025-03-02T16:12:04.767466Z",
     "shell.execute_reply.started": "2025-03-02T16:12:04.552652Z"
    },
    "trusted": true
   },
   "outputs": [
    {
     "data": {
      "image/png": "[encoded data removed]",
      "text/plain": [
       "<Figure size 864x432 with 1 Axes>"
      ]
     },
     "metadata": {
      "needs_background": "light"
     },
     "output_type": "display_data"
    }
   ],
   "source": [
    "import matplotlib.pyplot as plt\n",
    "import seaborn as sns\n",
    "import pandas as pd\n",
    "\n",
    "# Filter out 'NOTA' party\n",
    "vote_prty = vote[vote['PARTY'] != 'NOTA']\n",
    "\n",
    "# Count the number of constituencies contested by each party\n",
    "prty_cnt = vote_prty.groupby('PARTY')['CONSTITUENCY'].count().reset_index(name='# Constituency')\n",
    "\n",
    "# Count the number of states each party is contesting in\n",
    "prty_st = vote_prty.groupby('PARTY')['STATE'].nunique().reset_index(name='# State')\n",
    "\n",
    "# Sort values by the number of constituencies in descending order\n",
    "prty_cnt.sort_values(by='# Constituency', ascending=False, inplace=True)\n",
    "\n",
    "# Select the top 25 parties\n",
    "prty_top_cn = prty_cnt[:25]\n",
    "\n",
    "# Merge constituency and state counts\n",
    "prty_top_all = pd.merge(prty_top_cn, prty_st, on='PARTY', how='inner')\n",
    "\n",
    "# Set figure size\n",
    "plt.figure(figsize=(12, 6))\n",
    "\n",
    "# Create scatter plot\n",
    "sns.scatterplot(data=prty_top_all, x='# Constituency', y='# State', size='# Constituency', \n",
    "                hue='# State', palette='viridis', sizes=(50, 500), edgecolor='black', alpha=0.7)\n",
    "\n",
    "# Add labels and title\n",
    "plt.xlabel('Number of Constituencies Contested')\n",
    "plt.ylabel('Number of States Contested In')\n",
    "plt.title('Constituency vs Statewise Participation for the Most Contesting Political Parties')\n",
    "\n",
    "# Show the plot\n",
    "plt.show()\n"
   ]
  },
  {
   "cell_type": "markdown",
   "metadata": {},
   "source": [
    "**Observation** The Bharatiya Janata Party (BJP) and Indian National Congress (INC) have participated in the most number of constituencies all over India. While BJP leads in the number of constituency contested, INC wins in terms of the number of States. While these are the major parties to contest almost all over India, we see the rest of the parties have restricted themselves to a handfull of states."
   ]
  },
  {
   "cell_type": "markdown",
   "metadata": {},
   "source": [
    "# What has been the performance of the Parties Statewise?"
   ]
  },
  {
   "cell_type": "code",
   "execution_count": 15,
   "metadata": {
    "execution": {
     "iopub.execute_input": "2025-03-02T16:12:04.769707Z",
     "iopub.status.busy": "2025-03-02T16:12:04.769481Z",
     "iopub.status.idle": "2025-03-02T16:12:06.940350Z",
     "shell.execute_reply": "2025-03-02T16:12:06.939606Z",
     "shell.execute_reply.started": "2025-03-02T16:12:04.769684Z"
    },
    "trusted": true
   },
   "outputs": [
    {
     "data": {
      "text/plain": [
       "Text(0.5, 1.0, 'Statewise report card for the Political Parties in India')"
      ]
     },
     "execution_count": 15,
     "metadata": {},
     "output_type": "execute_result"
    },
    {
     "data": {
      "image/png": "[encoded data removed]",
      "text/plain": [
       "<Figure size 1080x2520 with 2 Axes>"
      ]
     },
     "metadata": {
      "needs_background": "light"
     },
     "output_type": "display_data"
    }
   ],
   "source": [
    "st_prty=vote_prty.groupby(['PARTY','STATE']).apply(lambda x:x['WINNER'].sum()).reset_index(name='Wins')\n",
    "pvt_st_prty=pd.pivot(st_prty,index='PARTY',columns='STATE',values='Wins')\n",
    "plt.figure(figsize=(15,35))\n",
    "sns.heatmap(pvt_st_prty,annot=True,fmt='g',cmap='terrain')\n",
    "plt.xlabel('States',size=20)\n",
    "plt.ylabel('Party',size=20)\n",
    "plt.title('Statewise report card for the Political Parties in India',size=25)"
   ]
  },
  {
   "cell_type": "markdown",
   "metadata": {},
   "source": [
    "# Which party has won the most constituencies?"
   ]
  },
  {
   "cell_type": "code",
   "execution_count": 16,
   "metadata": {
    "execution": {
     "iopub.execute_input": "2025-03-02T16:12:06.942237Z",
     "iopub.status.busy": "2025-03-02T16:12:06.941894Z",
     "iopub.status.idle": "2025-03-02T16:12:07.121350Z",
     "shell.execute_reply": "2025-03-02T16:12:07.120680Z",
     "shell.execute_reply.started": "2025-03-02T16:12:06.942200Z"
    },
    "trusted": true
   },
   "outputs": [
    {
     "data": {
      "image/png": "[encoded data removed]",
      "text/plain": [
       "<Figure size 864x432 with 1 Axes>"
      ]
     },
     "metadata": {
      "needs_background": "light"
     },
     "output_type": "display_data"
    }
   ],
   "source": [
    "import matplotlib.pyplot as plt\n",
    "import seaborn as sns\n",
    "import pandas as pd\n",
    "\n",
    "# Group by 'PARTY' and count the number of wins\n",
    "part_win = vote.groupby('PARTY')['WINNER'].sum().reset_index(name='# Wins')\n",
    "\n",
    "# Sort values in descending order\n",
    "part_win.sort_values(by='# Wins', ascending=False, inplace=True)\n",
    "\n",
    "# Select the top 15 parties\n",
    "top_part_win = part_win[:15]\n",
    "\n",
    "# Set figure size\n",
    "plt.figure(figsize=(12, 6))\n",
    "\n",
    "# Create bar plot\n",
    "sns.barplot(data=top_part_win, x='PARTY', y='# Wins', palette='viridis')\n",
    "\n",
    "# Add labels and title\n",
    "plt.xlabel('Party')\n",
    "plt.ylabel('Win Counts')\n",
    "plt.title('Win Counts by a Political Party in 2019')\n",
    "\n",
    "# Rotate x-axis labels for better readability\n",
    "plt.xticks(rotation=45, ha='right')\n",
    "\n",
    "# Show the plot\n",
    "plt.show()\n"
   ]
  },
  {
   "cell_type": "markdown",
   "metadata": {},
   "source": [
    "**Observation** As seen from the data, In 2019, BJP has won the maximum constituencies all over India. The Image below the introduction also suggests the same. The distribution of all the parties is presented below. INC, who stood 2nd in the number of victories had only 52, which is practically 1/6th of the constituencies won by BJP"
   ]
  },
  {
   "cell_type": "markdown",
   "metadata": {},
   "source": [
    "# What has been the general Win vs Loss relationship for the Parties in 2019?"
   ]
  },
  {
   "cell_type": "code",
   "execution_count": 17,
   "metadata": {
    "execution": {
     "iopub.execute_input": "2025-03-02T16:12:07.122817Z",
     "iopub.status.busy": "2025-03-02T16:12:07.122601Z",
     "iopub.status.idle": "2025-03-02T16:12:07.381448Z",
     "shell.execute_reply": "2025-03-02T16:12:07.380695Z",
     "shell.execute_reply.started": "2025-03-02T16:12:07.122796Z"
    },
    "trusted": true
   },
   "outputs": [
    {
     "data": {
      "image/png": "[encoded data removed]",
      "text/plain": [
       "<Figure size 864x432 with 1 Axes>"
      ]
     },
     "metadata": {
      "needs_background": "light"
     },
     "output_type": "display_data"
    }
   ],
   "source": [
    "import matplotlib.pyplot as plt\n",
    "import seaborn as sns\n",
    "import pandas as pd\n",
    "\n",
    "# Merge party data on common column 'PARTY'\n",
    "prty_cnt_win = pd.merge(prty_cnt, part_win, how='inner', on='PARTY')\n",
    "\n",
    "# Calculate losses\n",
    "prty_cnt_win['Lost'] = prty_cnt_win['# Constituency'] - prty_cnt_win['# Wins']\n",
    "\n",
    "# Prepare data for wins and losses\n",
    "prty_wins_cnt = prty_cnt_win[['PARTY', '# Wins']].copy()\n",
    "prty_wins_cnt['Verdict'] = 'Constituency Won'\n",
    "prty_loss_cnt = prty_cnt_win[['PARTY', 'Lost']].copy()\n",
    "prty_loss_cnt['Verdict'] = 'Constituency Lost'\n",
    "\n",
    "# Rename columns for consistency\n",
    "prty_wins_cnt.columns = ['Party', 'Counts', 'Verdict']\n",
    "prty_loss_cnt.columns = ['Party', 'Counts', 'Verdict']\n",
    "\n",
    "# Select top 15 parties\n",
    "top_prty_wins_cnt = prty_wins_cnt[:15]\n",
    "top_prty_loss_cnt = prty_loss_cnt[:15]\n",
    "\n",
    "# Concatenate win and loss data\n",
    "prt_win_loss = pd.concat([top_prty_wins_cnt, top_prty_loss_cnt])\n",
    "\n",
    "# Set figure size\n",
    "plt.figure(figsize=(12, 6))\n",
    "\n",
    "# Create a grouped bar chart\n",
    "sns.barplot(data=prt_win_loss, x='Party', y='Counts', hue='Verdict', palette='viridis')\n",
    "\n",
    "# Add labels and title\n",
    "plt.xlabel('Party')\n",
    "plt.ylabel('Counts')\n",
    "plt.title('Win vs Loss Analysis for the Top Parties')\n",
    "\n",
    "# Rotate x-axis labels for better readability\n",
    "plt.xticks(rotation=45, ha='right')\n",
    "\n",
    "# Show legend\n",
    "plt.legend(title='Verdict')\n",
    "\n",
    "# Show the plot\n",
    "plt.show()\n"
   ]
  },
  {
   "cell_type": "markdown",
   "metadata": {},
   "source": [
    "**Observation** As seen in the above chart, the 2019 elections have been extremely lucky for parties like BJP,SHS or DMK. But it has been a major failure for the rest of the parties, where they have lost more than they won."
   ]
  },
  {
   "cell_type": "markdown",
   "metadata": {},
   "source": [
    "# Politician Level Analytics"
   ]
  },
  {
   "cell_type": "markdown",
   "metadata": {},
   "source": [
    "# What is the Gender Ratio of the Contestants? Also the Gender Ratio of the Winners?"
   ]
  },
  {
   "cell_type": "code",
   "execution_count": 18,
   "metadata": {
    "execution": {
     "iopub.execute_input": "2025-03-02T16:12:07.382636Z",
     "iopub.status.busy": "2025-03-02T16:12:07.382390Z",
     "iopub.status.idle": "2025-03-02T16:12:07.521292Z",
     "shell.execute_reply": "2025-03-02T16:12:07.520600Z",
     "shell.execute_reply.started": "2025-03-02T16:12:07.382612Z"
    },
    "trusted": true
   },
   "outputs": [
    {
     "data": {
      "image/png": "[encoded data removed]",
      "text/plain": [
       "<Figure size 576x360 with 1 Axes>"
      ]
     },
     "metadata": {
      "needs_background": "light"
     },
     "output_type": "display_data"
    }
   ],
   "source": [
    "import matplotlib.pyplot as plt\n",
    "import seaborn as sns\n",
    "import pandas as pd\n",
    "\n",
    "# Exclude NOTA votes\n",
    "vote_gndr = vote[vote['PARTY'] != 'NOTA']\n",
    "\n",
    "# Count overall participation by gender\n",
    "gndr_overall = vote_gndr.groupby('GENDER')['NAME'].count().reset_index(name='Counts')\n",
    "gndr_overall['Category'] = 'Overall Gender Ratio'\n",
    "\n",
    "# Filter winners\n",
    "winners = vote_gndr[vote_gndr['WINNER'] == 1]\n",
    "\n",
    "# Count winners by gender\n",
    "gndr_winner = winners.groupby('GENDER')['NAME'].count().reset_index(name='Counts')\n",
    "gndr_winner['Category'] = 'Winning Gender Ratio'\n",
    "\n",
    "# Combine both dataframes\n",
    "gndr_overl_win = pd.concat([gndr_winner, gndr_overall])\n",
    "\n",
    "# Set figure size\n",
    "plt.figure(figsize=(8, 5))\n",
    "\n",
    "# Create bar plot\n",
    "sns.barplot(data=gndr_overl_win, x='GENDER', y='Counts', hue='Category', palette='viridis')\n",
    "\n",
    "# Add labels and title\n",
    "plt.xlabel('Gender')\n",
    "plt.ylabel('Counts')\n",
    "plt.title('Participation vs Win Counts Analysis for the Genders')\n",
    "\n",
    "# Show legend\n",
    "plt.legend(title='Category')\n",
    "\n",
    "# Show the plot\n",
    "plt.show()\n"
   ]
  },
  {
   "cell_type": "markdown",
   "metadata": {},
   "source": [
    "**Observation** Out of the total list of participants only 12.78% (258 out of 2018) are female politicians, while 87.21% (1760 out of 2018) are male. Upon considering the winners, 14.1% (76 out of 463) are female politicians, while 85.9% are male politicians. The Gender ratio is not very well distributed as can be seen from the above presentation."
   ]
  },
  {
   "cell_type": "markdown",
   "metadata": {},
   "source": [
    "# What is the Educational Qualification of our politicians?"
   ]
  },
  {
   "cell_type": "code",
   "execution_count": 19,
   "metadata": {
    "execution": {
     "iopub.execute_input": "2025-03-02T16:12:07.522918Z",
     "iopub.status.busy": "2025-03-02T16:12:07.522661Z",
     "iopub.status.idle": "2025-03-02T16:12:07.716863Z",
     "shell.execute_reply": "2025-03-02T16:12:07.716101Z",
     "shell.execute_reply.started": "2025-03-02T16:12:07.522892Z"
    },
    "trusted": true
   },
   "outputs": [
    {
     "data": {
      "image/png": "[encoded data removed]",
      "text/plain": [
       "<Figure size 1008x432 with 2 Axes>"
      ]
     },
     "metadata": {},
     "output_type": "display_data"
    }
   ],
   "source": [
    "import matplotlib.pyplot as plt\n",
    "\n",
    "# Exclude NOTA votes\n",
    "ed_valid = vote[vote['PARTY'] != \"NOTA\"]\n",
    "\n",
    "# Count nominees by education\n",
    "ed_cnt = ed_valid.groupby('EDUCATION')['PARTY'].count().reset_index(name='Counts')\n",
    "\n",
    "# Count winners by education\n",
    "ed_won = ed_valid[ed_valid['WINNER'] == 1]\n",
    "ed_win_cnt = ed_won.groupby('EDUCATION')['PARTY'].count().reset_index(name='Counts')\n",
    "\n",
    "# Set figure size\n",
    "fig, axes = plt.subplots(1, 2, figsize=(14, 6))\n",
    "\n",
    "# Define \"explode\" to highlight slices\n",
    "explode = [0.1 if i % 3 == 0 else 0.2 if i % 4 == 0 else 0 for i in range(len(ed_cnt))]\n",
    "\n",
    "# Pie chart for overall education qualification\n",
    "axes[0].pie(ed_cnt['Counts'], labels=ed_cnt['EDUCATION'], autopct='%1.1f%%', startangle=140, colors=plt.cm.viridis.colors)\n",
    "axes[0].set_title('Overall Education Qualification of All Nominees')\n",
    "\n",
    "# Pie chart for winners' education qualification\n",
    "axes[1].pie(ed_win_cnt['Counts'], labels=ed_win_cnt['EDUCATION'], autopct='%1.1f%%', startangle=140, colors=plt.cm.plasma.colors)\n",
    "axes[1].set_title('Education Qualification of the Winners')\n",
    "\n",
    "# Adjust layout\n",
    "plt.tight_layout()\n",
    "plt.show()\n"
   ]
  },
  {
   "cell_type": "markdown",
   "metadata": {},
   "source": [
    "**Observation** The total percentage of Graduate+ educated people contesting in the election is 67.12%, which has increased to 72.17% of the winners. This is actually a positive sign, as educated politicians are a very big factor towards a country's development. But still around 28% of the politicians have received no professional degree. Hope with passing time, we improve upon this factor, and consider the educational qualification as a primary requirement while voting!"
   ]
  },
  {
   "cell_type": "markdown",
   "metadata": {},
   "source": [
    "# What is the relationship of Age and Politics?"
   ]
  },
  {
   "cell_type": "code",
   "execution_count": 20,
   "metadata": {
    "execution": {
     "iopub.execute_input": "2025-03-02T16:12:07.718041Z",
     "iopub.status.busy": "2025-03-02T16:12:07.717834Z",
     "iopub.status.idle": "2025-03-02T16:12:08.541870Z",
     "shell.execute_reply": "2025-03-02T16:12:08.540968Z",
     "shell.execute_reply.started": "2025-03-02T16:12:07.718020Z"
    },
    "trusted": true
   },
   "outputs": [
    {
     "data": {
      "image/png": "[encoded data removed]",
      "text/plain": [
       "<Figure size 864x432 with 1 Axes>"
      ]
     },
     "metadata": {
      "needs_background": "light"
     },
     "output_type": "display_data"
    }
   ],
   "source": [
    "import matplotlib.pyplot as plt\n",
    "import seaborn as sns\n",
    "\n",
    "# Group by AGE and GENDER, then count occurrences\n",
    "age_cnt = ed_valid.groupby(['AGE', 'GENDER'])['NAME'].count().reset_index(name='Counts')\n",
    "\n",
    "# Set figure size\n",
    "plt.figure(figsize=(12, 6))\n",
    "\n",
    "# Create histogram (bar plot) with gender-based coloring\n",
    "sns.barplot(data=age_cnt, x='AGE', y='Counts', hue='GENDER', palette='viridis')\n",
    "\n",
    "# Add labels and title\n",
    "plt.xlabel('Age')\n",
    "plt.ylabel('Counts')\n",
    "plt.title('Age Counts Distribution among the Politicians')\n",
    "\n",
    "# Rotate x-axis labels if needed\n",
    "plt.xticks(rotation=45)\n",
    "\n",
    "# Show legend\n",
    "plt.legend(title='Gender')\n",
    "\n",
    "# Show the plot\n",
    "plt.show()\n"
   ]
  },
  {
   "cell_type": "markdown",
   "metadata": {},
   "source": [
    "**Observation** Most Number of female politicians have their average age between 45-50, while for male politician, it ranges from 50-60 range. The average age of male politians is more as compared to female politicians contesting for the Lok Sabha elections."
   ]
  },
  {
   "cell_type": "markdown",
   "metadata": {},
   "source": [
    "# What relation does the Politician category have with the election results?"
   ]
  },
  {
   "cell_type": "code",
   "execution_count": 21,
   "metadata": {
    "execution": {
     "iopub.execute_input": "2025-03-02T16:12:08.543674Z",
     "iopub.status.busy": "2025-03-02T16:12:08.543269Z",
     "iopub.status.idle": "2025-03-02T16:12:08.851127Z",
     "shell.execute_reply": "2025-03-02T16:12:08.849771Z",
     "shell.execute_reply.started": "2025-03-02T16:12:08.543633Z"
    },
    "trusted": true
   },
   "outputs": [
    {
     "data": {
      "image/png": "[encoded data removed]",
      "text/plain": [
       "<Figure size 864x432 with 1 Axes>"
      ]
     },
     "metadata": {
      "needs_background": "light"
     },
     "output_type": "display_data"
    }
   ],
   "source": [
    "import matplotlib.pyplot as plt\n",
    "import seaborn as sns\n",
    "import pandas as pd\n",
    "\n",
    "# Exclude NOTA votes\n",
    "vote_cat = vote[vote['PARTY'] != 'NOTA']\n",
    "\n",
    "# Count total participation by category\n",
    "cat_overall = vote_cat.groupby('CATEGORY')['NAME'].count().reset_index(name='Counts')\n",
    "cat_overall['Category'] = 'Overall Category Counts'\n",
    "\n",
    "# Filter winners\n",
    "winners_cat = vote_gndr[vote_gndr['WINNER'] == 1]\n",
    "\n",
    "# Count winners by category\n",
    "cat_winner = winners_cat.groupby('CATEGORY')['NAME'].count().reset_index(name='Counts')\n",
    "cat_winner['Category'] = 'Winning Category Ratio'\n",
    "\n",
    "# Combine both dataframes\n",
    "cat_overl_win = pd.concat([cat_winner, cat_overall])\n",
    "\n",
    "# Set figure size\n",
    "plt.figure(figsize=(12, 6))\n",
    "\n",
    "# Create bar plot\n",
    "sns.barplot(data=cat_overl_win, x='CATEGORY', y='Counts', hue='Category', palette='viridis')\n",
    "\n",
    "# Add labels and title\n",
    "plt.xlabel('Category')\n",
    "plt.ylabel('Counts')\n",
    "plt.title('Participation vs Win Counts for the Category in Politics')\n",
    "\n",
    "# Rotate x-axis labels if needed\n",
    "plt.xticks(rotation=45)\n",
    "\n",
    "# Show legend\n",
    "plt.legend(title='Category')\n",
    "\n",
    "# Show the plot\n",
    "plt.show()\n"
   ]
  },
  {
   "cell_type": "markdown",
   "metadata": {},
   "source": [
    "**Observation** The Category participation of General-SC-ST have been in the ratio of 68.97:18.97:12.04- while as of the winners, the ratios have been modified to 74.02:15.76:10:20"
   ]
  },
  {
   "cell_type": "markdown",
   "metadata": {},
   "source": [
    "# Have the politicians been involved with criminal activities?"
   ]
  },
  {
   "cell_type": "code",
   "execution_count": 22,
   "metadata": {
    "execution": {
     "iopub.execute_input": "2025-03-02T16:12:08.853219Z",
     "iopub.status.busy": "2025-03-02T16:12:08.852876Z",
     "iopub.status.idle": "2025-03-02T16:12:09.121193Z",
     "shell.execute_reply": "2025-03-02T16:12:09.120507Z",
     "shell.execute_reply.started": "2025-03-02T16:12:08.853193Z"
    },
    "trusted": true
   },
   "outputs": [
    {
     "data": {
      "image/png": "[encoded data removed]",
      "text/plain": [
       "<Figure size 720x432 with 1 Axes>"
      ]
     },
     "metadata": {
      "needs_background": "light"
     },
     "output_type": "display_data"
    }
   ],
   "source": [
    "import matplotlib.pyplot as plt\n",
    "import seaborn as sns\n",
    "\n",
    "# Group by 'CRIMINAL CASES' and count occurrences\n",
    "crim_cnt = ed_valid.groupby('CRIMINAL CASES')['NAME'].count().reset_index(name='Counts')\n",
    "\n",
    "# Set figure size\n",
    "plt.figure(figsize=(10, 6))\n",
    "\n",
    "# Create histogram (bar plot)\n",
    "sns.barplot(data=crim_cnt, x='CRIMINAL CASES', y='Counts', palette='viridis')\n",
    "\n",
    "# Add labels and title\n",
    "plt.xlabel('Criminal Cases')\n",
    "plt.ylabel('Counts')\n",
    "plt.title('Criminal Cases Counts Distribution among the Politicians')\n",
    "\n",
    "# Show the plot\n",
    "plt.show()\n"
   ]
  },
  {
   "cell_type": "markdown",
   "metadata": {},
   "source": [
    "**Observations** Many politicians have been associated with criminal activities. Always these cases pressed need not be genuine, but obviously, when its multiple- this is a serious issue. We must take the responsibility while voting, as its our duty to choose the right person- as a duty towards the nation."
   ]
  },
  {
   "cell_type": "markdown",
   "metadata": {},
   "source": [
    "# Plotting the Assets vs Liabilities amount for Winning Politicians (Plotted w.r.t State)"
   ]
  },
  {
   "cell_type": "code",
   "execution_count": 23,
   "metadata": {
    "execution": {
     "iopub.execute_input": "2025-03-02T16:12:09.122784Z",
     "iopub.status.busy": "2025-03-02T16:12:09.122464Z",
     "iopub.status.idle": "2025-03-02T16:12:09.609143Z",
     "shell.execute_reply": "2025-03-02T16:12:09.608361Z",
     "shell.execute_reply.started": "2025-03-02T16:12:09.122745Z"
    },
    "trusted": true
   },
   "outputs": [
    {
     "data": {
      "image/png": "[encoded data removed]",
      "text/plain": [
       "<Figure size 864x432 with 1 Axes>"
      ]
     },
     "metadata": {
      "needs_background": "light"
     },
     "output_type": "display_data"
    }
   ],
   "source": [
    "import matplotlib.pyplot as plt\n",
    "import seaborn as sns\n",
    "\n",
    "# Select relevant columns\n",
    "as_liab_name = ed_valid[['NAME', 'PARTY', 'ASSETS', 'LIABILITIES', 'STATE', 'CONSTITUENCY', 'WINNER']]\n",
    "\n",
    "# Replace 1/0 in WINNER column with 'Yes'/'No'\n",
    "as_liab_name['WINNER'] = as_liab_name['WINNER'].replace({1: 'Yes', 0: 'No'})\n",
    "\n",
    "# Filter only winners\n",
    "win_as_liab_name = as_liab_name[as_liab_name['WINNER'] == 'Yes']\n",
    "\n",
    "# Sort by ASSETS in descending order\n",
    "win_as_liab_name = win_as_liab_name.sort_values(by='ASSETS', ascending=False)\n",
    "\n",
    "# Set figure size\n",
    "plt.figure(figsize=(12, 6))\n",
    "\n",
    "# Create scatter plot\n",
    "scatter = sns.scatterplot(data=win_as_liab_name, x='ASSETS', y='LIABILITIES', hue='STATE', size='ASSETS', sizes=(20, 200), alpha=0.7, edgecolors='w')\n",
    "\n",
    "# Add labels and title\n",
    "plt.xlabel('Assets')\n",
    "plt.ylabel('Liabilities')\n",
    "plt.title('Assets vs Liabilities for the Winning Politicians')\n",
    "\n",
    "# Customize legend\n",
    "plt.legend(title='State', bbox_to_anchor=(1.05, 1), loc='upper left')\n",
    "\n",
    "# Show the plot\n",
    "plt.show()\n"
   ]
  },
  {
   "cell_type": "markdown",
   "metadata": {},
   "source": [
    "**Observations** The assets and liabilities of the Winning politicians have been plotted. The parameters vary largely depending on the business/services they are associated with besides politics.\n",
    "No valid correlation could be inferred with respect to assets and liabilities."
   ]
  },
  {
   "cell_type": "markdown",
   "metadata": {},
   "source": [
    "# Prediction"
   ]
  },
  {
   "cell_type": "markdown",
   "metadata": {},
   "source": [
    "**Note** We shall use Random Classifier to predict the results of the election."
   ]
  },
  {
   "cell_type": "code",
   "execution_count": 24,
   "metadata": {
    "execution": {
     "iopub.execute_input": "2025-03-02T16:12:09.610519Z",
     "iopub.status.busy": "2025-03-02T16:12:09.610272Z",
     "iopub.status.idle": "2025-03-02T16:12:09.661068Z",
     "shell.execute_reply": "2025-03-02T16:12:09.660275Z",
     "shell.execute_reply.started": "2025-03-02T16:12:09.610495Z"
    },
    "trusted": true
   },
   "outputs": [
    {
     "data": {
      "text/html": [
       "<div>\n",
       "<style scoped>\n",
       "    .dataframe tbody tr th:only-of-type {\n",
       "        vertical-align: middle;\n",
       "    }\n",
       "\n",
       "    .dataframe tbody tr th {\n",
       "        vertical-align: top;\n",
       "    }\n",
       "\n",
       "    .dataframe thead th {\n",
       "        text-align: right;\n",
       "    }\n",
       "</style>\n",
       "<table border=\"1\" class=\"dataframe\">\n",
       "  <thead>\n",
       "    <tr style=\"text-align: right;\">\n",
       "      <th></th>\n",
       "      <th>STATE</th>\n",
       "      <th>CONSTITUENCY</th>\n",
       "      <th>WINNER</th>\n",
       "      <th>PARTY</th>\n",
       "      <th>SYMBOL</th>\n",
       "      <th>GENDER</th>\n",
       "      <th>CRIMINAL CASES</th>\n",
       "      <th>AGE</th>\n",
       "      <th>CATEGORY</th>\n",
       "      <th>EDUCATION</th>\n",
       "      <th>TOTAL VOTES</th>\n",
       "      <th>TOTAL ELECTORS</th>\n",
       "      <th>ASSETS</th>\n",
       "      <th>LIABILITIES</th>\n",
       "    </tr>\n",
       "  </thead>\n",
       "  <tbody>\n",
       "    <tr>\n",
       "      <th>0</th>\n",
       "      <td>Telangana</td>\n",
       "      <td>ADILABAD</td>\n",
       "      <td>1</td>\n",
       "      <td>1</td>\n",
       "      <td>Lotus</td>\n",
       "      <td>1</td>\n",
       "      <td>52</td>\n",
       "      <td>52.0</td>\n",
       "      <td>3</td>\n",
       "      <td>1</td>\n",
       "      <td>377374</td>\n",
       "      <td>1489790</td>\n",
       "      <td>3099414</td>\n",
       "      <td>231450</td>\n",
       "    </tr>\n",
       "    <tr>\n",
       "      <th>1</th>\n",
       "      <td>Telangana</td>\n",
       "      <td>ADILABAD</td>\n",
       "      <td>0</td>\n",
       "      <td>2</td>\n",
       "      <td>Car</td>\n",
       "      <td>1</td>\n",
       "      <td>0</td>\n",
       "      <td>54.0</td>\n",
       "      <td>3</td>\n",
       "      <td>2</td>\n",
       "      <td>318814</td>\n",
       "      <td>1489790</td>\n",
       "      <td>18477888</td>\n",
       "      <td>847000</td>\n",
       "    </tr>\n",
       "    <tr>\n",
       "      <th>2</th>\n",
       "      <td>Telangana</td>\n",
       "      <td>ADILABAD</td>\n",
       "      <td>0</td>\n",
       "      <td>3</td>\n",
       "      <td>Hand</td>\n",
       "      <td>1</td>\n",
       "      <td>3</td>\n",
       "      <td>52.0</td>\n",
       "      <td>3</td>\n",
       "      <td>1</td>\n",
       "      <td>314238</td>\n",
       "      <td>1489790</td>\n",
       "      <td>36491000</td>\n",
       "      <td>15300000</td>\n",
       "    </tr>\n",
       "    <tr>\n",
       "      <th>4</th>\n",
       "      <td>Uttar Pradesh</td>\n",
       "      <td>AGRA</td>\n",
       "      <td>1</td>\n",
       "      <td>1</td>\n",
       "      <td>Lotus</td>\n",
       "      <td>1</td>\n",
       "      <td>5</td>\n",
       "      <td>58.0</td>\n",
       "      <td>2</td>\n",
       "      <td>3</td>\n",
       "      <td>646875</td>\n",
       "      <td>1937690</td>\n",
       "      <td>74274036</td>\n",
       "      <td>8606522</td>\n",
       "    </tr>\n",
       "    <tr>\n",
       "      <th>5</th>\n",
       "      <td>Uttar Pradesh</td>\n",
       "      <td>AGRA</td>\n",
       "      <td>0</td>\n",
       "      <td>4</td>\n",
       "      <td>Elephant</td>\n",
       "      <td>1</td>\n",
       "      <td>0</td>\n",
       "      <td>47.0</td>\n",
       "      <td>2</td>\n",
       "      <td>2</td>\n",
       "      <td>435329</td>\n",
       "      <td>1937690</td>\n",
       "      <td>133784385</td>\n",
       "      <td>22251891</td>\n",
       "    </tr>\n",
       "  </tbody>\n",
       "</table>\n",
       "</div>"
      ],
      "text/plain": [
       "           STATE CONSTITUENCY  WINNER  PARTY    SYMBOL  GENDER  \\\n",
       "0      Telangana     ADILABAD       1      1     Lotus       1   \n",
       "1      Telangana     ADILABAD       0      2       Car       1   \n",
       "2      Telangana     ADILABAD       0      3      Hand       1   \n",
       "4  Uttar Pradesh         AGRA       1      1     Lotus       1   \n",
       "5  Uttar Pradesh         AGRA       0      4  Elephant       1   \n",
       "\n",
       "   CRIMINAL CASES   AGE  CATEGORY  EDUCATION  TOTAL VOTES  TOTAL ELECTORS  \\\n",
       "0              52  52.0         3          1       377374         1489790   \n",
       "1               0  54.0         3          2       318814         1489790   \n",
       "2               3  52.0         3          1       314238         1489790   \n",
       "4               5  58.0         2          3       646875         1937690   \n",
       "5               0  47.0         2          2       435329         1937690   \n",
       "\n",
       "      ASSETS  LIABILITIES  \n",
       "0    3099414       231450  \n",
       "1   18477888       847000  \n",
       "2   36491000     15300000  \n",
       "4   74274036      8606522  \n",
       "5  133784385     22251891  "
      ]
     },
     "execution_count": 24,
     "metadata": {},
     "output_type": "execute_result"
    }
   ],
   "source": [
    "vote_df=vote[vote['PARTY']!='NOTA']\n",
    "vote_df['GENDER'].replace({'MALE':1,'FEMALE':2},inplace=True)\n",
    "vote_df['CATEGORY'].replace({'GENERAL':1,'SC':2,'ST':3},inplace=True)\n",
    "i=1\n",
    "parties_dict={}\n",
    "for j in vote_df['PARTY']:\n",
    "    if j in parties_dict:\n",
    "        continue\n",
    "    else:\n",
    "        parties_dict[j]=i\n",
    "        i+=1\n",
    "vote_df['PARTY'].replace(parties_dict,inplace=True)\n",
    "a=1\n",
    "edu_dict={}\n",
    "for b in vote_df['EDUCATION']:\n",
    "    if b in edu_dict:\n",
    "        continue\n",
    "    else:\n",
    "        edu_dict[b]=a\n",
    "        a+=1\n",
    "vote_df['EDUCATION'].replace(edu_dict,inplace=True)\n",
    "df1 = vote_df[['STATE','CONSTITUENCY','WINNER','PARTY','SYMBOL','GENDER','CRIMINAL CASES','AGE','CATEGORY','EDUCATION','TOTAL VOTES','TOTAL ELECTORS','ASSETS','LIABILITIES']]\n",
    "num_cols = ['PARTY','EDUCATION','CRIMINAL CASES','AGE','TOTAL VOTES','TOTAL ELECTORS','ASSETS','CATEGORY','LIABILITIES','GENDER']\n",
    "# dataset = pd.get_dummies(df1)\n",
    "dataset=df1\n",
    "# from sklearn.preprocessing import StandardScaler\n",
    "# standardScaler = StandardScaler()\n",
    "# scaling_columns = num_cols\n",
    "# dataset[scaling_columns] = standardScaler.fit_transform(dataset[scaling_columns])\n",
    "dataset.head()"
   ]
  },
  {
   "cell_type": "code",
   "execution_count": 25,
   "metadata": {
    "execution": {
     "iopub.execute_input": "2025-03-02T16:12:09.662261Z",
     "iopub.status.busy": "2025-03-02T16:12:09.662044Z",
     "iopub.status.idle": "2025-03-02T16:12:09.669113Z",
     "shell.execute_reply": "2025-03-02T16:12:09.668359Z",
     "shell.execute_reply.started": "2025-03-02T16:12:09.662239Z"
    },
    "trusted": true
   },
   "outputs": [
    {
     "data": {
      "text/plain": [
       "Lotus                      420\n",
       "Hand                       413\n",
       "Elephant                   166\n",
       "Bicycle                     65\n",
       "Hammer, Sickle and Star     63\n",
       "                          ... \n",
       "Tent                         1\n",
       "COCONUT FARM                 1\n",
       "Matchbox                     1\n",
       "Plastering Trowel            1\n",
       "Cock                         1\n",
       "Name: SYMBOL, Length: 126, dtype: int64"
      ]
     },
     "execution_count": 25,
     "metadata": {},
     "output_type": "execute_result"
    }
   ],
   "source": [
    "dataset.SYMBOL.value_counts()"
   ]
  },
  {
   "cell_type": "code",
   "execution_count": 26,
   "metadata": {
    "execution": {
     "iopub.execute_input": "2025-03-02T16:12:09.670982Z",
     "iopub.status.busy": "2025-03-02T16:12:09.670647Z",
     "iopub.status.idle": "2025-03-02T16:12:09.681354Z",
     "shell.execute_reply": "2025-03-02T16:12:09.680697Z",
     "shell.execute_reply.started": "2025-03-02T16:12:09.670946Z"
    },
    "trusted": true
   },
   "outputs": [],
   "source": [
    "dataset.drop(['STATE','CONSTITUENCY','SYMBOL'],axis=1,inplace=True)"
   ]
  },
  {
   "cell_type": "code",
   "execution_count": 27,
   "metadata": {
    "execution": {
     "iopub.execute_input": "2025-03-02T16:12:09.682814Z",
     "iopub.status.busy": "2025-03-02T16:12:09.682596Z",
     "iopub.status.idle": "2025-03-02T16:12:09.695028Z",
     "shell.execute_reply": "2025-03-02T16:12:09.694359Z",
     "shell.execute_reply.started": "2025-03-02T16:12:09.682792Z"
    },
    "trusted": true
   },
   "outputs": [],
   "source": [
    "# dataset.to_csv(\"election.csv\",index=False)"
   ]
  },
  {
   "cell_type": "code",
   "execution_count": 28,
   "metadata": {
    "execution": {
     "iopub.execute_input": "2025-03-02T16:12:09.696639Z",
     "iopub.status.busy": "2025-03-02T16:12:09.696289Z",
     "iopub.status.idle": "2025-03-02T16:12:09.707126Z",
     "shell.execute_reply": "2025-03-02T16:12:09.706258Z",
     "shell.execute_reply.started": "2025-03-02T16:12:09.696606Z"
    },
    "trusted": true
   },
   "outputs": [
    {
     "data": {
      "text/plain": [
       "Index(['WINNER', 'PARTY', 'GENDER', 'CRIMINAL CASES', 'AGE', 'CATEGORY',\n",
       "       'EDUCATION', 'TOTAL VOTES', 'TOTAL ELECTORS', 'ASSETS', 'LIABILITIES'],\n",
       "      dtype='object')"
      ]
     },
     "execution_count": 28,
     "metadata": {},
     "output_type": "execute_result"
    }
   ],
   "source": [
    "dataset.columns"
   ]
  },
  {
   "cell_type": "code",
   "execution_count": 29,
   "metadata": {
    "execution": {
     "iopub.execute_input": "2025-03-02T16:12:09.708292Z",
     "iopub.status.busy": "2025-03-02T16:12:09.708066Z",
     "iopub.status.idle": "2025-03-02T16:12:09.728146Z",
     "shell.execute_reply": "2025-03-02T16:12:09.727327Z",
     "shell.execute_reply.started": "2025-03-02T16:12:09.708271Z"
    },
    "trusted": true
   },
   "outputs": [
    {
     "data": {
      "text/html": [
       "<div>\n",
       "<style scoped>\n",
       "    .dataframe tbody tr th:only-of-type {\n",
       "        vertical-align: middle;\n",
       "    }\n",
       "\n",
       "    .dataframe tbody tr th {\n",
       "        vertical-align: top;\n",
       "    }\n",
       "\n",
       "    .dataframe thead th {\n",
       "        text-align: right;\n",
       "    }\n",
       "</style>\n",
       "<table border=\"1\" class=\"dataframe\">\n",
       "  <thead>\n",
       "    <tr style=\"text-align: right;\">\n",
       "      <th></th>\n",
       "      <th>WINNER</th>\n",
       "      <th>PARTY</th>\n",
       "      <th>GENDER</th>\n",
       "      <th>CRIMINAL CASES</th>\n",
       "      <th>AGE</th>\n",
       "      <th>CATEGORY</th>\n",
       "      <th>EDUCATION</th>\n",
       "      <th>TOTAL VOTES</th>\n",
       "      <th>TOTAL ELECTORS</th>\n",
       "      <th>ASSETS</th>\n",
       "      <th>LIABILITIES</th>\n",
       "    </tr>\n",
       "  </thead>\n",
       "  <tbody>\n",
       "    <tr>\n",
       "      <th>0</th>\n",
       "      <td>1</td>\n",
       "      <td>1</td>\n",
       "      <td>1</td>\n",
       "      <td>52</td>\n",
       "      <td>52.0</td>\n",
       "      <td>3</td>\n",
       "      <td>1</td>\n",
       "      <td>377374</td>\n",
       "      <td>1489790</td>\n",
       "      <td>3099414</td>\n",
       "      <td>231450</td>\n",
       "    </tr>\n",
       "    <tr>\n",
       "      <th>1</th>\n",
       "      <td>0</td>\n",
       "      <td>2</td>\n",
       "      <td>1</td>\n",
       "      <td>0</td>\n",
       "      <td>54.0</td>\n",
       "      <td>3</td>\n",
       "      <td>2</td>\n",
       "      <td>318814</td>\n",
       "      <td>1489790</td>\n",
       "      <td>18477888</td>\n",
       "      <td>847000</td>\n",
       "    </tr>\n",
       "    <tr>\n",
       "      <th>2</th>\n",
       "      <td>0</td>\n",
       "      <td>3</td>\n",
       "      <td>1</td>\n",
       "      <td>3</td>\n",
       "      <td>52.0</td>\n",
       "      <td>3</td>\n",
       "      <td>1</td>\n",
       "      <td>314238</td>\n",
       "      <td>1489790</td>\n",
       "      <td>36491000</td>\n",
       "      <td>15300000</td>\n",
       "    </tr>\n",
       "    <tr>\n",
       "      <th>4</th>\n",
       "      <td>1</td>\n",
       "      <td>1</td>\n",
       "      <td>1</td>\n",
       "      <td>5</td>\n",
       "      <td>58.0</td>\n",
       "      <td>2</td>\n",
       "      <td>3</td>\n",
       "      <td>646875</td>\n",
       "      <td>1937690</td>\n",
       "      <td>74274036</td>\n",
       "      <td>8606522</td>\n",
       "    </tr>\n",
       "    <tr>\n",
       "      <th>5</th>\n",
       "      <td>0</td>\n",
       "      <td>4</td>\n",
       "      <td>1</td>\n",
       "      <td>0</td>\n",
       "      <td>47.0</td>\n",
       "      <td>2</td>\n",
       "      <td>2</td>\n",
       "      <td>435329</td>\n",
       "      <td>1937690</td>\n",
       "      <td>133784385</td>\n",
       "      <td>22251891</td>\n",
       "    </tr>\n",
       "    <tr>\n",
       "      <th>...</th>\n",
       "      <td>...</td>\n",
       "      <td>...</td>\n",
       "      <td>...</td>\n",
       "      <td>...</td>\n",
       "      <td>...</td>\n",
       "      <td>...</td>\n",
       "      <td>...</td>\n",
       "      <td>...</td>\n",
       "      <td>...</td>\n",
       "      <td>...</td>\n",
       "      <td>...</td>\n",
       "    </tr>\n",
       "    <tr>\n",
       "      <th>2257</th>\n",
       "      <td>0</td>\n",
       "      <td>132</td>\n",
       "      <td>2</td>\n",
       "      <td>0</td>\n",
       "      <td>28.0</td>\n",
       "      <td>1</td>\n",
       "      <td>6</td>\n",
       "      <td>20620</td>\n",
       "      <td>1916185</td>\n",
       "      <td>1168500</td>\n",
       "      <td>9000</td>\n",
       "    </tr>\n",
       "    <tr>\n",
       "      <th>2258</th>\n",
       "      <td>0</td>\n",
       "      <td>18</td>\n",
       "      <td>1</td>\n",
       "      <td>0</td>\n",
       "      <td>43.0</td>\n",
       "      <td>1</td>\n",
       "      <td>2</td>\n",
       "      <td>14686</td>\n",
       "      <td>1916185</td>\n",
       "      <td>4890000</td>\n",
       "      <td>1020000</td>\n",
       "    </tr>\n",
       "    <tr>\n",
       "      <th>2259</th>\n",
       "      <td>1</td>\n",
       "      <td>2</td>\n",
       "      <td>1</td>\n",
       "      <td>18</td>\n",
       "      <td>63.0</td>\n",
       "      <td>1</td>\n",
       "      <td>4</td>\n",
       "      <td>434244</td>\n",
       "      <td>1498666</td>\n",
       "      <td>1287851556</td>\n",
       "      <td>11535000</td>\n",
       "    </tr>\n",
       "    <tr>\n",
       "      <th>2260</th>\n",
       "      <td>0</td>\n",
       "      <td>3</td>\n",
       "      <td>1</td>\n",
       "      <td>0</td>\n",
       "      <td>49.0</td>\n",
       "      <td>1</td>\n",
       "      <td>2</td>\n",
       "      <td>428015</td>\n",
       "      <td>1498666</td>\n",
       "      <td>903663001</td>\n",
       "      <td>0</td>\n",
       "    </tr>\n",
       "    <tr>\n",
       "      <th>2261</th>\n",
       "      <td>0</td>\n",
       "      <td>1</td>\n",
       "      <td>1</td>\n",
       "      <td>3</td>\n",
       "      <td>47.0</td>\n",
       "      <td>1</td>\n",
       "      <td>1</td>\n",
       "      <td>138947</td>\n",
       "      <td>1498666</td>\n",
       "      <td>58577327</td>\n",
       "      <td>5250000</td>\n",
       "    </tr>\n",
       "  </tbody>\n",
       "</table>\n",
       "<p>2018 rows × 11 columns</p>\n",
       "</div>"
      ],
      "text/plain": [
       "      WINNER  PARTY  GENDER  CRIMINAL CASES   AGE  CATEGORY  EDUCATION  \\\n",
       "0          1      1       1              52  52.0         3          1   \n",
       "1          0      2       1               0  54.0         3          2   \n",
       "2          0      3       1               3  52.0         3          1   \n",
       "4          1      1       1               5  58.0         2          3   \n",
       "5          0      4       1               0  47.0         2          2   \n",
       "...      ...    ...     ...             ...   ...       ...        ...   \n",
       "2257       0    132       2               0  28.0         1          6   \n",
       "2258       0     18       1               0  43.0         1          2   \n",
       "2259       1      2       1              18  63.0         1          4   \n",
       "2260       0      3       1               0  49.0         1          2   \n",
       "2261       0      1       1               3  47.0         1          1   \n",
       "\n",
       "      TOTAL VOTES  TOTAL ELECTORS      ASSETS  LIABILITIES  \n",
       "0          377374         1489790     3099414       231450  \n",
       "1          318814         1489790    18477888       847000  \n",
       "2          314238         1489790    36491000     15300000  \n",
       "4          646875         1937690    74274036      8606522  \n",
       "5          435329         1937690   133784385     22251891  \n",
       "...           ...             ...         ...          ...  \n",
       "2257        20620         1916185     1168500         9000  \n",
       "2258        14686         1916185     4890000      1020000  \n",
       "2259       434244         1498666  1287851556     11535000  \n",
       "2260       428015         1498666   903663001            0  \n",
       "2261       138947         1498666    58577327      5250000  \n",
       "\n",
       "[2018 rows x 11 columns]"
      ]
     },
     "execution_count": 29,
     "metadata": {},
     "output_type": "execute_result"
    }
   ],
   "source": [
    "dataset"
   ]
  },
  {
   "cell_type": "code",
   "execution_count": 30,
   "metadata": {
    "execution": {
     "iopub.execute_input": "2025-03-02T16:12:09.729489Z",
     "iopub.status.busy": "2025-03-02T16:12:09.729219Z",
     "iopub.status.idle": "2025-03-02T16:13:12.303778Z",
     "shell.execute_reply": "2025-03-02T16:13:12.302957Z",
     "shell.execute_reply.started": "2025-03-02T16:12:09.729465Z"
    },
    "trusted": true
   },
   "outputs": [
    {
     "data": {
      "application/vnd.plotly.v1+json": {
       "config": {
        "plotlyServerURL": "https://plot.ly"
       },
       "data": [
        {
         "hovertemplate": "x=%{x}<br>y=%{y}<br>size=%{marker.size}<br>color=%{marker.color}<extra></extra>",
         "legendgroup": "",
         "marker": {
          "color": [
           0.9297253372338696,
           0.9314248566320726,
           0.9433656056279165,
           0.950186900698846,
           0.9512096306099231,
           0.9501845789510345,
           0.9508671728076896,
           0.9546191172714821,
           0.9522311996470945,
           0.9576896287525247,
           0.9546191172714819,
           0.9573471709502914,
           0.9549604141998096,
           0.9587123586636018,
           0.9549615750737155,
           0.9570081957697756,
           0.9556430080564648,
           0.9570070348958696,
           0.9539365234148267,
           0.956666898841448,
           0.953596387360405,
           0.9587146804114136,
           0.955304032875949,
           0.9590536555919297,
           0.955302872002043,
           0.9576884678786189,
           0.9559831441108866,
           0.9576884678786189,
           0.9559843049847926,
           0.956666898841448,
           0.9542778203431543,
           0.956666898841448,
           0.9556430080564648,
           0.9593972742680691,
           0.9546202781453879,
           0.9573506535720091,
           0.9542789812170602,
           0.9570093566436814,
           0.9566680597153537,
           0.9580332474286644,
           0.9556441689303709,
           0.9583745443569921,
           0.9576919505003367,
           0.9590571382136472,
           0.9580332474286644,
           0.9587158412853196,
           0.9570093566436814,
           0.9566680597153537,
           0.9570093566436814,
           0.9559854658586986,
           0.9556441689303709,
           0.956666898841448,
           0.9563267627870262,
           0.9573506535720091,
           0.9573506535720091,
           0.9580332474286644,
           0.9583745443569921,
           0.9576919505003367,
           0.9566692205892597
          ],
          "coloraxis": "coloraxis",
          "size": [
           0.9297253372338696,
           0.9314248566320726,
           0.9433656056279165,
           0.950186900698846,
           0.9512096306099231,
           0.9501845789510345,
           0.9508671728076896,
           0.9546191172714821,
           0.9522311996470945,
           0.9576896287525247,
           0.9546191172714819,
           0.9573471709502914,
           0.9549604141998096,
           0.9587123586636018,
           0.9549615750737155,
           0.9570081957697756,
           0.9556430080564648,
           0.9570070348958696,
           0.9539365234148267,
           0.956666898841448,
           0.953596387360405,
           0.9587146804114136,
           0.955304032875949,
           0.9590536555919297,
           0.955302872002043,
           0.9576884678786189,
           0.9559831441108866,
           0.9576884678786189,
           0.9559843049847926,
           0.956666898841448,
           0.9542778203431543,
           0.956666898841448,
           0.9556430080564648,
           0.9593972742680691,
           0.9546202781453879,
           0.9573506535720091,
           0.9542789812170602,
           0.9570093566436814,
           0.9566680597153537,
           0.9580332474286644,
           0.9556441689303709,
           0.9583745443569921,
           0.9576919505003367,
           0.9590571382136472,
           0.9580332474286644,
           0.9587158412853196,
           0.9570093566436814,
           0.9566680597153537,
           0.9570093566436814,
           0.9559854658586986,
           0.9556441689303709,
           0.956666898841448,
           0.9563267627870262,
           0.9573506535720091,
           0.9573506535720091,
           0.9580332474286644,
           0.9583745443569921,
           0.9576919505003367,
           0.9566692205892597
          ],
          "sizemode": "area",
          "sizeref": 0.0023984931856701726,
          "symbol": "circle"
         },
         "mode": "markers",
         "name": "",
         "orientation": "v",
         "showlegend": false,
         "type": "scatter",
         "x": [
          1,
          2,
          3,
          4,
          5,
          6,
          7,
          8,
          9,
          10,
          11,
          12,
          13,
          14,
          15,
          16,
          17,
          18,
          19,
          20,
          21,
          22,
          23,
          24,
          25,
          26,
          27,
          28,
          29,
          30,
          31,
          32,
          33,
          34,
          35,
          36,
          37,
          38,
          39,
          40,
          41,
          42,
          43,
          44,
          45,
          46,
          47,
          48,
          49,
          50,
          51,
          52,
          53,
          54,
          55,
          56,
          57,
          58,
          59
         ],
         "xaxis": "x",
         "y": [
          0.9297253372338696,
          0.9314248566320726,
          0.9433656056279165,
          0.950186900698846,
          0.9512096306099231,
          0.9501845789510345,
          0.9508671728076896,
          0.9546191172714821,
          0.9522311996470945,
          0.9576896287525247,
          0.9546191172714819,
          0.9573471709502914,
          0.9549604141998096,
          0.9587123586636018,
          0.9549615750737155,
          0.9570081957697756,
          0.9556430080564648,
          0.9570070348958696,
          0.9539365234148267,
          0.956666898841448,
          0.953596387360405,
          0.9587146804114136,
          0.955304032875949,
          0.9590536555919297,
          0.955302872002043,
          0.9576884678786189,
          0.9559831441108866,
          0.9576884678786189,
          0.9559843049847926,
          0.956666898841448,
          0.9542778203431543,
          0.956666898841448,
          0.9556430080564648,
          0.9593972742680691,
          0.9546202781453879,
          0.9573506535720091,
          0.9542789812170602,
          0.9570093566436814,
          0.9566680597153537,
          0.9580332474286644,
          0.9556441689303709,
          0.9583745443569921,
          0.9576919505003367,
          0.9590571382136472,
          0.9580332474286644,
          0.9587158412853196,
          0.9570093566436814,
          0.9566680597153537,
          0.9570093566436814,
          0.9559854658586986,
          0.9556441689303709,
          0.956666898841448,
          0.9563267627870262,
          0.9573506535720091,
          0.9573506535720091,
          0.9580332474286644,
          0.9583745443569921,
          0.9576919505003367,
          0.9566692205892597
         ],
         "yaxis": "y"
        }
       ],
       "layout": {
        "coloraxis": {
         "colorbar": {
          "title": {
           "text": "color"
          }
         },
         "colorscale": [
          [
           0,
           "#0d0887"
          ],
          [
           0.1111111111111111,
           "#46039f"
          ],
          [
           0.2222222222222222,
           "#7201a8"
          ],
          [
           0.3333333333333333,
           "#9c179e"
          ],
          [
           0.4444444444444444,
           "#bd3786"
          ],
          [
           0.5555555555555556,
           "#d8576b"
          ],
          [
           0.6666666666666666,
           "#ed7953"
          ],
          [
           0.7777777777777778,
           "#fb9f3a"
          ],
          [
           0.8888888888888888,
           "#fdca26"
          ],
          [
           1,
           "#f0f921"
          ]
         ]
        },
        "legend": {
         "itemsizing": "constant",
         "tracegroupgap": 0
        },
        "margin": {
         "t": 60
        },
        "template": {
         "data": {
          "bar": [
           {
            "error_x": {
             "color": "#f2f5fa"
            },
            "error_y": {
             "color": "#f2f5fa"
            },
            "marker": {
             "line": {
              "color": "rgb(17,17,17)",
              "width": 0.5
             }
            },
            "type": "bar"
           }
          ],
          "barpolar": [
           {
            "marker": {
             "line": {
              "color": "rgb(17,17,17)",
              "width": 0.5
             }
            },
            "type": "barpolar"
           }
          ],
          "carpet": [
           {
            "aaxis": {
             "endlinecolor": "#A2B1C6",
             "gridcolor": "#506784",
             "linecolor": "#506784",
             "minorgridcolor": "#506784",
             "startlinecolor": "#A2B1C6"
            },
            "baxis": {
             "endlinecolor": "#A2B1C6",
             "gridcolor": "#506784",
             "linecolor": "#506784",
             "minorgridcolor": "#506784",
             "startlinecolor": "#A2B1C6"
            },
            "type": "carpet"
           }
          ],
          "choropleth": [
           {
            "colorbar": {
             "outlinewidth": 0,
             "ticks": ""
            },
            "type": "choropleth"
           }
          ],
          "contour": [
           {
            "colorbar": {
             "outlinewidth": 0,
             "ticks": ""
            },
            "colorscale": [
             [
              0,
              "#0d0887"
             ],
             [
              0.1111111111111111,
              "#46039f"
             ],
             [
              0.2222222222222222,
              "#7201a8"
             ],
             [
              0.3333333333333333,
              "#9c179e"
             ],
             [
              0.4444444444444444,
              "#bd3786"
             ],
             [
              0.5555555555555556,
              "#d8576b"
             ],
             [
              0.6666666666666666,
              "#ed7953"
             ],
             [
              0.7777777777777778,
              "#fb9f3a"
             ],
             [
              0.8888888888888888,
              "#fdca26"
             ],
             [
              1,
              "#f0f921"
             ]
            ],
            "type": "contour"
           }
          ],
          "contourcarpet": [
           {
            "colorbar": {
             "outlinewidth": 0,
             "ticks": ""
            },
            "type": "contourcarpet"
           }
          ],
          "heatmap": [
           {
            "colorbar": {
             "outlinewidth": 0,
             "ticks": ""
            },
            "colorscale": [
             [
              0,
              "#0d0887"
             ],
             [
              0.1111111111111111,
              "#46039f"
             ],
             [
              0.2222222222222222,
              "#7201a8"
             ],
             [
              0.3333333333333333,
              "#9c179e"
             ],
             [
              0.4444444444444444,
              "#bd3786"
             ],
             [
              0.5555555555555556,
              "#d8576b"
             ],
             [
              0.6666666666666666,
              "#ed7953"
             ],
             [
              0.7777777777777778,
              "#fb9f3a"
             ],
             [
              0.8888888888888888,
              "#fdca26"
             ],
             [
              1,
              "#f0f921"
             ]
            ],
            "type": "heatmap"
           }
          ],
          "heatmapgl": [
           {
            "colorbar": {
             "outlinewidth": 0,
             "ticks": ""
            },
            "colorscale": [
             [
              0,
              "#0d0887"
             ],
             [
              0.1111111111111111,
              "#46039f"
             ],
             [
              0.2222222222222222,
              "#7201a8"
             ],
             [
              0.3333333333333333,
              "#9c179e"
             ],
             [
              0.4444444444444444,
              "#bd3786"
             ],
             [
              0.5555555555555556,
              "#d8576b"
             ],
             [
              0.6666666666666666,
              "#ed7953"
             ],
             [
              0.7777777777777778,
              "#fb9f3a"
             ],
             [
              0.8888888888888888,
              "#fdca26"
             ],
             [
              1,
              "#f0f921"
             ]
            ],
            "type": "heatmapgl"
           }
          ],
          "histogram": [
           {
            "marker": {
             "colorbar": {
              "outlinewidth": 0,
              "ticks": ""
             }
            },
            "type": "histogram"
           }
          ],
          "histogram2d": [
           {
            "colorbar": {
             "outlinewidth": 0,
             "ticks": ""
            },
            "colorscale": [
             [
              0,
              "#0d0887"
             ],
             [
              0.1111111111111111,
              "#46039f"
             ],
             [
              0.2222222222222222,
              "#7201a8"
             ],
             [
              0.3333333333333333,
              "#9c179e"
             ],
             [
              0.4444444444444444,
              "#bd3786"
             ],
             [
              0.5555555555555556,
              "#d8576b"
             ],
             [
              0.6666666666666666,
              "#ed7953"
             ],
             [
              0.7777777777777778,
              "#fb9f3a"
             ],
             [
              0.8888888888888888,
              "#fdca26"
             ],
             [
              1,
              "#f0f921"
             ]
            ],
            "type": "histogram2d"
           }
          ],
          "histogram2dcontour": [
           {
            "colorbar": {
             "outlinewidth": 0,
             "ticks": ""
            },
            "colorscale": [
             [
              0,
              "#0d0887"
             ],
             [
              0.1111111111111111,
              "#46039f"
             ],
             [
              0.2222222222222222,
              "#7201a8"
             ],
             [
              0.3333333333333333,
              "#9c179e"
             ],
             [
              0.4444444444444444,
              "#bd3786"
             ],
             [
              0.5555555555555556,
              "#d8576b"
             ],
             [
              0.6666666666666666,
              "#ed7953"
             ],
             [
              0.7777777777777778,
              "#fb9f3a"
             ],
             [
              0.8888888888888888,
              "#fdca26"
             ],
             [
              1,
              "#f0f921"
             ]
            ],
            "type": "histogram2dcontour"
           }
          ],
          "mesh3d": [
           {
            "colorbar": {
             "outlinewidth": 0,
             "ticks": ""
            },
            "type": "mesh3d"
           }
          ],
          "parcoords": [
           {
            "line": {
             "colorbar": {
              "outlinewidth": 0,
              "ticks": ""
             }
            },
            "type": "parcoords"
           }
          ],
          "pie": [
           {
            "automargin": true,
            "type": "pie"
           }
          ],
          "scatter": [
           {
            "marker": {
             "line": {
              "color": "#283442"
             }
            },
            "type": "scatter"
           }
          ],
          "scatter3d": [
           {
            "line": {
             "colorbar": {
              "outlinewidth": 0,
              "ticks": ""
             }
            },
            "marker": {
             "colorbar": {
              "outlinewidth": 0,
              "ticks": ""
             }
            },
            "type": "scatter3d"
           }
          ],
          "scattercarpet": [
           {
            "marker": {
             "colorbar": {
              "outlinewidth": 0,
              "ticks": ""
             }
            },
            "type": "scattercarpet"
           }
          ],
          "scattergeo": [
           {
            "marker": {
             "colorbar": {
              "outlinewidth": 0,
              "ticks": ""
             }
            },
            "type": "scattergeo"
           }
          ],
          "scattergl": [
           {
            "marker": {
             "line": {
              "color": "#283442"
             }
            },
            "type": "scattergl"
           }
          ],
          "scattermapbox": [
           {
            "marker": {
             "colorbar": {
              "outlinewidth": 0,
              "ticks": ""
             }
            },
            "type": "scattermapbox"
           }
          ],
          "scatterpolar": [
           {
            "marker": {
             "colorbar": {
              "outlinewidth": 0,
              "ticks": ""
             }
            },
            "type": "scatterpolar"
           }
          ],
          "scatterpolargl": [
           {
            "marker": {
             "colorbar": {
              "outlinewidth": 0,
              "ticks": ""
             }
            },
            "type": "scatterpolargl"
           }
          ],
          "scatterternary": [
           {
            "marker": {
             "colorbar": {
              "outlinewidth": 0,
              "ticks": ""
             }
            },
            "type": "scatterternary"
           }
          ],
          "surface": [
           {
            "colorbar": {
             "outlinewidth": 0,
             "ticks": ""
            },
            "colorscale": [
             [
              0,
              "#0d0887"
             ],
             [
              0.1111111111111111,
              "#46039f"
             ],
             [
              0.2222222222222222,
              "#7201a8"
             ],
             [
              0.3333333333333333,
              "#9c179e"
             ],
             [
              0.4444444444444444,
              "#bd3786"
             ],
             [
              0.5555555555555556,
              "#d8576b"
             ],
             [
              0.6666666666666666,
              "#ed7953"
             ],
             [
              0.7777777777777778,
              "#fb9f3a"
             ],
             [
              0.8888888888888888,
              "#fdca26"
             ],
             [
              1,
              "#f0f921"
             ]
            ],
            "type": "surface"
           }
          ],
          "table": [
           {
            "cells": {
             "fill": {
              "color": "#506784"
             },
             "line": {
              "color": "rgb(17,17,17)"
             }
            },
            "header": {
             "fill": {
              "color": "#2a3f5f"
             },
             "line": {
              "color": "rgb(17,17,17)"
             }
            },
            "type": "table"
           }
          ]
         },
         "layout": {
          "annotationdefaults": {
           "arrowcolor": "#f2f5fa",
           "arrowhead": 0,
           "arrowwidth": 1
          },
          "coloraxis": {
           "colorbar": {
            "outlinewidth": 0,
            "ticks": ""
           }
          },
          "colorscale": {
           "diverging": [
            [
             0,
             "#8e0152"
            ],
            [
             0.1,
             "#c51b7d"
            ],
            [
             0.2,
             "#de77ae"
            ],
            [
             0.3,
             "#f1b6da"
            ],
            [
             0.4,
             "#fde0ef"
            ],
            [
             0.5,
             "#f7f7f7"
            ],
            [
             0.6,
             "#e6f5d0"
            ],
            [
             0.7,
             "#b8e186"
            ],
            [
             0.8,
             "#7fbc41"
            ],
            [
             0.9,
             "#4d9221"
            ],
            [
             1,
             "#276419"
            ]
           ],
           "sequential": [
            [
             0,
             "#0d0887"
            ],
            [
             0.1111111111111111,
             "#46039f"
            ],
            [
             0.2222222222222222,
             "#7201a8"
            ],
            [
             0.3333333333333333,
             "#9c179e"
            ],
            [
             0.4444444444444444,
             "#bd3786"
            ],
            [
             0.5555555555555556,
             "#d8576b"
            ],
            [
             0.6666666666666666,
             "#ed7953"
            ],
            [
             0.7777777777777778,
             "#fb9f3a"
            ],
            [
             0.8888888888888888,
             "#fdca26"
            ],
            [
             1,
             "#f0f921"
            ]
           ],
           "sequentialminus": [
            [
             0,
             "#0d0887"
            ],
            [
             0.1111111111111111,
             "#46039f"
            ],
            [
             0.2222222222222222,
             "#7201a8"
            ],
            [
             0.3333333333333333,
             "#9c179e"
            ],
            [
             0.4444444444444444,
             "#bd3786"
            ],
            [
             0.5555555555555556,
             "#d8576b"
            ],
            [
             0.6666666666666666,
             "#ed7953"
            ],
            [
             0.7777777777777778,
             "#fb9f3a"
            ],
            [
             0.8888888888888888,
             "#fdca26"
            ],
            [
             1,
             "#f0f921"
            ]
           ]
          },
          "colorway": [
           "#636efa",
           "#EF553B",
           "#00cc96",
           "#ab63fa",
           "#FFA15A",
           "#19d3f3",
           "#FF6692",
           "#B6E880",
           "#FF97FF",
           "#FECB52"
          ],
          "font": {
           "color": "#f2f5fa"
          },
          "geo": {
           "bgcolor": "rgb(17,17,17)",
           "lakecolor": "rgb(17,17,17)",
           "landcolor": "rgb(17,17,17)",
           "showlakes": true,
           "showland": true,
           "subunitcolor": "#506784"
          },
          "hoverlabel": {
           "align": "left"
          },
          "hovermode": "closest",
          "mapbox": {
           "style": "dark"
          },
          "paper_bgcolor": "rgb(17,17,17)",
          "plot_bgcolor": "rgb(17,17,17)",
          "polar": {
           "angularaxis": {
            "gridcolor": "#506784",
            "linecolor": "#506784",
            "ticks": ""
           },
           "bgcolor": "rgb(17,17,17)",
           "radialaxis": {
            "gridcolor": "#506784",
            "linecolor": "#506784",
            "ticks": ""
           }
          },
          "scene": {
           "xaxis": {
            "backgroundcolor": "rgb(17,17,17)",
            "gridcolor": "#506784",
            "gridwidth": 2,
            "linecolor": "#506784",
            "showbackground": true,
            "ticks": "",
            "zerolinecolor": "#C8D4E3"
           },
           "yaxis": {
            "backgroundcolor": "rgb(17,17,17)",
            "gridcolor": "#506784",
            "gridwidth": 2,
            "linecolor": "#506784",
            "showbackground": true,
            "ticks": "",
            "zerolinecolor": "#C8D4E3"
           },
           "zaxis": {
            "backgroundcolor": "rgb(17,17,17)",
            "gridcolor": "#506784",
            "gridwidth": 2,
            "linecolor": "#506784",
            "showbackground": true,
            "ticks": "",
            "zerolinecolor": "#C8D4E3"
           }
          },
          "shapedefaults": {
           "line": {
            "color": "#f2f5fa"
           }
          },
          "sliderdefaults": {
           "bgcolor": "#C8D4E3",
           "bordercolor": "rgb(17,17,17)",
           "borderwidth": 1,
           "tickwidth": 0
          },
          "ternary": {
           "aaxis": {
            "gridcolor": "#506784",
            "linecolor": "#506784",
            "ticks": ""
           },
           "baxis": {
            "gridcolor": "#506784",
            "linecolor": "#506784",
            "ticks": ""
           },
           "bgcolor": "rgb(17,17,17)",
           "caxis": {
            "gridcolor": "#506784",
            "linecolor": "#506784",
            "ticks": ""
           }
          },
          "title": {
           "x": 0.05
          },
          "updatemenudefaults": {
           "bgcolor": "#506784",
           "borderwidth": 0
          },
          "xaxis": {
           "automargin": true,
           "gridcolor": "#283442",
           "linecolor": "#506784",
           "ticks": "",
           "title": {
            "standoff": 15
           },
           "zerolinecolor": "#283442",
           "zerolinewidth": 2
          },
          "yaxis": {
           "automargin": true,
           "gridcolor": "#283442",
           "linecolor": "#506784",
           "ticks": "",
           "title": {
            "standoff": 15
           },
           "zerolinecolor": "#283442",
           "zerolinewidth": 2
          }
         }
        },
        "title": {
         "text": "Assets vs Liabilities for the Winning Politicians"
        },
        "xaxis": {
         "anchor": "y",
         "domain": [
          0,
          1
         ],
         "title": {
          "text": "x"
         }
        },
        "yaxis": {
         "anchor": "x",
         "domain": [
          0,
          1
         ],
         "title": {
          "text": "y"
         }
        }
       }
      },
      "text/html": [
       "<div>                            <div id=\"2b1b0c8f-e2f4-4e68-9e56-7b3373322061\" class=\"plotly-graph-div\" style=\"height:525px; width:100%;\"></div>            <script type=\"text/javascript\">                require([\"plotly\"], function(Plotly) {                    window.PLOTLYENV=window.PLOTLYENV || {};                                    if (document.getElementById(\"2b1b0c8f-e2f4-4e68-9e56-7b3373322061\")) {                    Plotly.newPlot(                        \"2b1b0c8f-e2f4-4e68-9e56-7b3373322061\",                        [{\"hovertemplate\": \"x=%{x}<br>y=%{y}<br>size=%{marker.size}<br>color=%{marker.color}<extra></extra>\", \"legendgroup\": \"\", \"marker\": {\"color\": [0.9297253372338696, 0.9314248566320726, 0.9433656056279165, 0.950186900698846, 0.9512096306099231, 0.9501845789510345, 0.9508671728076896, 0.9546191172714821, 0.9522311996470945, 0.9576896287525247, 0.9546191172714819, 0.9573471709502914, 0.9549604141998096, 0.9587123586636018, 0.9549615750737155, 0.9570081957697756, 0.9556430080564648, 0.9570070348958696, 0.9539365234148267, 0.956666898841448, 0.953596387360405, 0.9587146804114136, 0.955304032875949, 0.9590536555919297, 0.955302872002043, 0.9576884678786189, 0.9559831441108866, 0.9576884678786189, 0.9559843049847926, 0.956666898841448, 0.9542778203431543, 0.956666898841448, 0.9556430080564648, 0.9593972742680691, 0.9546202781453879, 0.9573506535720091, 0.9542789812170602, 0.9570093566436814, 0.9566680597153537, 0.9580332474286644, 0.9556441689303709, 0.9583745443569921, 0.9576919505003367, 0.9590571382136472, 0.9580332474286644, 0.9587158412853196, 0.9570093566436814, 0.9566680597153537, 0.9570093566436814, 0.9559854658586986, 0.9556441689303709, 0.956666898841448, 0.9563267627870262, 0.9573506535720091, 0.9573506535720091, 0.9580332474286644, 0.9583745443569921, 0.9576919505003367, 0.9566692205892597], \"coloraxis\": \"coloraxis\", \"size\": [0.9297253372338696, 0.9314248566320726, 0.9433656056279165, 0.950186900698846, 0.9512096306099231, 0.9501845789510345, 0.9508671728076896, 0.9546191172714821, 0.9522311996470945, 0.9576896287525247, 0.9546191172714819, 0.9573471709502914, 0.9549604141998096, 0.9587123586636018, 0.9549615750737155, 0.9570081957697756, 0.9556430080564648, 0.9570070348958696, 0.9539365234148267, 0.956666898841448, 0.953596387360405, 0.9587146804114136, 0.955304032875949, 0.9590536555919297, 0.955302872002043, 0.9576884678786189, 0.9559831441108866, 0.9576884678786189, 0.9559843049847926, 0.956666898841448, 0.9542778203431543, 0.956666898841448, 0.9556430080564648, 0.9593972742680691, 0.9546202781453879, 0.9573506535720091, 0.9542789812170602, 0.9570093566436814, 0.9566680597153537, 0.9580332474286644, 0.9556441689303709, 0.9583745443569921, 0.9576919505003367, 0.9590571382136472, 0.9580332474286644, 0.9587158412853196, 0.9570093566436814, 0.9566680597153537, 0.9570093566436814, 0.9559854658586986, 0.9556441689303709, 0.956666898841448, 0.9563267627870262, 0.9573506535720091, 0.9573506535720091, 0.9580332474286644, 0.9583745443569921, 0.9576919505003367, 0.9566692205892597], \"sizemode\": \"area\", \"sizeref\": 0.0023984931856701726, \"symbol\": \"circle\"}, \"mode\": \"markers\", \"name\": \"\", \"orientation\": \"v\", \"showlegend\": false, \"type\": \"scatter\", \"x\": [1, 2, 3, 4, 5, 6, 7, 8, 9, 10, 11, 12, 13, 14, 15, 16, 17, 18, 19, 20, 21, 22, 23, 24, 25, 26, 27, 28, 29, 30, 31, 32, 33, 34, 35, 36, 37, 38, 39, 40, 41, 42, 43, 44, 45, 46, 47, 48, 49, 50, 51, 52, 53, 54, 55, 56, 57, 58, 59], \"xaxis\": \"x\", \"y\": [0.9297253372338696, 0.9314248566320726, 0.9433656056279165, 0.950186900698846, 0.9512096306099231, 0.9501845789510345, 0.9508671728076896, 0.9546191172714821, 0.9522311996470945, 0.9576896287525247, 0.9546191172714819, 0.9573471709502914, 0.9549604141998096, 0.9587123586636018, 0.9549615750737155, 0.9570081957697756, 0.9556430080564648, 0.9570070348958696, 0.9539365234148267, 0.956666898841448, 0.953596387360405, 0.9587146804114136, 0.955304032875949, 0.9590536555919297, 0.955302872002043, 0.9576884678786189, 0.9559831441108866, 0.9576884678786189, 0.9559843049847926, 0.956666898841448, 0.9542778203431543, 0.956666898841448, 0.9556430080564648, 0.9593972742680691, 0.9546202781453879, 0.9573506535720091, 0.9542789812170602, 0.9570093566436814, 0.9566680597153537, 0.9580332474286644, 0.9556441689303709, 0.9583745443569921, 0.9576919505003367, 0.9590571382136472, 0.9580332474286644, 0.9587158412853196, 0.9570093566436814, 0.9566680597153537, 0.9570093566436814, 0.9559854658586986, 0.9556441689303709, 0.956666898841448, 0.9563267627870262, 0.9573506535720091, 0.9573506535720091, 0.9580332474286644, 0.9583745443569921, 0.9576919505003367, 0.9566692205892597], \"yaxis\": \"y\"}],                        {\"coloraxis\": {\"colorbar\": {\"title\": {\"text\": \"color\"}}, \"colorscale\": [[0.0, \"#0d0887\"], [0.1111111111111111, \"#46039f\"], [0.2222222222222222, \"#7201a8\"], [0.3333333333333333, \"#9c179e\"], [0.4444444444444444, \"#bd3786\"], [0.5555555555555556, \"#d8576b\"], [0.6666666666666666, \"#ed7953\"], [0.7777777777777778, \"#fb9f3a\"], [0.8888888888888888, \"#fdca26\"], [1.0, \"#f0f921\"]]}, \"legend\": {\"itemsizing\": \"constant\", \"tracegroupgap\": 0}, \"margin\": {\"t\": 60}, \"template\": {\"data\": {\"bar\": [{\"error_x\": {\"color\": \"#f2f5fa\"}, \"error_y\": {\"color\": \"#f2f5fa\"}, \"marker\": {\"line\": {\"color\": \"rgb(17,17,17)\", \"width\": 0.5}}, \"type\": \"bar\"}], \"barpolar\": [{\"marker\": {\"line\": {\"color\": \"rgb(17,17,17)\", \"width\": 0.5}}, \"type\": \"barpolar\"}], \"carpet\": [{\"aaxis\": {\"endlinecolor\": \"#A2B1C6\", \"gridcolor\": \"#506784\", \"linecolor\": \"#506784\", \"minorgridcolor\": \"#506784\", \"startlinecolor\": \"#A2B1C6\"}, \"baxis\": {\"endlinecolor\": \"#A2B1C6\", \"gridcolor\": \"#506784\", \"linecolor\": \"#506784\", \"minorgridcolor\": \"#506784\", \"startlinecolor\": \"#A2B1C6\"}, \"type\": \"carpet\"}], \"choropleth\": [{\"colorbar\": {\"outlinewidth\": 0, \"ticks\": \"\"}, \"type\": \"choropleth\"}], \"contour\": [{\"colorbar\": {\"outlinewidth\": 0, \"ticks\": \"\"}, \"colorscale\": [[0.0, \"#0d0887\"], [0.1111111111111111, \"#46039f\"], [0.2222222222222222, \"#7201a8\"], [0.3333333333333333, \"#9c179e\"], [0.4444444444444444, \"#bd3786\"], [0.5555555555555556, \"#d8576b\"], [0.6666666666666666, \"#ed7953\"], [0.7777777777777778, \"#fb9f3a\"], [0.8888888888888888, \"#fdca26\"], [1.0, \"#f0f921\"]], \"type\": \"contour\"}], \"contourcarpet\": [{\"colorbar\": {\"outlinewidth\": 0, \"ticks\": \"\"}, \"type\": \"contourcarpet\"}], \"heatmap\": [{\"colorbar\": {\"outlinewidth\": 0, \"ticks\": \"\"}, \"colorscale\": [[0.0, \"#0d0887\"], [0.1111111111111111, \"#46039f\"], [0.2222222222222222, \"#7201a8\"], [0.3333333333333333, \"#9c179e\"], [0.4444444444444444, \"#bd3786\"], [0.5555555555555556, \"#d8576b\"], [0.6666666666666666, \"#ed7953\"], [0.7777777777777778, \"#fb9f3a\"], [0.8888888888888888, \"#fdca26\"], [1.0, \"#f0f921\"]], \"type\": \"heatmap\"}], \"heatmapgl\": [{\"colorbar\": {\"outlinewidth\": 0, \"ticks\": \"\"}, \"colorscale\": [[0.0, \"#0d0887\"], [0.1111111111111111, \"#46039f\"], [0.2222222222222222, \"#7201a8\"], [0.3333333333333333, \"#9c179e\"], [0.4444444444444444, \"#bd3786\"], [0.5555555555555556, \"#d8576b\"], [0.6666666666666666, \"#ed7953\"], [0.7777777777777778, \"#fb9f3a\"], [0.8888888888888888, \"#fdca26\"], [1.0, \"#f0f921\"]], \"type\": \"heatmapgl\"}], \"histogram\": [{\"marker\": {\"colorbar\": {\"outlinewidth\": 0, \"ticks\": \"\"}}, \"type\": \"histogram\"}], \"histogram2d\": [{\"colorbar\": {\"outlinewidth\": 0, \"ticks\": \"\"}, \"colorscale\": [[0.0, \"#0d0887\"], [0.1111111111111111, \"#46039f\"], [0.2222222222222222, \"#7201a8\"], [0.3333333333333333, \"#9c179e\"], [0.4444444444444444, \"#bd3786\"], [0.5555555555555556, \"#d8576b\"], [0.6666666666666666, \"#ed7953\"], [0.7777777777777778, \"#fb9f3a\"], [0.8888888888888888, \"#fdca26\"], [1.0, \"#f0f921\"]], \"type\": \"histogram2d\"}], \"histogram2dcontour\": [{\"colorbar\": {\"outlinewidth\": 0, \"ticks\": \"\"}, \"colorscale\": [[0.0, \"#0d0887\"], [0.1111111111111111, \"#46039f\"], [0.2222222222222222, \"#7201a8\"], [0.3333333333333333, \"#9c179e\"], [0.4444444444444444, \"#bd3786\"], [0.5555555555555556, \"#d8576b\"], [0.6666666666666666, \"#ed7953\"], [0.7777777777777778, \"#fb9f3a\"], [0.8888888888888888, \"#fdca26\"], [1.0, \"#f0f921\"]], \"type\": \"histogram2dcontour\"}], \"mesh3d\": [{\"colorbar\": {\"outlinewidth\": 0, \"ticks\": \"\"}, \"type\": \"mesh3d\"}], \"parcoords\": [{\"line\": {\"colorbar\": {\"outlinewidth\": 0, \"ticks\": \"\"}}, \"type\": \"parcoords\"}], \"pie\": [{\"automargin\": true, \"type\": \"pie\"}], \"scatter\": [{\"marker\": {\"line\": {\"color\": \"#283442\"}}, \"type\": \"scatter\"}], \"scatter3d\": [{\"line\": {\"colorbar\": {\"outlinewidth\": 0, \"ticks\": \"\"}}, \"marker\": {\"colorbar\": {\"outlinewidth\": 0, \"ticks\": \"\"}}, \"type\": \"scatter3d\"}], \"scattercarpet\": [{\"marker\": {\"colorbar\": {\"outlinewidth\": 0, \"ticks\": \"\"}}, \"type\": \"scattercarpet\"}], \"scattergeo\": [{\"marker\": {\"colorbar\": {\"outlinewidth\": 0, \"ticks\": \"\"}}, \"type\": \"scattergeo\"}], \"scattergl\": [{\"marker\": {\"line\": {\"color\": \"#283442\"}}, \"type\": \"scattergl\"}], \"scattermapbox\": [{\"marker\": {\"colorbar\": {\"outlinewidth\": 0, \"ticks\": \"\"}}, \"type\": \"scattermapbox\"}], \"scatterpolar\": [{\"marker\": {\"colorbar\": {\"outlinewidth\": 0, \"ticks\": \"\"}}, \"type\": \"scatterpolar\"}], \"scatterpolargl\": [{\"marker\": {\"colorbar\": {\"outlinewidth\": 0, \"ticks\": \"\"}}, \"type\": \"scatterpolargl\"}], \"scatterternary\": [{\"marker\": {\"colorbar\": {\"outlinewidth\": 0, \"ticks\": \"\"}}, \"type\": \"scatterternary\"}], \"surface\": [{\"colorbar\": {\"outlinewidth\": 0, \"ticks\": \"\"}, \"colorscale\": [[0.0, \"#0d0887\"], [0.1111111111111111, \"#46039f\"], [0.2222222222222222, \"#7201a8\"], [0.3333333333333333, \"#9c179e\"], [0.4444444444444444, \"#bd3786\"], [0.5555555555555556, \"#d8576b\"], [0.6666666666666666, \"#ed7953\"], [0.7777777777777778, \"#fb9f3a\"], [0.8888888888888888, \"#fdca26\"], [1.0, \"#f0f921\"]], \"type\": \"surface\"}], \"table\": [{\"cells\": {\"fill\": {\"color\": \"#506784\"}, \"line\": {\"color\": \"rgb(17,17,17)\"}}, \"header\": {\"fill\": {\"color\": \"#2a3f5f\"}, \"line\": {\"color\": \"rgb(17,17,17)\"}}, \"type\": \"table\"}]}, \"layout\": {\"annotationdefaults\": {\"arrowcolor\": \"#f2f5fa\", \"arrowhead\": 0, \"arrowwidth\": 1}, \"coloraxis\": {\"colorbar\": {\"outlinewidth\": 0, \"ticks\": \"\"}}, \"colorscale\": {\"diverging\": [[0, \"#8e0152\"], [0.1, \"#c51b7d\"], [0.2, \"#de77ae\"], [0.3, \"#f1b6da\"], [0.4, \"#fde0ef\"], [0.5, \"#f7f7f7\"], [0.6, \"#e6f5d0\"], [0.7, \"#b8e186\"], [0.8, \"#7fbc41\"], [0.9, \"#4d9221\"], [1, \"#276419\"]], \"sequential\": [[0.0, \"#0d0887\"], [0.1111111111111111, \"#46039f\"], [0.2222222222222222, \"#7201a8\"], [0.3333333333333333, \"#9c179e\"], [0.4444444444444444, \"#bd3786\"], [0.5555555555555556, \"#d8576b\"], [0.6666666666666666, \"#ed7953\"], [0.7777777777777778, \"#fb9f3a\"], [0.8888888888888888, \"#fdca26\"], [1.0, \"#f0f921\"]], \"sequentialminus\": [[0.0, \"#0d0887\"], [0.1111111111111111, \"#46039f\"], [0.2222222222222222, \"#7201a8\"], [0.3333333333333333, \"#9c179e\"], [0.4444444444444444, \"#bd3786\"], [0.5555555555555556, \"#d8576b\"], [0.6666666666666666, \"#ed7953\"], [0.7777777777777778, \"#fb9f3a\"], [0.8888888888888888, \"#fdca26\"], [1.0, \"#f0f921\"]]}, \"colorway\": [\"#636efa\", \"#EF553B\", \"#00cc96\", \"#ab63fa\", \"#FFA15A\", \"#19d3f3\", \"#FF6692\", \"#B6E880\", \"#FF97FF\", \"#FECB52\"], \"font\": {\"color\": \"#f2f5fa\"}, \"geo\": {\"bgcolor\": \"rgb(17,17,17)\", \"lakecolor\": \"rgb(17,17,17)\", \"landcolor\": \"rgb(17,17,17)\", \"showlakes\": true, \"showland\": true, \"subunitcolor\": \"#506784\"}, \"hoverlabel\": {\"align\": \"left\"}, \"hovermode\": \"closest\", \"mapbox\": {\"style\": \"dark\"}, \"paper_bgcolor\": \"rgb(17,17,17)\", \"plot_bgcolor\": \"rgb(17,17,17)\", \"polar\": {\"angularaxis\": {\"gridcolor\": \"#506784\", \"linecolor\": \"#506784\", \"ticks\": \"\"}, \"bgcolor\": \"rgb(17,17,17)\", \"radialaxis\": {\"gridcolor\": \"#506784\", \"linecolor\": \"#506784\", \"ticks\": \"\"}}, \"scene\": {\"xaxis\": {\"backgroundcolor\": \"rgb(17,17,17)\", \"gridcolor\": \"#506784\", \"gridwidth\": 2, \"linecolor\": \"#506784\", \"showbackground\": true, \"ticks\": \"\", \"zerolinecolor\": \"#C8D4E3\"}, \"yaxis\": {\"backgroundcolor\": \"rgb(17,17,17)\", \"gridcolor\": \"#506784\", \"gridwidth\": 2, \"linecolor\": \"#506784\", \"showbackground\": true, \"ticks\": \"\", \"zerolinecolor\": \"#C8D4E3\"}, \"zaxis\": {\"backgroundcolor\": \"rgb(17,17,17)\", \"gridcolor\": \"#506784\", \"gridwidth\": 2, \"linecolor\": \"#506784\", \"showbackground\": true, \"ticks\": \"\", \"zerolinecolor\": \"#C8D4E3\"}}, \"shapedefaults\": {\"line\": {\"color\": \"#f2f5fa\"}}, \"sliderdefaults\": {\"bgcolor\": \"#C8D4E3\", \"bordercolor\": \"rgb(17,17,17)\", \"borderwidth\": 1, \"tickwidth\": 0}, \"ternary\": {\"aaxis\": {\"gridcolor\": \"#506784\", \"linecolor\": \"#506784\", \"ticks\": \"\"}, \"baxis\": {\"gridcolor\": \"#506784\", \"linecolor\": \"#506784\", \"ticks\": \"\"}, \"bgcolor\": \"rgb(17,17,17)\", \"caxis\": {\"gridcolor\": \"#506784\", \"linecolor\": \"#506784\", \"ticks\": \"\"}}, \"title\": {\"x\": 0.05}, \"updatemenudefaults\": {\"bgcolor\": \"#506784\", \"borderwidth\": 0}, \"xaxis\": {\"automargin\": true, \"gridcolor\": \"#283442\", \"linecolor\": \"#506784\", \"ticks\": \"\", \"title\": {\"standoff\": 15}, \"zerolinecolor\": \"#283442\", \"zerolinewidth\": 2}, \"yaxis\": {\"automargin\": true, \"gridcolor\": \"#283442\", \"linecolor\": \"#506784\", \"ticks\": \"\", \"title\": {\"standoff\": 15}, \"zerolinecolor\": \"#283442\", \"zerolinewidth\": 2}}}, \"title\": {\"text\": \"Assets vs Liabilities for the Winning Politicians\"}, \"xaxis\": {\"anchor\": \"y\", \"domain\": [0.0, 1.0], \"title\": {\"text\": \"x\"}}, \"yaxis\": {\"anchor\": \"x\", \"domain\": [0.0, 1.0], \"title\": {\"text\": \"y\"}}},                        {\"responsive\": true}                    ).then(function(){\n",
       "                            \n",
       "var gd = document.getElementById('2b1b0c8f-e2f4-4e68-9e56-7b3373322061');\n",
       "var x = new MutationObserver(function (mutations, observer) {{\n",
       "        var display = window.getComputedStyle(gd).display;\n",
       "        if (!display || display === 'none') {{\n",
       "            console.log([gd, 'removed!']);\n",
       "            Plotly.purge(gd);\n",
       "            observer.disconnect();\n",
       "        }}\n",
       "}});\n",
       "\n",
       "// Listen for the removal of the full notebook cells\n",
       "var notebookContainer = gd.closest('#notebook-container');\n",
       "if (notebookContainer) {{\n",
       "    x.observe(notebookContainer, {childList: true});\n",
       "}}\n",
       "\n",
       "// Listen for the clearing of the current output cell\n",
       "var outputEl = gd.closest('.output');\n",
       "if (outputEl) {{\n",
       "    x.observe(outputEl, {childList: true});\n",
       "}}\n",
       "\n",
       "                        })                };                });            </script>        </div>"
      ]
     },
     "metadata": {},
     "output_type": "display_data"
    }
   ],
   "source": [
    "df_not_winner = dataset[dataset.WINNER == 0]\n",
    "df_winner = dataset[dataset.WINNER == 1]\n",
    "df_winner_upsampled = resample(df_winner, replace = True,n_samples = 1452, random_state = 0) \n",
    "df_total_upsampled = pd.concat([df_not_winner, df_winner_upsampled])\n",
    "df_total_upsampled.WINNER.value_counts()\n",
    "y = df_total_upsampled['WINNER']\n",
    "X = df_total_upsampled.drop(['WINNER'], axis = 1)\n",
    "rf_scores = []\n",
    "for k in range(1,60):\n",
    "    randomforest_classifier= RandomForestClassifier(n_estimators=k,random_state=0)\n",
    "    score=cross_val_score(randomforest_classifier,X,y,cv=10)\n",
    "    rf_scores.append(score.mean())\n",
    "fig=px.scatter(x=[k for k in range(1, 60)],y= rf_scores,color=rf_scores,size=rf_scores)\n",
    "fig.update_layout(title_text='Assets vs Liabilities for the Winning Politicians',template='plotly_dark')\n",
    "fig.show()"
   ]
  },
  {
   "cell_type": "markdown",
   "metadata": {},
   "source": [
    "**Observation** As seen from the above scatter plot, for tge value of k=38, we get the highest accuracy values. We shall be using the same for our model's prediction"
   ]
  },
  {
   "cell_type": "code",
   "execution_count": 31,
   "metadata": {
    "execution": {
     "iopub.execute_input": "2025-03-02T16:13:12.305441Z",
     "iopub.status.busy": "2025-03-02T16:13:12.305172Z",
     "iopub.status.idle": "2025-03-02T16:13:13.622811Z",
     "shell.execute_reply": "2025-03-02T16:13:13.621975Z",
     "shell.execute_reply.started": "2025-03-02T16:13:12.305391Z"
    },
    "trusted": true
   },
   "outputs": [
    {
     "name": "stdout",
     "output_type": "stream",
     "text": [
      "% Accuracy : 95.7009\n"
     ]
    }
   ],
   "source": [
    "randomforest_classifier= RandomForestClassifier(n_estimators=38,random_state=0)\n",
    "score=cross_val_score(randomforest_classifier,X,y,cv=10)\n",
    "print('% Accuracy :', round(score.mean()*100,4))"
   ]
  },
  {
   "cell_type": "code",
   "execution_count": 32,
   "metadata": {
    "execution": {
     "iopub.execute_input": "2025-03-02T16:13:13.627655Z",
     "iopub.status.busy": "2025-03-02T16:13:13.627385Z",
     "iopub.status.idle": "2025-03-02T16:13:13.631380Z",
     "shell.execute_reply": "2025-03-02T16:13:13.630483Z",
     "shell.execute_reply.started": "2025-03-02T16:13:13.627629Z"
    },
    "trusted": true
   },
   "outputs": [],
   "source": [
    "from sklearn.linear_model import LogisticRegression\n",
    "from sklearn.tree import DecisionTreeClassifier"
   ]
  },
  {
   "cell_type": "code",
   "execution_count": 33,
   "metadata": {
    "execution": {
     "iopub.execute_input": "2025-03-02T16:13:13.633126Z",
     "iopub.status.busy": "2025-03-02T16:13:13.632772Z",
     "iopub.status.idle": "2025-03-02T16:13:13.646261Z",
     "shell.execute_reply": "2025-03-02T16:13:13.645715Z",
     "shell.execute_reply.started": "2025-03-02T16:13:13.633091Z"
    },
    "trusted": true
   },
   "outputs": [],
   "source": [
    "from sklearn.model_selection import train_test_split\n",
    "\n",
    "X_train,X_test,y_train,y_test = train_test_split(X,y,random_state=45,test_size=0.2)"
   ]
  },
  {
   "cell_type": "code",
   "execution_count": 34,
   "metadata": {
    "execution": {
     "iopub.execute_input": "2025-03-02T16:13:13.647912Z",
     "iopub.status.busy": "2025-03-02T16:13:13.647592Z",
     "iopub.status.idle": "2025-03-02T16:13:13.656630Z",
     "shell.execute_reply": "2025-03-02T16:13:13.655997Z",
     "shell.execute_reply.started": "2025-03-02T16:13:13.647880Z"
    },
    "trusted": true
   },
   "outputs": [],
   "source": [
    "from sklearn.model_selection import train_test_split\n",
    "from sklearn.metrics import ( \n",
    "                              classification_report,\n",
    "                             )"
   ]
  },
  {
   "cell_type": "code",
   "execution_count": 35,
   "metadata": {
    "execution": {
     "iopub.execute_input": "2025-03-02T16:13:13.657959Z",
     "iopub.status.busy": "2025-03-02T16:13:13.657746Z",
     "iopub.status.idle": "2025-03-02T16:13:13.709843Z",
     "shell.execute_reply": "2025-03-02T16:13:13.709109Z",
     "shell.execute_reply.started": "2025-03-02T16:13:13.657939Z"
    },
    "trusted": true
   },
   "outputs": [
    {
     "name": "stdout",
     "output_type": "stream",
     "text": [
      "********************\n",
      "test accuracy: 0.919931856899489\n",
      "train accuracy: 0.9048634812286689\n",
      "********************\n",
      "              precision    recall  f1-score   support\n",
      "\n",
      "           0       0.96      0.86      0.91       273\n",
      "           1       0.89      0.97      0.93       314\n",
      "\n",
      "    accuracy                           0.92       587\n",
      "   macro avg       0.93      0.92      0.92       587\n",
      "weighted avg       0.92      0.92      0.92       587\n",
      "\n",
      "********************\n",
      "91.99% Accurate\n"
     ]
    }
   ],
   "source": [
    "LR = LogisticRegression()\n",
    "LR.fit(X_train, y_train)\n",
    "\n",
    "\n",
    "# prediction\n",
    "train_prediction= LR.predict(X_train)\n",
    "test_prediction= LR.predict(X_test)\n",
    "print('*'*20)\n",
    "\n",
    "# evaluation\n",
    "from sklearn.metrics import accuracy_score\n",
    "print('test accuracy:',accuracy_score(y_test,test_prediction))\n",
    "print('train accuracy:',accuracy_score(y_train,train_prediction))\n",
    "print('*'*20)\n",
    "\n",
    "\n",
    "\n",
    "print(classification_report(y_test,test_prediction))\n",
    "\n",
    "print('*'*20)\n",
    "\n",
    "\n",
    "lr_HSC = accuracy_score(y_test,test_prediction)\n",
    "print(f\"{round(lr_HSC*100,2)}% Accurate\")"
   ]
  },
  {
   "cell_type": "code",
   "execution_count": 36,
   "metadata": {
    "execution": {
     "iopub.execute_input": "2025-03-02T16:13:13.711218Z",
     "iopub.status.busy": "2025-03-02T16:13:13.710861Z",
     "iopub.status.idle": "2025-03-02T16:13:13.741347Z",
     "shell.execute_reply": "2025-03-02T16:13:13.740638Z",
     "shell.execute_reply.started": "2025-03-02T16:13:13.711179Z"
    },
    "trusted": true
   },
   "outputs": [
    {
     "name": "stdout",
     "output_type": "stream",
     "text": [
      "********************\n",
      "********************\n",
      "Train accuracy: 1.0\n",
      "Test accuracy: 0.9540034071550255\n",
      "********************\n",
      "********************\n",
      "              precision    recall  f1-score   support\n",
      "\n",
      "           0       0.97      0.93      0.95       273\n",
      "           1       0.94      0.98      0.96       314\n",
      "\n",
      "    accuracy                           0.95       587\n",
      "   macro avg       0.96      0.95      0.95       587\n",
      "weighted avg       0.95      0.95      0.95       587\n",
      "\n",
      "********************\n",
      "95.4% Accurate\n",
      "********************\n"
     ]
    }
   ],
   "source": [
    "\n",
    "\n",
    "DT = DecisionTreeClassifier(random_state=42)\n",
    "DT.fit(X_train, y_train)\n",
    "from sklearn.model_selection import cross_val_score\n",
    "\n",
    "# y_predict = DT.predict(X_test)\n",
    "print('*'*20)\n",
    "\n",
    "# prediction\n",
    "train_pred=DT.predict(X_train)\n",
    "test_pred= DT.predict(X_test)\n",
    "print('*'*20)\n",
    "# accuracy\n",
    "print('Train accuracy:' , accuracy_score(y_train,train_pred))\n",
    "print('Test accuracy:' , accuracy_score(y_test,test_pred))\n",
    "\n",
    "print('*'*20)\n",
    "\n",
    "print('*'*20)\n",
    "#  prediction Summary by species\n",
    "print(classification_report(y_test, test_pred))\n",
    "\n",
    "print('*'*20)\n",
    "# Accuracy score\n",
    "DT_SC = accuracy_score(test_pred,y_test)\n",
    "print(f\"{round(DT_SC*100,2)}% Accurate\")\n",
    "\n",
    "print('*'*20)\n"
   ]
  },
  {
   "cell_type": "code",
   "execution_count": 37,
   "metadata": {
    "execution": {
     "iopub.execute_input": "2025-03-02T16:13:13.743107Z",
     "iopub.status.busy": "2025-03-02T16:13:13.742714Z",
     "iopub.status.idle": "2025-03-02T16:13:14.117864Z",
     "shell.execute_reply": "2025-03-02T16:13:14.117168Z",
     "shell.execute_reply.started": "2025-03-02T16:13:13.743071Z"
    },
    "trusted": true
   },
   "outputs": [
    {
     "name": "stdout",
     "output_type": "stream",
     "text": [
      "********************\n",
      "********************\n",
      "test accuracy: 0.9540034071550255\n",
      "train accuracy: 1.0\n",
      "********************\n",
      "              precision    recall  f1-score   support\n",
      "\n",
      "           0       0.98      0.92      0.95       273\n",
      "           1       0.94      0.98      0.96       314\n",
      "\n",
      "    accuracy                           0.95       587\n",
      "   macro avg       0.96      0.95      0.95       587\n",
      "weighted avg       0.96      0.95      0.95       587\n",
      "\n",
      "********************\n",
      "95.4% Accurate\n"
     ]
    }
   ],
   "source": [
    "from sklearn.ensemble import RandomForestClassifier\n",
    "\n",
    "rfc=RandomForestClassifier(random_state=42)\n",
    "rfc.fit(X_train,y_train)\n",
    "print('*'*20)\n",
    "\n",
    "# prediction\n",
    "train_prediction= rfc.predict(X_train)\n",
    "test_prediction= rfc.predict(X_test)\n",
    "print('*'*20)\n",
    "\n",
    "# evaluation\n",
    "from sklearn.metrics import accuracy_score\n",
    "print('test accuracy:',accuracy_score(y_test,test_prediction))\n",
    "print('train accuracy:',accuracy_score(y_train,train_prediction))\n",
    "print('*'*20)\n",
    "\n",
    "#  prediction Summary by species\n",
    "print(classification_report(y_test, test_prediction))\n",
    "print('*'*20)\n",
    "\n",
    "# Accuracy score\n",
    "RF_SC = accuracy_score(test_prediction,y_test)\n",
    "print(f\"{round(RF_SC*100,2)}% Accurate\")"
   ]
  },
  {
   "cell_type": "code",
   "execution_count": 38,
   "metadata": {
    "execution": {
     "iopub.execute_input": "2025-03-02T16:13:14.119226Z",
     "iopub.status.busy": "2025-03-02T16:13:14.119014Z",
     "iopub.status.idle": "2025-03-02T16:13:14.128765Z",
     "shell.execute_reply": "2025-03-02T16:13:14.127958Z",
     "shell.execute_reply.started": "2025-03-02T16:13:14.119204Z"
    },
    "trusted": true
   },
   "outputs": [
    {
     "data": {
      "text/html": [
       "<div>\n",
       "<style scoped>\n",
       "    .dataframe tbody tr th:only-of-type {\n",
       "        vertical-align: middle;\n",
       "    }\n",
       "\n",
       "    .dataframe tbody tr th {\n",
       "        vertical-align: top;\n",
       "    }\n",
       "\n",
       "    .dataframe thead th {\n",
       "        text-align: right;\n",
       "    }\n",
       "</style>\n",
       "<table border=\"1\" class=\"dataframe\">\n",
       "  <thead>\n",
       "    <tr style=\"text-align: right;\">\n",
       "      <th></th>\n",
       "      <th>Model</th>\n",
       "      <th>Score</th>\n",
       "    </tr>\n",
       "  </thead>\n",
       "  <tbody>\n",
       "    <tr>\n",
       "      <th>0</th>\n",
       "      <td>Decision Tree</td>\n",
       "      <td>0.954003</td>\n",
       "    </tr>\n",
       "    <tr>\n",
       "      <th>1</th>\n",
       "      <td>Random Forest</td>\n",
       "      <td>0.954003</td>\n",
       "    </tr>\n",
       "    <tr>\n",
       "      <th>2</th>\n",
       "      <td>logistic Regression</td>\n",
       "      <td>0.919932</td>\n",
       "    </tr>\n",
       "  </tbody>\n",
       "</table>\n",
       "</div>"
      ],
      "text/plain": [
       "                 Model     Score\n",
       "0        Decision Tree  0.954003\n",
       "1        Random Forest  0.954003\n",
       "2  logistic Regression  0.919932"
      ]
     },
     "execution_count": 38,
     "metadata": {},
     "output_type": "execute_result"
    }
   ],
   "source": [
    "score = [DT_SC,RF_SC,lr_HSC]\n",
    "Models = pd.DataFrame({\n",
    "    'Model': [\"Decision Tree\",\"Random Forest\", \"logistic Regression\"],\n",
    "    'Score': score})\n",
    "Models.sort_values(by='Score', ascending=False)"
   ]
  },
  {
   "cell_type": "code",
   "execution_count": 39,
   "metadata": {
    "execution": {
     "iopub.execute_input": "2025-03-02T16:13:14.130220Z",
     "iopub.status.busy": "2025-03-02T16:13:14.129986Z",
     "iopub.status.idle": "2025-03-02T16:13:14.251989Z",
     "shell.execute_reply": "2025-03-02T16:13:14.251229Z",
     "shell.execute_reply.started": "2025-03-02T16:13:14.130196Z"
    },
    "trusted": true
   },
   "outputs": [
    {
     "data": {
      "image/png": "[encoded data removed]",
      "text/plain": [
       "<Figure size 720x432 with 1 Axes>"
      ]
     },
     "metadata": {
      "needs_background": "light"
     },
     "output_type": "display_data"
    }
   ],
   "source": [
    "import matplotlib.pyplot as plt\n",
    "import pandas as pd\n",
    "\n",
    "# Assuming score and Models are already defined as per your code\n",
    "\n",
    "# Create a DataFrame\n",
    "Models = pd.DataFrame({\n",
    "    'Model': [\"Decision Tree\",\"Random Forest\", \"logistic Regression\"],'Score': score\n",
    "})\n",
    "\n",
    "# Sort the DataFrame by 'Score' in descending order\n",
    "Models_sorted = Models.sort_values(by='Score', ascending=False)\n",
    "\n",
    "# Plotting the bar graph\n",
    "plt.figure(figsize=(10, 6))\n",
    "plt.bar(Models_sorted['Model'], Models_sorted['Score'], color='red')\n",
    "plt.xlabel('Model')\n",
    "plt.ylabel('Score')\n",
    "plt.title('Model Scores')\n",
    "plt.xticks(rotation=45, ha='right')  # Rotate x-axis labels for better readability\n",
    "plt.tight_layout()\n",
    "\n",
    "# Show the plot\n",
    "plt.show()\n"
   ]
  },
  {
   "cell_type": "code",
   "execution_count": 40,
   "metadata": {
    "execution": {
     "iopub.execute_input": "2025-03-02T16:13:14.253001Z",
     "iopub.status.busy": "2025-03-02T16:13:14.252795Z",
     "iopub.status.idle": "2025-03-02T16:13:14.271446Z",
     "shell.execute_reply": "2025-03-02T16:13:14.270780Z",
     "shell.execute_reply.started": "2025-03-02T16:13:14.252979Z"
    },
    "trusted": true
   },
   "outputs": [
    {
     "data": {
      "text/html": [
       "<div>\n",
       "<style scoped>\n",
       "    .dataframe tbody tr th:only-of-type {\n",
       "        vertical-align: middle;\n",
       "    }\n",
       "\n",
       "    .dataframe tbody tr th {\n",
       "        vertical-align: top;\n",
       "    }\n",
       "\n",
       "    .dataframe thead th {\n",
       "        text-align: right;\n",
       "    }\n",
       "</style>\n",
       "<table border=\"1\" class=\"dataframe\">\n",
       "  <thead>\n",
       "    <tr style=\"text-align: right;\">\n",
       "      <th></th>\n",
       "      <th>feature importance</th>\n",
       "    </tr>\n",
       "  </thead>\n",
       "  <tbody>\n",
       "    <tr>\n",
       "      <th>PARTY</th>\n",
       "      <td>0.154718</td>\n",
       "    </tr>\n",
       "    <tr>\n",
       "      <th>GENDER</th>\n",
       "      <td>0.003338</td>\n",
       "    </tr>\n",
       "    <tr>\n",
       "      <th>CRIMINAL CASES</th>\n",
       "      <td>0.027143</td>\n",
       "    </tr>\n",
       "    <tr>\n",
       "      <th>AGE</th>\n",
       "      <td>0.045110</td>\n",
       "    </tr>\n",
       "    <tr>\n",
       "      <th>CATEGORY</th>\n",
       "      <td>0.010544</td>\n",
       "    </tr>\n",
       "    <tr>\n",
       "      <th>EDUCATION</th>\n",
       "      <td>0.021830</td>\n",
       "    </tr>\n",
       "    <tr>\n",
       "      <th>TOTAL VOTES</th>\n",
       "      <td>0.532346</td>\n",
       "    </tr>\n",
       "    <tr>\n",
       "      <th>TOTAL ELECTORS</th>\n",
       "      <td>0.080739</td>\n",
       "    </tr>\n",
       "    <tr>\n",
       "      <th>ASSETS</th>\n",
       "      <td>0.078970</td>\n",
       "    </tr>\n",
       "    <tr>\n",
       "      <th>LIABILITIES</th>\n",
       "      <td>0.045263</td>\n",
       "    </tr>\n",
       "  </tbody>\n",
       "</table>\n",
       "</div>"
      ],
      "text/plain": [
       "                feature importance\n",
       "PARTY                     0.154718\n",
       "GENDER                    0.003338\n",
       "CRIMINAL CASES            0.027143\n",
       "AGE                       0.045110\n",
       "CATEGORY                  0.010544\n",
       "EDUCATION                 0.021830\n",
       "TOTAL VOTES               0.532346\n",
       "TOTAL ELECTORS            0.080739\n",
       "ASSETS                    0.078970\n",
       "LIABILITIES               0.045263"
      ]
     },
     "execution_count": 40,
     "metadata": {},
     "output_type": "execute_result"
    }
   ],
   "source": [
    "feature_importances = rfc.feature_importances_\n",
    "\n",
    "# Create DataFrame with feature importance\n",
    "imp_feature = pd.DataFrame(index=X_train.columns, data=feature_importances, columns=['feature importance'])\n",
    "\n",
    "# Display feature importance\n",
    "imp_feature"
   ]
  },
  {
   "cell_type": "markdown",
   "metadata": {},
   "source": [
    "**********Observation** We have reached an accuracy percentage of 96.21% with our model. Will work on to improve the model further- to increase the accuracy."
   ]
  },
  {
   "cell_type": "code",
   "execution_count": 41,
   "metadata": {
    "execution": {
     "iopub.execute_input": "2025-03-02T16:13:14.272708Z",
     "iopub.status.busy": "2025-03-02T16:13:14.272476Z",
     "iopub.status.idle": "2025-03-02T16:13:14.286620Z",
     "shell.execute_reply": "2025-03-02T16:13:14.285937Z",
     "shell.execute_reply.started": "2025-03-02T16:13:14.272685Z"
    },
    "trusted": true
   },
   "outputs": [],
   "source": [
    "import pickle\n",
    "#save the model\n",
    "model =rfc# Your machine learning model object\n",
    "file_path = 'voting.pkl'  # Path to the file where you want to save the model\n",
    "\n",
    "with open(file_path, 'wb') as file:\n",
    "    pickle.dump(model, file)"
   ]
  },
  {
   "cell_type": "code",
   "execution_count": 42,
   "metadata": {
    "execution": {
     "iopub.execute_input": "2025-03-02T16:13:14.287865Z",
     "iopub.status.busy": "2025-03-02T16:13:14.287662Z",
     "iopub.status.idle": "2025-03-02T16:13:14.300054Z",
     "shell.execute_reply": "2025-03-02T16:13:14.299468Z",
     "shell.execute_reply.started": "2025-03-02T16:13:14.287845Z"
    },
    "trusted": true
   },
   "outputs": [],
   "source": [
    "# load the model\n",
    "import pickle\n",
    "\n",
    "file_path = 'voting.pkl'  # Path to the saved model file\n",
    "\n",
    "with open(file_path, 'rb') as file:\n",
    "    loaded_model = pickle.load(file)"
   ]
  },
  {
   "cell_type": "code",
   "execution_count": 43,
   "metadata": {
    "execution": {
     "iopub.execute_input": "2025-03-02T16:13:14.301130Z",
     "iopub.status.busy": "2025-03-02T16:13:14.300906Z",
     "iopub.status.idle": "2025-03-02T16:13:14.319908Z",
     "shell.execute_reply": "2025-03-02T16:13:14.319211Z",
     "shell.execute_reply.started": "2025-03-02T16:13:14.301092Z"
    },
    "trusted": true
   },
   "outputs": [
    {
     "data": {
      "text/html": [
       "<div>\n",
       "<style scoped>\n",
       "    .dataframe tbody tr th:only-of-type {\n",
       "        vertical-align: middle;\n",
       "    }\n",
       "\n",
       "    .dataframe tbody tr th {\n",
       "        vertical-align: top;\n",
       "    }\n",
       "\n",
       "    .dataframe thead th {\n",
       "        text-align: right;\n",
       "    }\n",
       "</style>\n",
       "<table border=\"1\" class=\"dataframe\">\n",
       "  <thead>\n",
       "    <tr style=\"text-align: right;\">\n",
       "      <th></th>\n",
       "      <th>PARTY</th>\n",
       "      <th>GENDER</th>\n",
       "      <th>CRIMINAL CASES</th>\n",
       "      <th>AGE</th>\n",
       "      <th>CATEGORY</th>\n",
       "      <th>EDUCATION</th>\n",
       "      <th>TOTAL VOTES</th>\n",
       "      <th>TOTAL ELECTORS</th>\n",
       "      <th>ASSETS</th>\n",
       "      <th>LIABILITIES</th>\n",
       "    </tr>\n",
       "  </thead>\n",
       "  <tbody>\n",
       "    <tr>\n",
       "      <th>73</th>\n",
       "      <td>3</td>\n",
       "      <td>1</td>\n",
       "      <td>0</td>\n",
       "      <td>46.0</td>\n",
       "      <td>1</td>\n",
       "      <td>1</td>\n",
       "      <td>445032</td>\n",
       "      <td>1507875</td>\n",
       "      <td>34011739</td>\n",
       "      <td>9031565</td>\n",
       "    </tr>\n",
       "    <tr>\n",
       "      <th>630</th>\n",
       "      <td>1</td>\n",
       "      <td>1</td>\n",
       "      <td>1</td>\n",
       "      <td>56.0</td>\n",
       "      <td>1</td>\n",
       "      <td>4</td>\n",
       "      <td>684837</td>\n",
       "      <td>1727311</td>\n",
       "      <td>111384447</td>\n",
       "      <td>51736254</td>\n",
       "    </tr>\n",
       "    <tr>\n",
       "      <th>915</th>\n",
       "      <td>4</td>\n",
       "      <td>1</td>\n",
       "      <td>0</td>\n",
       "      <td>78.0</td>\n",
       "      <td>2</td>\n",
       "      <td>2</td>\n",
       "      <td>12873</td>\n",
       "      <td>1819893</td>\n",
       "      <td>520000</td>\n",
       "      <td>0</td>\n",
       "    </tr>\n",
       "    <tr>\n",
       "      <th>1643</th>\n",
       "      <td>18</td>\n",
       "      <td>1</td>\n",
       "      <td>1</td>\n",
       "      <td>39.0</td>\n",
       "      <td>1</td>\n",
       "      <td>6</td>\n",
       "      <td>10801</td>\n",
       "      <td>1633824</td>\n",
       "      <td>948960</td>\n",
       "      <td>71325</td>\n",
       "    </tr>\n",
       "    <tr>\n",
       "      <th>2243</th>\n",
       "      <td>1</td>\n",
       "      <td>1</td>\n",
       "      <td>0</td>\n",
       "      <td>65.0</td>\n",
       "      <td>1</td>\n",
       "      <td>6</td>\n",
       "      <td>578364</td>\n",
       "      <td>1743283</td>\n",
       "      <td>65807822</td>\n",
       "      <td>8961387</td>\n",
       "    </tr>\n",
       "    <tr>\n",
       "      <th>...</th>\n",
       "      <td>...</td>\n",
       "      <td>...</td>\n",
       "      <td>...</td>\n",
       "      <td>...</td>\n",
       "      <td>...</td>\n",
       "      <td>...</td>\n",
       "      <td>...</td>\n",
       "      <td>...</td>\n",
       "      <td>...</td>\n",
       "      <td>...</td>\n",
       "    </tr>\n",
       "    <tr>\n",
       "      <th>253</th>\n",
       "      <td>18</td>\n",
       "      <td>1</td>\n",
       "      <td>0</td>\n",
       "      <td>46.0</td>\n",
       "      <td>1</td>\n",
       "      <td>1</td>\n",
       "      <td>17025</td>\n",
       "      <td>1699394</td>\n",
       "      <td>7341490</td>\n",
       "      <td>0</td>\n",
       "    </tr>\n",
       "    <tr>\n",
       "      <th>939</th>\n",
       "      <td>21</td>\n",
       "      <td>1</td>\n",
       "      <td>0</td>\n",
       "      <td>82.0</td>\n",
       "      <td>2</td>\n",
       "      <td>8</td>\n",
       "      <td>366221</td>\n",
       "      <td>1617018</td>\n",
       "      <td>38633246</td>\n",
       "      <td>2297303</td>\n",
       "    </tr>\n",
       "    <tr>\n",
       "      <th>574</th>\n",
       "      <td>18</td>\n",
       "      <td>1</td>\n",
       "      <td>0</td>\n",
       "      <td>56.0</td>\n",
       "      <td>3</td>\n",
       "      <td>4</td>\n",
       "      <td>90421</td>\n",
       "      <td>250029</td>\n",
       "      <td>708885980</td>\n",
       "      <td>37268162</td>\n",
       "    </tr>\n",
       "    <tr>\n",
       "      <th>1112</th>\n",
       "      <td>3</td>\n",
       "      <td>2</td>\n",
       "      <td>0</td>\n",
       "      <td>43.0</td>\n",
       "      <td>1</td>\n",
       "      <td>2</td>\n",
       "      <td>695697</td>\n",
       "      <td>1387286</td>\n",
       "      <td>6046055</td>\n",
       "      <td>379000</td>\n",
       "    </tr>\n",
       "    <tr>\n",
       "      <th>1861</th>\n",
       "      <td>20</td>\n",
       "      <td>1</td>\n",
       "      <td>0</td>\n",
       "      <td>45.0</td>\n",
       "      <td>1</td>\n",
       "      <td>1</td>\n",
       "      <td>413561</td>\n",
       "      <td>1529431</td>\n",
       "      <td>16427274</td>\n",
       "      <td>0</td>\n",
       "    </tr>\n",
       "  </tbody>\n",
       "</table>\n",
       "<p>2344 rows × 10 columns</p>\n",
       "</div>"
      ],
      "text/plain": [
       "      PARTY  GENDER  CRIMINAL CASES   AGE  CATEGORY  EDUCATION  TOTAL VOTES  \\\n",
       "73        3       1               0  46.0         1          1       445032   \n",
       "630       1       1               1  56.0         1          4       684837   \n",
       "915       4       1               0  78.0         2          2        12873   \n",
       "1643     18       1               1  39.0         1          6        10801   \n",
       "2243      1       1               0  65.0         1          6       578364   \n",
       "...     ...     ...             ...   ...       ...        ...          ...   \n",
       "253      18       1               0  46.0         1          1        17025   \n",
       "939      21       1               0  82.0         2          8       366221   \n",
       "574      18       1               0  56.0         3          4        90421   \n",
       "1112      3       2               0  43.0         1          2       695697   \n",
       "1861     20       1               0  45.0         1          1       413561   \n",
       "\n",
       "      TOTAL ELECTORS     ASSETS  LIABILITIES  \n",
       "73           1507875   34011739      9031565  \n",
       "630          1727311  111384447     51736254  \n",
       "915          1819893     520000            0  \n",
       "1643         1633824     948960        71325  \n",
       "2243         1743283   65807822      8961387  \n",
       "...              ...        ...          ...  \n",
       "253          1699394    7341490            0  \n",
       "939          1617018   38633246      2297303  \n",
       "574           250029  708885980     37268162  \n",
       "1112         1387286    6046055       379000  \n",
       "1861         1529431   16427274            0  \n",
       "\n",
       "[2344 rows x 10 columns]"
      ]
     },
     "execution_count": 43,
     "metadata": {},
     "output_type": "execute_result"
    }
   ],
   "source": [
    "X_train"
   ]
  },
  {
   "cell_type": "code",
   "execution_count": 44,
   "metadata": {
    "execution": {
     "iopub.execute_input": "2025-03-02T16:13:14.321200Z",
     "iopub.status.busy": "2025-03-02T16:13:14.320908Z",
     "iopub.status.idle": "2025-03-02T16:13:14.339305Z",
     "shell.execute_reply": "2025-03-02T16:13:14.338609Z",
     "shell.execute_reply.started": "2025-03-02T16:13:14.321176Z"
    },
    "trusted": true
   },
   "outputs": [
    {
     "data": {
      "text/plain": [
       "array([1])"
      ]
     },
     "execution_count": 44,
     "metadata": {},
     "output_type": "execute_result"
    }
   ],
   "source": [
    "loaded_model.predict([['3','1','0','46','1','1','445032','1507875','34011739','9031565']])"
   ]
  },
  {
   "cell_type": "code",
   "execution_count": null,
   "metadata": {
    "trusted": true
   },
   "outputs": [],
   "source": []
  },
  {
   "cell_type": "code",
   "execution_count": null,
   "metadata": {
    "trusted": true
   },
   "outputs": [],
   "source": []
  },
  {
   "cell_type": "markdown",
   "metadata": {},
   "source": [
    "# Summary"
   ]
  },
  {
   "cell_type": "markdown",
   "metadata": {},
   "source": [
    "After analyzing the voting pattern of Indians, we have come upon multiple conclusions. Let us look at them in the below points:\n",
    "\n",
    "1. In 2019, the Bharatiya Janata Party (BJP) has claimed the most number of seats all over India- dominating clearly over all the national and the satte specific parties. The outreach created by them has really made them claim their position in the Lok Sabha.\n",
    "2. Gerneally, education is regarded as a significant factor while voting. Arounf 72%+ of the winners are having a gradutae + degree. This is a significant factor for a developing nation like India- where we need educated politicians to lead the nation.\n",
    "3. The general paticipation of Female politicians is much less than the male politicians. A balanced gander ratio would be good enough- as people from all sectors would be able to contribute to the progress of the society.\n",
    "4. The average age of polticians is high. It might be an advantage if younger politicians contest and are able to lead the nation. Altough is is never a parameter to think that the older politicians wouldn't be able to perform their tasks well- but it comes with the risk of health and age related issues.\n",
    "5. Criminal activities is a serious concern- as the people who are elected by us- indirectly are the face of the nation. They should be more of a role model-rather than someone who is not respected.\n",
    "6. As our prediction suggestes, we have reached an accuracy of 96.2% in estimating the winning participants using Random classifier model. I shall work upon to improve this model further in the future updates\n",
    "\n",
    "# About the data\n",
    "\n",
    "1. The data is very good- cleaned and well presented. Need to just have some further checks upon the validity. I have found some discrepancies in the data which I will be sharing.\n",
    "2. Some data types and columns needed basic cleaning which we have done as seen above.\n",
    "3. Overall it gives us a good sense about Indian poltical scenerio and what factors should we consider while we choose our representative. Its our reponsibility to choose the right candidates, such that they can make the difference!\n",
    "\n",
    "# Please upvote if you liked the Analysis!!!"
   ]
  }
 ],
 "metadata": {
  "kaggle": {
   "accelerator": "gpu",
   "dataSources": [
    {
     "datasetId": 536270,
     "sourceId": 983499,
     "sourceType": "datasetVersion"
    },
    {
     "datasetId": 621053,
     "sourceId": 1108357,
     "sourceType": "datasetVersion"
    }
   ],
   "dockerImageVersionId": 30014,
   "isGpuEnabled": true,
   "isInternetEnabled": true,
   "language": "python",
   "sourceType": "notebook"
  },
  "kernelspec": {
   "display_name": "Python 3",
   "language": "python",
   "name": "python3"
  },
  "language_info": {
   "codemirror_mode": {
    "name": "ipython",
    "version": 3
   },
   "file_extension": ".py",
   "mimetype": "text/x-python",
   "name": "python",
   "nbconvert_exporter": "python",
   "pygments_lexer": "ipython3",
   "version": "3.7.6"
  }
 },
 "nbformat": 4,
 "nbformat_minor": 4
}
